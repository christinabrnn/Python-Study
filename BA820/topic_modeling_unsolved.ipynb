{
  "nbformat": 4,
  "nbformat_minor": 0,
  "metadata": {
    "colab": {
      "provenance": [],
      "collapsed_sections": [
        "sK5q9BVK4Ay1"
      ],
      "include_colab_link": true
    },
    "kernelspec": {
      "name": "python3",
      "display_name": "Python 3"
    },
    "language_info": {
      "name": "python"
    }
  },
  "cells": [
    {
      "cell_type": "markdown",
      "metadata": {
        "id": "view-in-github",
        "colab_type": "text"
      },
      "source": [
        "<a href=\"https://colab.research.google.com/github/christinabrnn/Python-Study/blob/main/BA820/topic_modeling_unsolved.ipynb\" target=\"_parent\"><img src=\"https://colab.research.google.com/assets/colab-badge.svg\" alt=\"Open In Colab\"/></a>"
      ]
    },
    {
      "cell_type": "markdown",
      "source": [
        "\n",
        "**Course: BA820 - Unsupervised and Unstructured ML**\n",
        "\n",
        "**Notebook created by: Mohannad Elhamod**"
      ],
      "metadata": {
        "id": "C3GExSCjv1Jz"
      }
    },
    {
      "cell_type": "markdown",
      "source": [
        "# Book Rating Dataset"
      ],
      "metadata": {
        "id": "5hueGX_ZwKaN"
      }
    },
    {
      "cell_type": "markdown",
      "source": [
        "In this notebook, we will explore a dataset of individual book ratings from [BookCrossing](https://github.com/ipudu/book-rating-database?tab=readme-ov-file) and apply Topic Modeling to extract insights. Specifically, we aim to:  \n",
        "\n",
        "- Identify different reading preferences and trends.  \n",
        "- Generate book recommendations based on these insights.  "
      ],
      "metadata": {
        "id": "0BIYItAlw0o5"
      }
    },
    {
      "cell_type": "markdown",
      "source": [
        "## Loading The Data"
      ],
      "metadata": {
        "id": "KdRFU5SNwDxd"
      }
    },
    {
      "cell_type": "code",
      "execution_count": null,
      "metadata": {
        "id": "FHqbMa4ppfcg"
      },
      "outputs": [],
      "source": [
        "import pandas as pd\n",
        "\n",
        "# Load books data\n",
        "books = pd.read_csv('https://github.com/zygmuntz/goodbooks-10k/raw/refs/heads/master/books.csv', on_bad_lines='skip')\n",
        "\n",
        "# Load ratings data\n",
        "ratings = pd.read_csv('https://github.com/zygmuntz/goodbooks-10k/raw/refs/heads/master/ratings.csv',  on_bad_lines='skip')\n",
        "\n",
        "# Select columns\n",
        "books=books[[\"book_id\", \"authors\", \"original_publication_year\" , \"original_title\"]].set_index(\"book_id\")\n",
        "ratings=ratings[[\"book_id\", \"user_id\", \"rating\"]]\n",
        "\n",
        "\n",
        "# Filter to popukar books\n",
        "book_counts = ratings[\"book_id\"].value_counts()\n",
        "valid_books = book_counts[book_counts >= 185].index\n",
        "ratings = ratings[ratings[\"book_id\"].isin(valid_books)]\n",
        "\n",
        "# Filter to avid readers\n",
        "user_counts = ratings[\"user_id\"].value_counts()\n",
        "valid_users = user_counts[user_counts >= 185].index\n",
        "ratings = ratings[ratings[\"user_id\"].isin(valid_users)]"
      ]
    },
    {
      "cell_type": "code",
      "source": [
        "books_filtered = books[books.index.isin(valid_books)]\n",
        "books_filtered"
      ],
      "metadata": {
        "colab": {
          "base_uri": "https://localhost:8080/",
          "height": 454
        },
        "id": "Vqipw50iDkFJ",
        "outputId": "c2cd2815-9a4e-4886-8774-337c3d240575"
      },
      "execution_count": null,
      "outputs": [
        {
          "output_type": "execute_result",
          "data": {
            "text/plain": [
              "                                        authors  original_publication_year  \\\n",
              "book_id                                                                      \n",
              "1                               Suzanne Collins                     2008.0   \n",
              "2                   J.K. Rowling, Mary GrandPré                     1997.0   \n",
              "3                               Stephenie Meyer                     2005.0   \n",
              "4                                    Harper Lee                     1960.0   \n",
              "5                           F. Scott Fitzgerald                     1925.0   \n",
              "...                                         ...                        ...   \n",
              "9761                          Richard Llewellyn                     1939.0   \n",
              "9796     Else Holmelund Minarik, Maurice Sendak                     1968.0   \n",
              "9892                                  J.D. Robb                     2008.0   \n",
              "9923                               Stephen King                     1996.0   \n",
              "9995                            Herman Melville                     1924.0   \n",
              "\n",
              "                                   original_title  \n",
              "book_id                                            \n",
              "1                                The Hunger Games  \n",
              "2        Harry Potter and the Philosopher's Stone  \n",
              "3                                        Twilight  \n",
              "4                           To Kill a Mockingbird  \n",
              "5                                The Great Gatsby  \n",
              "...                                           ...  \n",
              "9761                      How Green Was My Valley  \n",
              "9796                       A Kiss for Little Bear  \n",
              "9892                           Salvation in Death  \n",
              "9923        The Green Mile, Part 5: Night Journey  \n",
              "9995                           Billy Budd, Sailor  \n",
              "\n",
              "[6537 rows x 3 columns]"
            ],
            "text/html": [
              "\n",
              "  <div id=\"df-aa93011f-97cf-46fc-bb14-2f0cda4dbb4f\" class=\"colab-df-container\">\n",
              "    <div>\n",
              "<style scoped>\n",
              "    .dataframe tbody tr th:only-of-type {\n",
              "        vertical-align: middle;\n",
              "    }\n",
              "\n",
              "    .dataframe tbody tr th {\n",
              "        vertical-align: top;\n",
              "    }\n",
              "\n",
              "    .dataframe thead th {\n",
              "        text-align: right;\n",
              "    }\n",
              "</style>\n",
              "<table border=\"1\" class=\"dataframe\">\n",
              "  <thead>\n",
              "    <tr style=\"text-align: right;\">\n",
              "      <th></th>\n",
              "      <th>authors</th>\n",
              "      <th>original_publication_year</th>\n",
              "      <th>original_title</th>\n",
              "    </tr>\n",
              "    <tr>\n",
              "      <th>book_id</th>\n",
              "      <th></th>\n",
              "      <th></th>\n",
              "      <th></th>\n",
              "    </tr>\n",
              "  </thead>\n",
              "  <tbody>\n",
              "    <tr>\n",
              "      <th>1</th>\n",
              "      <td>Suzanne Collins</td>\n",
              "      <td>2008.0</td>\n",
              "      <td>The Hunger Games</td>\n",
              "    </tr>\n",
              "    <tr>\n",
              "      <th>2</th>\n",
              "      <td>J.K. Rowling, Mary GrandPré</td>\n",
              "      <td>1997.0</td>\n",
              "      <td>Harry Potter and the Philosopher's Stone</td>\n",
              "    </tr>\n",
              "    <tr>\n",
              "      <th>3</th>\n",
              "      <td>Stephenie Meyer</td>\n",
              "      <td>2005.0</td>\n",
              "      <td>Twilight</td>\n",
              "    </tr>\n",
              "    <tr>\n",
              "      <th>4</th>\n",
              "      <td>Harper Lee</td>\n",
              "      <td>1960.0</td>\n",
              "      <td>To Kill a Mockingbird</td>\n",
              "    </tr>\n",
              "    <tr>\n",
              "      <th>5</th>\n",
              "      <td>F. Scott Fitzgerald</td>\n",
              "      <td>1925.0</td>\n",
              "      <td>The Great Gatsby</td>\n",
              "    </tr>\n",
              "    <tr>\n",
              "      <th>...</th>\n",
              "      <td>...</td>\n",
              "      <td>...</td>\n",
              "      <td>...</td>\n",
              "    </tr>\n",
              "    <tr>\n",
              "      <th>9761</th>\n",
              "      <td>Richard Llewellyn</td>\n",
              "      <td>1939.0</td>\n",
              "      <td>How Green Was My Valley</td>\n",
              "    </tr>\n",
              "    <tr>\n",
              "      <th>9796</th>\n",
              "      <td>Else Holmelund Minarik, Maurice Sendak</td>\n",
              "      <td>1968.0</td>\n",
              "      <td>A Kiss for Little Bear</td>\n",
              "    </tr>\n",
              "    <tr>\n",
              "      <th>9892</th>\n",
              "      <td>J.D. Robb</td>\n",
              "      <td>2008.0</td>\n",
              "      <td>Salvation in Death</td>\n",
              "    </tr>\n",
              "    <tr>\n",
              "      <th>9923</th>\n",
              "      <td>Stephen King</td>\n",
              "      <td>1996.0</td>\n",
              "      <td>The Green Mile, Part 5: Night Journey</td>\n",
              "    </tr>\n",
              "    <tr>\n",
              "      <th>9995</th>\n",
              "      <td>Herman Melville</td>\n",
              "      <td>1924.0</td>\n",
              "      <td>Billy Budd, Sailor</td>\n",
              "    </tr>\n",
              "  </tbody>\n",
              "</table>\n",
              "<p>6537 rows × 3 columns</p>\n",
              "</div>\n",
              "    <div class=\"colab-df-buttons\">\n",
              "\n",
              "  <div class=\"colab-df-container\">\n",
              "    <button class=\"colab-df-convert\" onclick=\"convertToInteractive('df-aa93011f-97cf-46fc-bb14-2f0cda4dbb4f')\"\n",
              "            title=\"Convert this dataframe to an interactive table.\"\n",
              "            style=\"display:none;\">\n",
              "\n",
              "  <svg xmlns=\"http://www.w3.org/2000/svg\" height=\"24px\" viewBox=\"0 -960 960 960\">\n",
              "    <path d=\"M120-120v-720h720v720H120Zm60-500h600v-160H180v160Zm220 220h160v-160H400v160Zm0 220h160v-160H400v160ZM180-400h160v-160H180v160Zm440 0h160v-160H620v160ZM180-180h160v-160H180v160Zm440 0h160v-160H620v160Z\"/>\n",
              "  </svg>\n",
              "    </button>\n",
              "\n",
              "  <style>\n",
              "    .colab-df-container {\n",
              "      display:flex;\n",
              "      gap: 12px;\n",
              "    }\n",
              "\n",
              "    .colab-df-convert {\n",
              "      background-color: #E8F0FE;\n",
              "      border: none;\n",
              "      border-radius: 50%;\n",
              "      cursor: pointer;\n",
              "      display: none;\n",
              "      fill: #1967D2;\n",
              "      height: 32px;\n",
              "      padding: 0 0 0 0;\n",
              "      width: 32px;\n",
              "    }\n",
              "\n",
              "    .colab-df-convert:hover {\n",
              "      background-color: #E2EBFA;\n",
              "      box-shadow: 0px 1px 2px rgba(60, 64, 67, 0.3), 0px 1px 3px 1px rgba(60, 64, 67, 0.15);\n",
              "      fill: #174EA6;\n",
              "    }\n",
              "\n",
              "    .colab-df-buttons div {\n",
              "      margin-bottom: 4px;\n",
              "    }\n",
              "\n",
              "    [theme=dark] .colab-df-convert {\n",
              "      background-color: #3B4455;\n",
              "      fill: #D2E3FC;\n",
              "    }\n",
              "\n",
              "    [theme=dark] .colab-df-convert:hover {\n",
              "      background-color: #434B5C;\n",
              "      box-shadow: 0px 1px 3px 1px rgba(0, 0, 0, 0.15);\n",
              "      filter: drop-shadow(0px 1px 2px rgba(0, 0, 0, 0.3));\n",
              "      fill: #FFFFFF;\n",
              "    }\n",
              "  </style>\n",
              "\n",
              "    <script>\n",
              "      const buttonEl =\n",
              "        document.querySelector('#df-aa93011f-97cf-46fc-bb14-2f0cda4dbb4f button.colab-df-convert');\n",
              "      buttonEl.style.display =\n",
              "        google.colab.kernel.accessAllowed ? 'block' : 'none';\n",
              "\n",
              "      async function convertToInteractive(key) {\n",
              "        const element = document.querySelector('#df-aa93011f-97cf-46fc-bb14-2f0cda4dbb4f');\n",
              "        const dataTable =\n",
              "          await google.colab.kernel.invokeFunction('convertToInteractive',\n",
              "                                                    [key], {});\n",
              "        if (!dataTable) return;\n",
              "\n",
              "        const docLinkHtml = 'Like what you see? Visit the ' +\n",
              "          '<a target=\"_blank\" href=https://colab.research.google.com/notebooks/data_table.ipynb>data table notebook</a>'\n",
              "          + ' to learn more about interactive tables.';\n",
              "        element.innerHTML = '';\n",
              "        dataTable['output_type'] = 'display_data';\n",
              "        await google.colab.output.renderOutput(dataTable, element);\n",
              "        const docLink = document.createElement('div');\n",
              "        docLink.innerHTML = docLinkHtml;\n",
              "        element.appendChild(docLink);\n",
              "      }\n",
              "    </script>\n",
              "  </div>\n",
              "\n",
              "\n",
              "<div id=\"df-6299e086-d070-4e96-b216-3ea466e0be83\">\n",
              "  <button class=\"colab-df-quickchart\" onclick=\"quickchart('df-6299e086-d070-4e96-b216-3ea466e0be83')\"\n",
              "            title=\"Suggest charts\"\n",
              "            style=\"display:none;\">\n",
              "\n",
              "<svg xmlns=\"http://www.w3.org/2000/svg\" height=\"24px\"viewBox=\"0 0 24 24\"\n",
              "     width=\"24px\">\n",
              "    <g>\n",
              "        <path d=\"M19 3H5c-1.1 0-2 .9-2 2v14c0 1.1.9 2 2 2h14c1.1 0 2-.9 2-2V5c0-1.1-.9-2-2-2zM9 17H7v-7h2v7zm4 0h-2V7h2v10zm4 0h-2v-4h2v4z\"/>\n",
              "    </g>\n",
              "</svg>\n",
              "  </button>\n",
              "\n",
              "<style>\n",
              "  .colab-df-quickchart {\n",
              "      --bg-color: #E8F0FE;\n",
              "      --fill-color: #1967D2;\n",
              "      --hover-bg-color: #E2EBFA;\n",
              "      --hover-fill-color: #174EA6;\n",
              "      --disabled-fill-color: #AAA;\n",
              "      --disabled-bg-color: #DDD;\n",
              "  }\n",
              "\n",
              "  [theme=dark] .colab-df-quickchart {\n",
              "      --bg-color: #3B4455;\n",
              "      --fill-color: #D2E3FC;\n",
              "      --hover-bg-color: #434B5C;\n",
              "      --hover-fill-color: #FFFFFF;\n",
              "      --disabled-bg-color: #3B4455;\n",
              "      --disabled-fill-color: #666;\n",
              "  }\n",
              "\n",
              "  .colab-df-quickchart {\n",
              "    background-color: var(--bg-color);\n",
              "    border: none;\n",
              "    border-radius: 50%;\n",
              "    cursor: pointer;\n",
              "    display: none;\n",
              "    fill: var(--fill-color);\n",
              "    height: 32px;\n",
              "    padding: 0;\n",
              "    width: 32px;\n",
              "  }\n",
              "\n",
              "  .colab-df-quickchart:hover {\n",
              "    background-color: var(--hover-bg-color);\n",
              "    box-shadow: 0 1px 2px rgba(60, 64, 67, 0.3), 0 1px 3px 1px rgba(60, 64, 67, 0.15);\n",
              "    fill: var(--button-hover-fill-color);\n",
              "  }\n",
              "\n",
              "  .colab-df-quickchart-complete:disabled,\n",
              "  .colab-df-quickchart-complete:disabled:hover {\n",
              "    background-color: var(--disabled-bg-color);\n",
              "    fill: var(--disabled-fill-color);\n",
              "    box-shadow: none;\n",
              "  }\n",
              "\n",
              "  .colab-df-spinner {\n",
              "    border: 2px solid var(--fill-color);\n",
              "    border-color: transparent;\n",
              "    border-bottom-color: var(--fill-color);\n",
              "    animation:\n",
              "      spin 1s steps(1) infinite;\n",
              "  }\n",
              "\n",
              "  @keyframes spin {\n",
              "    0% {\n",
              "      border-color: transparent;\n",
              "      border-bottom-color: var(--fill-color);\n",
              "      border-left-color: var(--fill-color);\n",
              "    }\n",
              "    20% {\n",
              "      border-color: transparent;\n",
              "      border-left-color: var(--fill-color);\n",
              "      border-top-color: var(--fill-color);\n",
              "    }\n",
              "    30% {\n",
              "      border-color: transparent;\n",
              "      border-left-color: var(--fill-color);\n",
              "      border-top-color: var(--fill-color);\n",
              "      border-right-color: var(--fill-color);\n",
              "    }\n",
              "    40% {\n",
              "      border-color: transparent;\n",
              "      border-right-color: var(--fill-color);\n",
              "      border-top-color: var(--fill-color);\n",
              "    }\n",
              "    60% {\n",
              "      border-color: transparent;\n",
              "      border-right-color: var(--fill-color);\n",
              "    }\n",
              "    80% {\n",
              "      border-color: transparent;\n",
              "      border-right-color: var(--fill-color);\n",
              "      border-bottom-color: var(--fill-color);\n",
              "    }\n",
              "    90% {\n",
              "      border-color: transparent;\n",
              "      border-bottom-color: var(--fill-color);\n",
              "    }\n",
              "  }\n",
              "</style>\n",
              "\n",
              "  <script>\n",
              "    async function quickchart(key) {\n",
              "      const quickchartButtonEl =\n",
              "        document.querySelector('#' + key + ' button');\n",
              "      quickchartButtonEl.disabled = true;  // To prevent multiple clicks.\n",
              "      quickchartButtonEl.classList.add('colab-df-spinner');\n",
              "      try {\n",
              "        const charts = await google.colab.kernel.invokeFunction(\n",
              "            'suggestCharts', [key], {});\n",
              "      } catch (error) {\n",
              "        console.error('Error during call to suggestCharts:', error);\n",
              "      }\n",
              "      quickchartButtonEl.classList.remove('colab-df-spinner');\n",
              "      quickchartButtonEl.classList.add('colab-df-quickchart-complete');\n",
              "    }\n",
              "    (() => {\n",
              "      let quickchartButtonEl =\n",
              "        document.querySelector('#df-6299e086-d070-4e96-b216-3ea466e0be83 button');\n",
              "      quickchartButtonEl.style.display =\n",
              "        google.colab.kernel.accessAllowed ? 'block' : 'none';\n",
              "    })();\n",
              "  </script>\n",
              "</div>\n",
              "\n",
              "  <div id=\"id_adc16561-0bc6-400b-a7c9-4ed1bb44b6a8\">\n",
              "    <style>\n",
              "      .colab-df-generate {\n",
              "        background-color: #E8F0FE;\n",
              "        border: none;\n",
              "        border-radius: 50%;\n",
              "        cursor: pointer;\n",
              "        display: none;\n",
              "        fill: #1967D2;\n",
              "        height: 32px;\n",
              "        padding: 0 0 0 0;\n",
              "        width: 32px;\n",
              "      }\n",
              "\n",
              "      .colab-df-generate:hover {\n",
              "        background-color: #E2EBFA;\n",
              "        box-shadow: 0px 1px 2px rgba(60, 64, 67, 0.3), 0px 1px 3px 1px rgba(60, 64, 67, 0.15);\n",
              "        fill: #174EA6;\n",
              "      }\n",
              "\n",
              "      [theme=dark] .colab-df-generate {\n",
              "        background-color: #3B4455;\n",
              "        fill: #D2E3FC;\n",
              "      }\n",
              "\n",
              "      [theme=dark] .colab-df-generate:hover {\n",
              "        background-color: #434B5C;\n",
              "        box-shadow: 0px 1px 3px 1px rgba(0, 0, 0, 0.15);\n",
              "        filter: drop-shadow(0px 1px 2px rgba(0, 0, 0, 0.3));\n",
              "        fill: #FFFFFF;\n",
              "      }\n",
              "    </style>\n",
              "    <button class=\"colab-df-generate\" onclick=\"generateWithVariable('books_filtered')\"\n",
              "            title=\"Generate code using this dataframe.\"\n",
              "            style=\"display:none;\">\n",
              "\n",
              "  <svg xmlns=\"http://www.w3.org/2000/svg\" height=\"24px\"viewBox=\"0 0 24 24\"\n",
              "       width=\"24px\">\n",
              "    <path d=\"M7,19H8.4L18.45,9,17,7.55,7,17.6ZM5,21V16.75L18.45,3.32a2,2,0,0,1,2.83,0l1.4,1.43a1.91,1.91,0,0,1,.58,1.4,1.91,1.91,0,0,1-.58,1.4L9.25,21ZM18.45,9,17,7.55Zm-12,3A5.31,5.31,0,0,0,4.9,8.1,5.31,5.31,0,0,0,1,6.5,5.31,5.31,0,0,0,4.9,4.9,5.31,5.31,0,0,0,6.5,1,5.31,5.31,0,0,0,8.1,4.9,5.31,5.31,0,0,0,12,6.5,5.46,5.46,0,0,0,6.5,12Z\"/>\n",
              "  </svg>\n",
              "    </button>\n",
              "    <script>\n",
              "      (() => {\n",
              "      const buttonEl =\n",
              "        document.querySelector('#id_adc16561-0bc6-400b-a7c9-4ed1bb44b6a8 button.colab-df-generate');\n",
              "      buttonEl.style.display =\n",
              "        google.colab.kernel.accessAllowed ? 'block' : 'none';\n",
              "\n",
              "      buttonEl.onclick = () => {\n",
              "        google.colab.notebook.generateWithVariable('books_filtered');\n",
              "      }\n",
              "      })();\n",
              "    </script>\n",
              "  </div>\n",
              "\n",
              "    </div>\n",
              "  </div>\n"
            ],
            "application/vnd.google.colaboratory.intrinsic+json": {
              "type": "dataframe",
              "variable_name": "books_filtered",
              "summary": "{\n  \"name\": \"books_filtered\",\n  \"rows\": 6537,\n  \"fields\": [\n    {\n      \"column\": \"book_id\",\n      \"properties\": {\n        \"dtype\": \"number\",\n        \"std\": 2187,\n        \"min\": 1,\n        \"max\": 9995,\n        \"num_unique_values\": 6537,\n        \"samples\": [\n          6409,\n          234,\n          1033\n        ],\n        \"semantic_type\": \"\",\n        \"description\": \"\"\n      }\n    },\n    {\n      \"column\": \"authors\",\n      \"properties\": {\n        \"dtype\": \"category\",\n        \"num_unique_values\": 2934,\n        \"samples\": [\n          \"Rachel Simon\",\n          \"Garth Ennis, Steve Dillon, Peter Snejbjerg\",\n          \"John D. Fitzgerald, Mercer Mayer\"\n        ],\n        \"semantic_type\": \"\",\n        \"description\": \"\"\n      }\n    },\n    {\n      \"column\": \"original_publication_year\",\n      \"properties\": {\n        \"dtype\": \"number\",\n        \"std\": 163.99781691195764,\n        \"min\": -1750.0,\n        \"max\": 2017.0,\n        \"num_unique_values\": 266,\n        \"samples\": [\n          1830.0,\n          1887.0,\n          1959.0\n        ],\n        \"semantic_type\": \"\",\n        \"description\": \"\"\n      }\n    },\n    {\n      \"column\": \"original_title\",\n      \"properties\": {\n        \"dtype\": \"string\",\n        \"num_unique_values\": 6240,\n        \"samples\": [\n          \"\\ucc44\\uc2dd\\uc8fc\\uc758\\uc790 \",\n          \"The Scorpio Races\",\n          \"The Castaways\"\n        ],\n        \"semantic_type\": \"\",\n        \"description\": \"\"\n      }\n    }\n  ]\n}"
            }
          },
          "metadata": {},
          "execution_count": 2
        }
      ]
    },
    {
      "cell_type": "code",
      "source": [
        "ratings"
      ],
      "metadata": {
        "colab": {
          "base_uri": "https://localhost:8080/",
          "height": 423
        },
        "id": "6dU1i6bK9yVB",
        "outputId": "fe8cd53f-b867-4d38-9d0e-0adbbf4a150d"
      },
      "execution_count": null,
      "outputs": [
        {
          "output_type": "execute_result",
          "data": {
            "text/plain": [
              "         book_id  user_id  rating\n",
              "62588        283      951       4\n",
              "62589        282      951       4\n",
              "62590       2170      951       3\n",
              "62591         43      951       5\n",
              "79326       4700     2487       4\n",
              "...          ...      ...     ...\n",
              "5946011     1231    50999       3\n",
              "5946015     3889    50999       5\n",
              "5946017     1104    50999       2\n",
              "5946018     3657    50999       4\n",
              "5946019      372    50999       2\n",
              "\n",
              "[20079 rows x 3 columns]"
            ],
            "text/html": [
              "\n",
              "  <div id=\"df-b9df3e54-20de-4be7-836d-189427c311ff\" class=\"colab-df-container\">\n",
              "    <div>\n",
              "<style scoped>\n",
              "    .dataframe tbody tr th:only-of-type {\n",
              "        vertical-align: middle;\n",
              "    }\n",
              "\n",
              "    .dataframe tbody tr th {\n",
              "        vertical-align: top;\n",
              "    }\n",
              "\n",
              "    .dataframe thead th {\n",
              "        text-align: right;\n",
              "    }\n",
              "</style>\n",
              "<table border=\"1\" class=\"dataframe\">\n",
              "  <thead>\n",
              "    <tr style=\"text-align: right;\">\n",
              "      <th></th>\n",
              "      <th>book_id</th>\n",
              "      <th>user_id</th>\n",
              "      <th>rating</th>\n",
              "    </tr>\n",
              "  </thead>\n",
              "  <tbody>\n",
              "    <tr>\n",
              "      <th>62588</th>\n",
              "      <td>283</td>\n",
              "      <td>951</td>\n",
              "      <td>4</td>\n",
              "    </tr>\n",
              "    <tr>\n",
              "      <th>62589</th>\n",
              "      <td>282</td>\n",
              "      <td>951</td>\n",
              "      <td>4</td>\n",
              "    </tr>\n",
              "    <tr>\n",
              "      <th>62590</th>\n",
              "      <td>2170</td>\n",
              "      <td>951</td>\n",
              "      <td>3</td>\n",
              "    </tr>\n",
              "    <tr>\n",
              "      <th>62591</th>\n",
              "      <td>43</td>\n",
              "      <td>951</td>\n",
              "      <td>5</td>\n",
              "    </tr>\n",
              "    <tr>\n",
              "      <th>79326</th>\n",
              "      <td>4700</td>\n",
              "      <td>2487</td>\n",
              "      <td>4</td>\n",
              "    </tr>\n",
              "    <tr>\n",
              "      <th>...</th>\n",
              "      <td>...</td>\n",
              "      <td>...</td>\n",
              "      <td>...</td>\n",
              "    </tr>\n",
              "    <tr>\n",
              "      <th>5946011</th>\n",
              "      <td>1231</td>\n",
              "      <td>50999</td>\n",
              "      <td>3</td>\n",
              "    </tr>\n",
              "    <tr>\n",
              "      <th>5946015</th>\n",
              "      <td>3889</td>\n",
              "      <td>50999</td>\n",
              "      <td>5</td>\n",
              "    </tr>\n",
              "    <tr>\n",
              "      <th>5946017</th>\n",
              "      <td>1104</td>\n",
              "      <td>50999</td>\n",
              "      <td>2</td>\n",
              "    </tr>\n",
              "    <tr>\n",
              "      <th>5946018</th>\n",
              "      <td>3657</td>\n",
              "      <td>50999</td>\n",
              "      <td>4</td>\n",
              "    </tr>\n",
              "    <tr>\n",
              "      <th>5946019</th>\n",
              "      <td>372</td>\n",
              "      <td>50999</td>\n",
              "      <td>2</td>\n",
              "    </tr>\n",
              "  </tbody>\n",
              "</table>\n",
              "<p>20079 rows × 3 columns</p>\n",
              "</div>\n",
              "    <div class=\"colab-df-buttons\">\n",
              "\n",
              "  <div class=\"colab-df-container\">\n",
              "    <button class=\"colab-df-convert\" onclick=\"convertToInteractive('df-b9df3e54-20de-4be7-836d-189427c311ff')\"\n",
              "            title=\"Convert this dataframe to an interactive table.\"\n",
              "            style=\"display:none;\">\n",
              "\n",
              "  <svg xmlns=\"http://www.w3.org/2000/svg\" height=\"24px\" viewBox=\"0 -960 960 960\">\n",
              "    <path d=\"M120-120v-720h720v720H120Zm60-500h600v-160H180v160Zm220 220h160v-160H400v160Zm0 220h160v-160H400v160ZM180-400h160v-160H180v160Zm440 0h160v-160H620v160ZM180-180h160v-160H180v160Zm440 0h160v-160H620v160Z\"/>\n",
              "  </svg>\n",
              "    </button>\n",
              "\n",
              "  <style>\n",
              "    .colab-df-container {\n",
              "      display:flex;\n",
              "      gap: 12px;\n",
              "    }\n",
              "\n",
              "    .colab-df-convert {\n",
              "      background-color: #E8F0FE;\n",
              "      border: none;\n",
              "      border-radius: 50%;\n",
              "      cursor: pointer;\n",
              "      display: none;\n",
              "      fill: #1967D2;\n",
              "      height: 32px;\n",
              "      padding: 0 0 0 0;\n",
              "      width: 32px;\n",
              "    }\n",
              "\n",
              "    .colab-df-convert:hover {\n",
              "      background-color: #E2EBFA;\n",
              "      box-shadow: 0px 1px 2px rgba(60, 64, 67, 0.3), 0px 1px 3px 1px rgba(60, 64, 67, 0.15);\n",
              "      fill: #174EA6;\n",
              "    }\n",
              "\n",
              "    .colab-df-buttons div {\n",
              "      margin-bottom: 4px;\n",
              "    }\n",
              "\n",
              "    [theme=dark] .colab-df-convert {\n",
              "      background-color: #3B4455;\n",
              "      fill: #D2E3FC;\n",
              "    }\n",
              "\n",
              "    [theme=dark] .colab-df-convert:hover {\n",
              "      background-color: #434B5C;\n",
              "      box-shadow: 0px 1px 3px 1px rgba(0, 0, 0, 0.15);\n",
              "      filter: drop-shadow(0px 1px 2px rgba(0, 0, 0, 0.3));\n",
              "      fill: #FFFFFF;\n",
              "    }\n",
              "  </style>\n",
              "\n",
              "    <script>\n",
              "      const buttonEl =\n",
              "        document.querySelector('#df-b9df3e54-20de-4be7-836d-189427c311ff button.colab-df-convert');\n",
              "      buttonEl.style.display =\n",
              "        google.colab.kernel.accessAllowed ? 'block' : 'none';\n",
              "\n",
              "      async function convertToInteractive(key) {\n",
              "        const element = document.querySelector('#df-b9df3e54-20de-4be7-836d-189427c311ff');\n",
              "        const dataTable =\n",
              "          await google.colab.kernel.invokeFunction('convertToInteractive',\n",
              "                                                    [key], {});\n",
              "        if (!dataTable) return;\n",
              "\n",
              "        const docLinkHtml = 'Like what you see? Visit the ' +\n",
              "          '<a target=\"_blank\" href=https://colab.research.google.com/notebooks/data_table.ipynb>data table notebook</a>'\n",
              "          + ' to learn more about interactive tables.';\n",
              "        element.innerHTML = '';\n",
              "        dataTable['output_type'] = 'display_data';\n",
              "        await google.colab.output.renderOutput(dataTable, element);\n",
              "        const docLink = document.createElement('div');\n",
              "        docLink.innerHTML = docLinkHtml;\n",
              "        element.appendChild(docLink);\n",
              "      }\n",
              "    </script>\n",
              "  </div>\n",
              "\n",
              "\n",
              "<div id=\"df-ea3b2cd9-f6f5-4562-97c8-7cf727e8a45a\">\n",
              "  <button class=\"colab-df-quickchart\" onclick=\"quickchart('df-ea3b2cd9-f6f5-4562-97c8-7cf727e8a45a')\"\n",
              "            title=\"Suggest charts\"\n",
              "            style=\"display:none;\">\n",
              "\n",
              "<svg xmlns=\"http://www.w3.org/2000/svg\" height=\"24px\"viewBox=\"0 0 24 24\"\n",
              "     width=\"24px\">\n",
              "    <g>\n",
              "        <path d=\"M19 3H5c-1.1 0-2 .9-2 2v14c0 1.1.9 2 2 2h14c1.1 0 2-.9 2-2V5c0-1.1-.9-2-2-2zM9 17H7v-7h2v7zm4 0h-2V7h2v10zm4 0h-2v-4h2v4z\"/>\n",
              "    </g>\n",
              "</svg>\n",
              "  </button>\n",
              "\n",
              "<style>\n",
              "  .colab-df-quickchart {\n",
              "      --bg-color: #E8F0FE;\n",
              "      --fill-color: #1967D2;\n",
              "      --hover-bg-color: #E2EBFA;\n",
              "      --hover-fill-color: #174EA6;\n",
              "      --disabled-fill-color: #AAA;\n",
              "      --disabled-bg-color: #DDD;\n",
              "  }\n",
              "\n",
              "  [theme=dark] .colab-df-quickchart {\n",
              "      --bg-color: #3B4455;\n",
              "      --fill-color: #D2E3FC;\n",
              "      --hover-bg-color: #434B5C;\n",
              "      --hover-fill-color: #FFFFFF;\n",
              "      --disabled-bg-color: #3B4455;\n",
              "      --disabled-fill-color: #666;\n",
              "  }\n",
              "\n",
              "  .colab-df-quickchart {\n",
              "    background-color: var(--bg-color);\n",
              "    border: none;\n",
              "    border-radius: 50%;\n",
              "    cursor: pointer;\n",
              "    display: none;\n",
              "    fill: var(--fill-color);\n",
              "    height: 32px;\n",
              "    padding: 0;\n",
              "    width: 32px;\n",
              "  }\n",
              "\n",
              "  .colab-df-quickchart:hover {\n",
              "    background-color: var(--hover-bg-color);\n",
              "    box-shadow: 0 1px 2px rgba(60, 64, 67, 0.3), 0 1px 3px 1px rgba(60, 64, 67, 0.15);\n",
              "    fill: var(--button-hover-fill-color);\n",
              "  }\n",
              "\n",
              "  .colab-df-quickchart-complete:disabled,\n",
              "  .colab-df-quickchart-complete:disabled:hover {\n",
              "    background-color: var(--disabled-bg-color);\n",
              "    fill: var(--disabled-fill-color);\n",
              "    box-shadow: none;\n",
              "  }\n",
              "\n",
              "  .colab-df-spinner {\n",
              "    border: 2px solid var(--fill-color);\n",
              "    border-color: transparent;\n",
              "    border-bottom-color: var(--fill-color);\n",
              "    animation:\n",
              "      spin 1s steps(1) infinite;\n",
              "  }\n",
              "\n",
              "  @keyframes spin {\n",
              "    0% {\n",
              "      border-color: transparent;\n",
              "      border-bottom-color: var(--fill-color);\n",
              "      border-left-color: var(--fill-color);\n",
              "    }\n",
              "    20% {\n",
              "      border-color: transparent;\n",
              "      border-left-color: var(--fill-color);\n",
              "      border-top-color: var(--fill-color);\n",
              "    }\n",
              "    30% {\n",
              "      border-color: transparent;\n",
              "      border-left-color: var(--fill-color);\n",
              "      border-top-color: var(--fill-color);\n",
              "      border-right-color: var(--fill-color);\n",
              "    }\n",
              "    40% {\n",
              "      border-color: transparent;\n",
              "      border-right-color: var(--fill-color);\n",
              "      border-top-color: var(--fill-color);\n",
              "    }\n",
              "    60% {\n",
              "      border-color: transparent;\n",
              "      border-right-color: var(--fill-color);\n",
              "    }\n",
              "    80% {\n",
              "      border-color: transparent;\n",
              "      border-right-color: var(--fill-color);\n",
              "      border-bottom-color: var(--fill-color);\n",
              "    }\n",
              "    90% {\n",
              "      border-color: transparent;\n",
              "      border-bottom-color: var(--fill-color);\n",
              "    }\n",
              "  }\n",
              "</style>\n",
              "\n",
              "  <script>\n",
              "    async function quickchart(key) {\n",
              "      const quickchartButtonEl =\n",
              "        document.querySelector('#' + key + ' button');\n",
              "      quickchartButtonEl.disabled = true;  // To prevent multiple clicks.\n",
              "      quickchartButtonEl.classList.add('colab-df-spinner');\n",
              "      try {\n",
              "        const charts = await google.colab.kernel.invokeFunction(\n",
              "            'suggestCharts', [key], {});\n",
              "      } catch (error) {\n",
              "        console.error('Error during call to suggestCharts:', error);\n",
              "      }\n",
              "      quickchartButtonEl.classList.remove('colab-df-spinner');\n",
              "      quickchartButtonEl.classList.add('colab-df-quickchart-complete');\n",
              "    }\n",
              "    (() => {\n",
              "      let quickchartButtonEl =\n",
              "        document.querySelector('#df-ea3b2cd9-f6f5-4562-97c8-7cf727e8a45a button');\n",
              "      quickchartButtonEl.style.display =\n",
              "        google.colab.kernel.accessAllowed ? 'block' : 'none';\n",
              "    })();\n",
              "  </script>\n",
              "</div>\n",
              "\n",
              "  <div id=\"id_0732950e-b23a-447c-8d77-f697bc60b984\">\n",
              "    <style>\n",
              "      .colab-df-generate {\n",
              "        background-color: #E8F0FE;\n",
              "        border: none;\n",
              "        border-radius: 50%;\n",
              "        cursor: pointer;\n",
              "        display: none;\n",
              "        fill: #1967D2;\n",
              "        height: 32px;\n",
              "        padding: 0 0 0 0;\n",
              "        width: 32px;\n",
              "      }\n",
              "\n",
              "      .colab-df-generate:hover {\n",
              "        background-color: #E2EBFA;\n",
              "        box-shadow: 0px 1px 2px rgba(60, 64, 67, 0.3), 0px 1px 3px 1px rgba(60, 64, 67, 0.15);\n",
              "        fill: #174EA6;\n",
              "      }\n",
              "\n",
              "      [theme=dark] .colab-df-generate {\n",
              "        background-color: #3B4455;\n",
              "        fill: #D2E3FC;\n",
              "      }\n",
              "\n",
              "      [theme=dark] .colab-df-generate:hover {\n",
              "        background-color: #434B5C;\n",
              "        box-shadow: 0px 1px 3px 1px rgba(0, 0, 0, 0.15);\n",
              "        filter: drop-shadow(0px 1px 2px rgba(0, 0, 0, 0.3));\n",
              "        fill: #FFFFFF;\n",
              "      }\n",
              "    </style>\n",
              "    <button class=\"colab-df-generate\" onclick=\"generateWithVariable('ratings')\"\n",
              "            title=\"Generate code using this dataframe.\"\n",
              "            style=\"display:none;\">\n",
              "\n",
              "  <svg xmlns=\"http://www.w3.org/2000/svg\" height=\"24px\"viewBox=\"0 0 24 24\"\n",
              "       width=\"24px\">\n",
              "    <path d=\"M7,19H8.4L18.45,9,17,7.55,7,17.6ZM5,21V16.75L18.45,3.32a2,2,0,0,1,2.83,0l1.4,1.43a1.91,1.91,0,0,1,.58,1.4,1.91,1.91,0,0,1-.58,1.4L9.25,21ZM18.45,9,17,7.55Zm-12,3A5.31,5.31,0,0,0,4.9,8.1,5.31,5.31,0,0,0,1,6.5,5.31,5.31,0,0,0,4.9,4.9,5.31,5.31,0,0,0,6.5,1,5.31,5.31,0,0,0,8.1,4.9,5.31,5.31,0,0,0,12,6.5,5.46,5.46,0,0,0,6.5,12Z\"/>\n",
              "  </svg>\n",
              "    </button>\n",
              "    <script>\n",
              "      (() => {\n",
              "      const buttonEl =\n",
              "        document.querySelector('#id_0732950e-b23a-447c-8d77-f697bc60b984 button.colab-df-generate');\n",
              "      buttonEl.style.display =\n",
              "        google.colab.kernel.accessAllowed ? 'block' : 'none';\n",
              "\n",
              "      buttonEl.onclick = () => {\n",
              "        google.colab.notebook.generateWithVariable('ratings');\n",
              "      }\n",
              "      })();\n",
              "    </script>\n",
              "  </div>\n",
              "\n",
              "    </div>\n",
              "  </div>\n"
            ],
            "application/vnd.google.colaboratory.intrinsic+json": {
              "type": "dataframe",
              "variable_name": "ratings",
              "summary": "{\n  \"name\": \"ratings\",\n  \"rows\": 20079,\n  \"fields\": [\n    {\n      \"column\": \"book_id\",\n      \"properties\": {\n        \"dtype\": \"number\",\n        \"std\": 1369,\n        \"min\": 1,\n        \"max\": 9995,\n        \"num_unique_values\": 3064,\n        \"samples\": [\n          2873,\n          264,\n          550\n        ],\n        \"semantic_type\": \"\",\n        \"description\": \"\"\n      }\n    },\n    {\n      \"column\": \"user_id\",\n      \"properties\": {\n        \"dtype\": \"number\",\n        \"std\": 14512,\n        \"min\": 951,\n        \"max\": 53293,\n        \"num_unique_values\": 106,\n        \"samples\": [\n          53293,\n          1952,\n          7001\n        ],\n        \"semantic_type\": \"\",\n        \"description\": \"\"\n      }\n    },\n    {\n      \"column\": \"rating\",\n      \"properties\": {\n        \"dtype\": \"number\",\n        \"std\": 1,\n        \"min\": 1,\n        \"max\": 5,\n        \"num_unique_values\": 5,\n        \"samples\": [\n          3,\n          1,\n          5\n        ],\n        \"semantic_type\": \"\",\n        \"description\": \"\"\n      }\n    }\n  ]\n}"
            }
          },
          "metadata": {},
          "execution_count": 3
        }
      ]
    },
    {
      "cell_type": "code",
      "source": [
        "from sklearn.model_selection import train_test_split\n",
        "train_df, new_user_df = train_test_split(ratings, test_size=0.2, random_state=42)"
      ],
      "metadata": {
        "id": "CTA2C5D6ufsY"
      },
      "execution_count": null,
      "outputs": []
    },
    {
      "cell_type": "markdown",
      "source": [
        "## Task 1: Extracting Topics"
      ],
      "metadata": {
        "id": "oYRNl4hywQNE"
      }
    },
    {
      "cell_type": "markdown",
      "source": [
        "### Data Fromatting"
      ],
      "metadata": {
        "id": "_Y1fPhQoyQzo"
      }
    },
    {
      "cell_type": "markdown",
      "source": [
        "We first need to format the data into user-book cross tabulation. Here, we consider the users to be the data points and the books to be the columns."
      ],
      "metadata": {
        "id": "r4q8DZEF9VIW"
      }
    },
    {
      "cell_type": "code",
      "source": [
        "user_book_matrix = ### Don't forget to fillna with zeros"
      ],
      "metadata": {
        "id": "2qZjo9oKyVcH",
        "colab": {
          "base_uri": "https://localhost:8080/",
          "height": 109
        },
        "outputId": "479f1e1b-c572-4812-dd50-affc1897d03f"
      },
      "execution_count": null,
      "outputs": [
        {
          "output_type": "error",
          "ename": "SyntaxError",
          "evalue": "invalid syntax (<ipython-input-5-1504f6710a72>, line 1)",
          "traceback": [
            "\u001b[0;36m  File \u001b[0;32m\"<ipython-input-5-1504f6710a72>\"\u001b[0;36m, line \u001b[0;32m1\u001b[0m\n\u001b[0;31m    user_book_matrix = ### Don't forget to fillna with zeros\u001b[0m\n\u001b[0m                       ^\u001b[0m\n\u001b[0;31mSyntaxError\u001b[0m\u001b[0;31m:\u001b[0m invalid syntax\n"
          ]
        }
      ]
    },
    {
      "cell_type": "code",
      "source": [
        "user_book_matrix"
      ],
      "metadata": {
        "id": "0M5PzuIdCgZE"
      },
      "execution_count": null,
      "outputs": []
    },
    {
      "cell_type": "code",
      "source": [
        "user_book_matrix.shape"
      ],
      "metadata": {
        "id": "f05u-OpayhYJ"
      },
      "execution_count": null,
      "outputs": []
    },
    {
      "cell_type": "markdown",
      "source": [
        "Let's try to find the top *n* topics in this dataset."
      ],
      "metadata": {
        "id": "Ctas7SQcxjHY"
      }
    },
    {
      "cell_type": "code",
      "source": [
        "n_components=5"
      ],
      "metadata": {
        "id": "C1O1n9ep9Uog"
      },
      "execution_count": null,
      "outputs": []
    },
    {
      "cell_type": "code",
      "source": [
        "from sklearn.decomposition import NMF\n",
        "from sklearn.preprocessing import MinMaxScaler\n",
        "\n",
        "# Build the model\n",
        "model =\n",
        "\n",
        "# Normalize ratings (optional but recommended)\n",
        "scaler = MinMaxScaler()\n",
        "scaled_user_book_matrix =\n",
        "\n",
        "# Fit and transform\n",
        "W = model. # User representation is terms of topics."
      ],
      "metadata": {
        "id": "8fogmDOlwXJn"
      },
      "execution_count": null,
      "outputs": []
    },
    {
      "cell_type": "code",
      "source": [
        "# Topic representation in terms of books\n",
        "H = ### make columns as book ids\n",
        "display(H)\n",
        "print(H.shape)"
      ],
      "metadata": {
        "id": "yg9cpc0Q-jDT"
      },
      "execution_count": null,
      "outputs": []
    },
    {
      "cell_type": "code",
      "source": [
        "# Reconstruction error\n",
        "model.reconstruction_err_"
      ],
      "metadata": {
        "id": "sRtCYSM8-cwh"
      },
      "execution_count": null,
      "outputs": []
    },
    {
      "cell_type": "markdown",
      "source": [
        "Let's plot the *n* topics in terms of the top books that represent them"
      ],
      "metadata": {
        "id": "zzm2AUes9BGy"
      }
    },
    {
      "cell_type": "code",
      "source": [
        "!pip install mglearn"
      ],
      "metadata": {
        "id": "mfmT6pSs9N35"
      },
      "execution_count": null,
      "outputs": []
    },
    {
      "cell_type": "code",
      "source": [
        "# Auxuliary function\n",
        "def get_book_author_names(bookid):\n",
        "  book_name = books[\"original_title\"].loc[bookid]\n",
        "  author_name = books[\"authors\"].loc[bookid]\n",
        "  return str(book_name) + \" --- \" + str(author_name)"
      ],
      "metadata": {
        "id": "V3_j5v5o_FkN"
      },
      "execution_count": null,
      "outputs": []
    },
    {
      "cell_type": "code",
      "source": [
        "import mglearn\n",
        "import numpy as np\n",
        "\n",
        "feature_names = user_book_matrix.columns.map(lambda col: get_book_author_names(col)) # Get feature (i.e., book) names\n",
        "\n",
        "mglearn.tools.print_topics(topics=range(n_components), feature_names=feature_names,\n",
        "                           sorting=np.argsort(model.components_, axis=1)[:, ::-1], n_words=5, topics_per_chunk=1)"
      ],
      "metadata": {
        "id": "KeZtTrIWy8x7"
      },
      "execution_count": null,
      "outputs": []
    },
    {
      "cell_type": "code",
      "source": [
        "for i in range(n_components):\n",
        "  print(f\"Topic {i}:\")\n",
        "  mglearn.tools.visualize_coefficients(     , feature_names, n_top_features=10)\n"
      ],
      "metadata": {
        "id": "ek-2IDIMy9Sb"
      },
      "execution_count": null,
      "outputs": []
    },
    {
      "cell_type": "markdown",
      "source": [
        "It might take some effort to interpret the topics (or we may show them to a librarian... or ChatGPT?). But, here is a guess:\n",
        "\n",
        "*answer...*"
      ],
      "metadata": {
        "id": "B8x2ALrM_mw-"
      }
    },
    {
      "cell_type": "code",
      "source": [
        "topics ="
      ],
      "metadata": {
        "id": "B2PMSCoJke8Q"
      },
      "execution_count": null,
      "outputs": []
    },
    {
      "cell_type": "markdown",
      "source": [
        "## Task 2: Topic Similarity and Collaborative Filtering"
      ],
      "metadata": {
        "id": "2NinWnDIloOq"
      }
    },
    {
      "cell_type": "markdown",
      "source": [
        "Now that we expressed the data in terms of an intermediate variable, the topics, we can do some interesting things...\n",
        "\n",
        "\n"
      ],
      "metadata": {
        "id": "5nsLSD71baB5"
      }
    },
    {
      "cell_type": "markdown",
      "source": [
        "### Book Representation in terms of Topics."
      ],
      "metadata": {
        "id": "7lpPQSE7lwbU"
      }
    },
    {
      "cell_type": "code",
      "source": [
        "books_filtered"
      ],
      "metadata": {
        "id": "HzNCnmAkelak"
      },
      "execution_count": null,
      "outputs": []
    },
    {
      "cell_type": "code",
      "source": [
        "def get_book_id(book_name):\n",
        "  return books[books[\"original_title\"] == book_name].index[0]\n",
        "\n",
        "def get_book_topics(name):\n",
        "  book_id = get_book_id(name)\n",
        "  book_features = pd.DataFrame(H[book_id])\n",
        "  book_features.index = topics\n",
        "  return book_features"
      ],
      "metadata": {
        "id": "aL05DkxtCs01"
      },
      "execution_count": null,
      "outputs": []
    },
    {
      "cell_type": "code",
      "source": [
        "book_name = \"The Princess Diaries\"\n",
        "# \"The Princess Diaries\"\n",
        "# \"Life of Pi\"\n",
        "# \"The Great Gatsby\"\n",
        "#\"Harry Potter and the Order of the Phoenix\"\n",
        "#\"Brave New World\"\n",
        "#\"Animal Farm: A Fairy Story\"\n",
        "\n",
        "get_book_topics(book_name)"
      ],
      "metadata": {
        "id": "_D_giddoTgtu"
      },
      "execution_count": null,
      "outputs": []
    },
    {
      "cell_type": "markdown",
      "source": [
        "### User Representation in terms of Topics."
      ],
      "metadata": {
        "id": "06yFPuU5l26H"
      }
    },
    {
      "cell_type": "code",
      "source": [
        "#Auxuliary function\n",
        "def get_user_books(user_id):\n",
        "  book_ids_read_by_user = ratings[ratings[\"user_id\"] == user_id][\"book_id\"].to_list()\n",
        "  books_read_by_user  = books.index.isin(book_ids_read_by_user)\n",
        "  return books.loc[books_read_by_user]\n",
        "\n",
        "def get_user_topics(user_id):\n",
        "  user_index = user_book_matrix.index.get_loc(user_id)\n",
        "  user_features =\n",
        "  user_features.index = topics\n",
        "  return user_features"
      ],
      "metadata": {
        "id": "eZIL0pl_G1Jm"
      },
      "execution_count": null,
      "outputs": []
    },
    {
      "cell_type": "code",
      "source": [
        "user_id = 53292# 2487 #951\n",
        "\n",
        "display(get_user_books(user_id))\n",
        "display(get_user_topics(user_id))"
      ],
      "metadata": {
        "id": "8vY0AW9zeQkC"
      },
      "execution_count": null,
      "outputs": []
    },
    {
      "cell_type": "markdown",
      "source": [
        "### What about new users and books?"
      ],
      "metadata": {
        "id": "jCdI9rIxeb_e"
      }
    },
    {
      "cell_type": "markdown",
      "source": [
        "Let's say you received a new set of users who read a mix of the books in your dataset and some new books.\n",
        "\n",
        "You want to extract the topics of interest for these users based on their readings and based on the model you have created from your training data.\n",
        "\n",
        "You will have to express the new users in terms of the books you have in your training dataset."
      ],
      "metadata": {
        "id": "h5MCkAW_h-19"
      }
    },
    {
      "cell_type": "code",
      "source": [
        "# Convert to Cross Tab format\n",
        "user_book_matrix_new_users =\n",
        "\n",
        "# Remove the books that were not in your training data\n",
        "user_book_matrix_new_users = user_book_matrix_new_users[[column for column in user_book_matrix_new_users.columns if column in user_book_matrix.columns]]\n",
        "\n",
        "# Fill in training books that were not read by these new users with zeros.\n",
        "user_book_matrix_new_users = user_book_matrix_new_users.reindex(columns=user_book_matrix.columns, fill_value=0)\n",
        "\n",
        "user_book_matrix_new_users"
      ],
      "metadata": {
        "id": "AiccilDEXqlK"
      },
      "execution_count": null,
      "outputs": []
    },
    {
      "cell_type": "code",
      "source": [
        "# Transform!\n",
        "new_users_topics = ### don't forget to add column topic names and user ids.\n",
        "new_users_topics"
      ],
      "metadata": {
        "id": "XFzzH8xKmXWi"
      },
      "execution_count": null,
      "outputs": []
    },
    {
      "cell_type": "markdown",
      "source": [
        "### Colaborative Filtering"
      ],
      "metadata": {
        "id": "AkhguO9Yl8DN"
      }
    },
    {
      "cell_type": "markdown",
      "source": [
        "Now, we can use the constructed model to *compare* books, users, or both!"
      ],
      "metadata": {
        "id": "wvNmI0p8ksi4"
      }
    },
    {
      "cell_type": "code",
      "source": [
        "#Auxuliary function\n",
        "def get_book_readers(name):\n",
        "  book_id = books[books[\"original_title\"] == name].index[0]\n",
        "  return scaled_user_book_matrix[book_id]"
      ],
      "metadata": {
        "id": "Xe9eAoKVqnx9"
      },
      "execution_count": null,
      "outputs": []
    },
    {
      "cell_type": "code",
      "source": [
        "training_books = books[books.index.isin(train_df['book_id'])]\n",
        "training_books"
      ],
      "metadata": {
        "id": "CgdLHoPwvWq_"
      },
      "execution_count": null,
      "outputs": []
    },
    {
      "cell_type": "markdown",
      "source": [
        "#### How similar are two books?"
      ],
      "metadata": {
        "id": "9bjSa6nxwCBz"
      }
    },
    {
      "cell_type": "code",
      "source": [
        "book1 = \"Ender's Game\"\n",
        "book2 = \"Divergent\"\n",
        "#\"The Adventures of Huckleberry Finn\"\n",
        "#\"Le Comte de Monte-Cristo\"\n",
        "#\"The Time Traveler's Wife\"\n",
        "#\"The Book Thief\"\n",
        "#\"Harry Potter and the Order of the Phoenix\"\n",
        "#\"Nineteen Eighty-Four\"\n",
        "#\"The Hitchhiker's Guide to the Galaxy\"\n",
        "#\"A Tale of Two Cities\"\n",
        "\n",
        "# Get book_ids\n",
        "book1_id = books[books[\"original_title\"] == book1].index[0]\n",
        "book2_id = books[books[\"original_title\"] == book2].index[0]\n",
        "\n",
        "# Get readers and topics\n",
        "topics1 = get_book_topics(book1).values.reshape(1, -1)\n",
        "readers1 = get_book_readers(book1).reshape(1, -1)\n",
        "\n",
        "topics2 = get_book_topics(book2).values.reshape(1, -1)\n",
        "readers2 = get_book_readers(book2).reshape(1, -1)\n",
        "\n",
        "\n",
        "\n",
        "# Get cosine similarity in terms of readers and in terms of topics\n",
        "from sklearn.metrics.pairwise import cosine_similarity\n",
        "feature_similarity =\n",
        "topics_similarity =\n",
        "\n",
        "print(\"feature_similarity = \", feature_similarity)\n",
        "print(\"topics_similarity = \", topics_similarity)"
      ],
      "metadata": {
        "id": "fOnRkY5thXOw"
      },
      "execution_count": null,
      "outputs": []
    },
    {
      "cell_type": "markdown",
      "source": [
        "Notice how topic similarity is more meaningful."
      ],
      "metadata": {
        "id": "z50_aJREwF9W"
      }
    },
    {
      "cell_type": "markdown",
      "source": [
        "#### Would a user be intersted in a certain book?"
      ],
      "metadata": {
        "id": "DTx--PunyHoc"
      }
    },
    {
      "cell_type": "code",
      "source": [
        "pd.DataFrame(W, index=user_book_matrix.index, columns = topics)"
      ],
      "metadata": {
        "id": "ffnd1tW_xn5h"
      },
      "execution_count": null,
      "outputs": []
    },
    {
      "cell_type": "code",
      "source": [
        "user_id = 2487\n",
        "user_vector = pd.DataFrame(model.transform(user_book_matrix), index=user_book_matrix.index).loc[user_id] # pd.DataFrame(model.transform(user_book_matrix), index=user_book_matrix.index).loc[user_id] # or pd.DataFrame(W, index=user_book_matrix.index).loc[user_id]\n",
        "\n",
        "book_name = \"Harry Potter and the Order of the Phoenix\"\n",
        "book_vector = get_book_topics(book_name)"
      ],
      "metadata": {
        "id": "pRDPIwgHpjcX"
      },
      "execution_count": null,
      "outputs": []
    },
    {
      "cell_type": "code",
      "source": [
        "cosine_similarity(user_vector.values.reshape(1, -1), book_vector.values.reshape(1, -1))[0, 0]"
      ],
      "metadata": {
        "id": "uomFLgv40FMl"
      },
      "execution_count": null,
      "outputs": []
    },
    {
      "cell_type": "markdown",
      "source": [
        "## **Questions:**\n",
        "\n",
        "- How would you think Topic Modeling could apply to association rules? Describe an example.\n",
        "- What are the similarities and differences between Clustering and Topic Modeling? When would you use one or the other?\n",
        "- What are the similarities and differences between PCA and Topic Modeling? When would you use one or the other?"
      ],
      "metadata": {
        "id": "8cQEsPg51TdP"
      }
    }
  ]
}