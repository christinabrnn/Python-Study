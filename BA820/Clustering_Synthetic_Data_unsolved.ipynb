{
  "nbformat": 4,
  "nbformat_minor": 0,
  "metadata": {
    "colab": {
      "provenance": [],
      "include_colab_link": true
    },
    "kernelspec": {
      "name": "python3",
      "display_name": "Python 3"
    },
    "language_info": {
      "name": "python"
    }
  },
  "cells": [
    {
      "cell_type": "markdown",
      "metadata": {
        "id": "view-in-github",
        "colab_type": "text"
      },
      "source": [
        "<a href=\"https://colab.research.google.com/github/christinabrnn/Python-Study/blob/main/BA820/Clustering_Synthetic_Data_unsolved.ipynb\" target=\"_parent\"><img src=\"https://colab.research.google.com/assets/colab-badge.svg\" alt=\"Open In Colab\"/></a>"
      ]
    },
    {
      "cell_type": "markdown",
      "source": [
        "**Course: BA820 - Unsupervised and Unstructured ML**\n",
        "\n",
        "**Notebook created by: Mohannad Elhamod**"
      ],
      "metadata": {
        "id": "CpJvhzjlmlMN"
      }
    },
    {
      "cell_type": "markdown",
      "source": [
        "To appreicate the bells and whistles of different clustering techniques, it is best to first play with some synthetic data."
      ],
      "metadata": {
        "id": "6MSaJmpwjVIA"
      }
    },
    {
      "cell_type": "markdown",
      "source": [
        "## Let's create some data"
      ],
      "metadata": {
        "id": "ap9UVBerj_iv"
      }
    },
    {
      "cell_type": "code",
      "source": [
        "import pandas as pd\n",
        "import seaborn as sns"
      ],
      "metadata": {
        "id": "FC-JAgMBkEEd"
      },
      "execution_count": null,
      "outputs": []
    },
    {
      "cell_type": "markdown",
      "source": [
        "Let's create two clusters."
      ],
      "metadata": {
        "id": "23kQtNUdkCS9"
      }
    },
    {
      "cell_type": "code",
      "source": [
        "from sklearn.datasets import make_blobs\n",
        "\n",
        "X, _ = make_blobs(n_samples=50, centers=[[0,0]], n_features=2,  cluster_std = 1)\n",
        "df = pd.DataFrame(X, columns=['x', 'y'])\n",
        "\n",
        "X, _ = make_blobs(n_samples=50, centers=[[2,1]], n_features=2,  cluster_std = 0.1)\n",
        "df2 = pd.DataFrame(X, columns=['x', 'y'])\n",
        "\n",
        "df = pd.concat([df, df2], axis=0)\n",
        "\n",
        "df.plot.scatter(x='x', y='y')"
      ],
      "metadata": {
        "colab": {
          "base_uri": "https://localhost:8080/",
          "height": 467
        },
        "id": "5uHMQLbDkJmr",
        "outputId": "4ea64edc-e8c9-4f07-9d33-c22f1e2b9f03"
      },
      "execution_count": null,
      "outputs": [
        {
          "output_type": "execute_result",
          "data": {
            "text/plain": [
              "<Axes: xlabel='x', ylabel='y'>"
            ]
          },
          "metadata": {},
          "execution_count": 2
        },
        {
          "output_type": "display_data",
          "data": {
            "text/plain": [
              "<Figure size 640x480 with 1 Axes>"
            ],
            "image/png": "[encoded data removed]"
          },
          "metadata": {}
        }
      ]
    },
    {
      "cell_type": "markdown",
      "source": [
        "## Cluster Analysis - Hierarchical"
      ],
      "metadata": {
        "id": "kpuYQ_J-kmXZ"
      }
    },
    {
      "cell_type": "code",
      "source": [
        "from scipy.cluster.hierarchy import linkage, fcluster\n",
        "\n",
        "n_clusters = 2\n",
        "\n",
        "Z =\n",
        "df['cluster_labels'] =\n",
        "\n",
        "sns.scatterplot(df, )"
      ],
      "metadata": {
        "id": "b8VGDBbUkxuB"
      },
      "execution_count": null,
      "outputs": []
    },
    {
      "cell_type": "markdown",
      "source": [
        "Plot the dendrogram"
      ],
      "metadata": {
        "id": "0tVKd7NFlW53"
      }
    },
    {
      "cell_type": "code",
      "source": [
        "from scipy.cluster.hierarchy import dendrogram\n",
        "_ ="
      ],
      "metadata": {
        "id": "OqUBKNU-gazg"
      },
      "execution_count": null,
      "outputs": []
    },
    {
      "cell_type": "markdown",
      "source": [
        "## Cluster Analysis - Kmeans"
      ],
      "metadata": {
        "id": "jVCKbIk32iqG"
      }
    },
    {
      "cell_type": "markdown",
      "source": [
        "Let's compare the hierarchial clustering result with k-means"
      ],
      "metadata": {
        "id": "YygfB81FqT4x"
      }
    },
    {
      "cell_type": "code",
      "source": [
        "from sklearn.cluster import KMeans"
      ],
      "metadata": {
        "id": "PtVV6vO223nY"
      },
      "execution_count": null,
      "outputs": []
    },
    {
      "cell_type": "code",
      "source": [
        "df_kmeans = df.drop('cluster_labels', axis=1)"
      ],
      "metadata": {
        "id": "ziqwds9G28va"
      },
      "execution_count": null,
      "outputs": []
    },
    {
      "cell_type": "markdown",
      "source": [
        "Find the cluster centroids"
      ],
      "metadata": {
        "id": "jUW2rs9x3YXT"
      }
    },
    {
      "cell_type": "code",
      "source": [
        "# Try with random or specific initializations.\n",
        "kmeans_result ="
      ],
      "metadata": {
        "id": "FrDhenFP2mG0"
      },
      "execution_count": null,
      "outputs": []
    },
    {
      "cell_type": "code",
      "source": [
        "# where are the centroids?\n",
        "kmeans_result."
      ],
      "metadata": {
        "id": "-gBzRDSK5-Vw"
      },
      "execution_count": null,
      "outputs": []
    },
    {
      "cell_type": "markdown",
      "source": [
        "Assign each point to its cluster"
      ],
      "metadata": {
        "id": "3KZ22UKJ3dxg"
      }
    },
    {
      "cell_type": "code",
      "source": [
        "df_kmeans['cluster_labels'] ="
      ],
      "metadata": {
        "id": "YI740rDG3d4i"
      },
      "execution_count": null,
      "outputs": []
    },
    {
      "cell_type": "markdown",
      "source": [
        "Plot the clustering"
      ],
      "metadata": {
        "id": "KiLZ5irg3nJb"
      }
    },
    {
      "cell_type": "code",
      "source": [
        "import matplotlib.pyplot as plt\n",
        "\n",
        "# Plot clusters\n",
        "sns.scatterplot(, data=df_kmeans)\n",
        "\n",
        "#plot centroids\n",
        "plt.scatter(, color='red', marker='x')\n",
        "\n",
        "# Show the plot with the new points\n",
        "plt.show()"
      ],
      "metadata": {
        "id": "zYiss3s73WcK"
      },
      "execution_count": null,
      "outputs": []
    },
    {
      "cell_type": "markdown",
      "source": [
        "## Let's try 3D data"
      ],
      "metadata": {
        "id": "NWLJnDgQr4qi"
      }
    },
    {
      "cell_type": "markdown",
      "source": [
        "Let's create some 3D data and use it for k-means using."
      ],
      "metadata": {
        "id": "ZlOnWdmxtDD1"
      }
    },
    {
      "cell_type": "code",
      "source": [
        "import numpy as np\n",
        "\n",
        "# First distribution\n",
        "\n",
        "num_samples = 100\n",
        "centers = [[0, 0, 0]]\n",
        "cluster_std = [[1, np.sqrt(2), 1]]\n",
        "\n",
        "samples, _ = make_blobs(n_samples=num_samples, centers=centers, cluster_std=cluster_std, n_features=3)"
      ],
      "metadata": {
        "id": "YWaP9FBas-T8"
      },
      "execution_count": null,
      "outputs": []
    },
    {
      "cell_type": "code",
      "source": [
        "# Second distribution\n",
        "\n",
        "num_samples = 100\n",
        "centers = [[3, 3, 3]]\n",
        "cluster_std = [[np.sqrt(2), 1, 1]]\n",
        "\n",
        "samples2, _ = make_blobs(n_samples=num_samples, centers=centers, cluster_std=cluster_std, n_features=3)"
      ],
      "metadata": {
        "id": "QDmfdh7xwtwA"
      },
      "execution_count": null,
      "outputs": []
    },
    {
      "cell_type": "code",
      "source": [
        "# Third distribution\n",
        "\n",
        "num_samples = 150\n",
        "centers = [[5, 5, 5]]\n",
        "cluster_std = [[0.5,1,0.5]]\n",
        "\n",
        "samples3, _ = make_blobs(n_samples=num_samples, centers=centers, cluster_std=cluster_std, n_features=3)"
      ],
      "metadata": {
        "id": "K499DacSw5GZ"
      },
      "execution_count": null,
      "outputs": []
    },
    {
      "cell_type": "markdown",
      "source": [
        "Let's put all samples together in a dataframe"
      ],
      "metadata": {
        "id": "ZaI_Md5ayUfq"
      }
    },
    {
      "cell_type": "code",
      "source": [
        "df_3d = pd.DataFrame(samples, columns=['x', 'y', 'z'])\n",
        "df_3d = pd.concat([df_3d, pd.DataFrame(samples2, columns=['x', 'y', 'z'])], axis=0)\n",
        "df_3d = pd.concat([df_3d, pd.DataFrame(samples3, columns=['x', 'y', 'z'])], axis=0)"
      ],
      "metadata": {
        "id": "jTGaB8WnyUHs"
      },
      "execution_count": null,
      "outputs": []
    },
    {
      "cell_type": "code",
      "source": [
        "df_3d"
      ],
      "metadata": {
        "id": "e8WZTSYzB3o4"
      },
      "execution_count": null,
      "outputs": []
    },
    {
      "cell_type": "markdown",
      "source": [
        "Let's [plot it](https://plotly.com/python/3d-scatter-plots/) in 3D."
      ],
      "metadata": {
        "id": "UBmt1R_0tkVv"
      }
    },
    {
      "cell_type": "code",
      "source": [
        "import plotly.express as px\n",
        "\n",
        "fig = px.scatter_3d(df_3d, )\n",
        "fig.update_traces(marker_size = 3) # makes the points smaller (better visualization)\n",
        "fig.show()"
      ],
      "metadata": {
        "id": "tPRkPPy9tAz6"
      },
      "execution_count": null,
      "outputs": []
    },
    {
      "cell_type": "markdown",
      "source": [
        "Let's try some hierarchical clustering"
      ],
      "metadata": {
        "id": "BckOLadxyg2q"
      }
    },
    {
      "cell_type": "code",
      "source": [
        "Z =\n",
        "df_3d['cluster_labels'] ="
      ],
      "metadata": {
        "id": "ukwD5v4jyx8V"
      },
      "execution_count": null,
      "outputs": []
    },
    {
      "cell_type": "code",
      "source": [
        "fig = px.scatter_3d(df_3d, )\n",
        "fig.update_traces(marker_size = 3) # makes the points smaller (better visualization)\n",
        "fig.show()"
      ],
      "metadata": {
        "id": "ly1wl4YPzAhG"
      },
      "execution_count": null,
      "outputs": []
    },
    {
      "cell_type": "markdown",
      "source": [
        "Let's try k-means"
      ],
      "metadata": {
        "id": "4DXUmc1p0bVj"
      }
    },
    {
      "cell_type": "code",
      "source": [
        "kmeans_model =\n",
        "kmeans_result ="
      ],
      "metadata": {
        "id": "oHuun0Eu0d_D"
      },
      "execution_count": null,
      "outputs": []
    },
    {
      "cell_type": "code",
      "source": [
        "df_3d['cluster_labels'] =\n",
        "df_3d"
      ],
      "metadata": {
        "id": "-PQjAHVB0317"
      },
      "execution_count": null,
      "outputs": []
    },
    {
      "cell_type": "code",
      "source": [
        "fig = px.scatter_3d(df_3d, )\n",
        "fig.update_traces(marker_size = 3)\n",
        "fig.show()"
      ],
      "metadata": {
        "id": "8wjjApui1ALe"
      },
      "execution_count": null,
      "outputs": []
    },
    {
      "cell_type": "markdown",
      "source": [
        "##Let's find the best number of clusters using both silouette and inertia."
      ],
      "metadata": {
        "id": "G_clFJsDytyJ"
      }
    },
    {
      "cell_type": "markdown",
      "source": [
        "We will use [`yellowbrick`](https://www.scikit-yb.org/en/latest/api/cluster/elbow.html)"
      ],
      "metadata": {
        "id": "ZGSJosC1yzBU"
      }
    },
    {
      "cell_type": "code",
      "source": [
        "from yellowbrick.cluster import KElbowVisualizer\n",
        "\n",
        "visualizer =\n",
        "\n",
        "visualizer.\n",
        "visualizer.show()"
      ],
      "metadata": {
        "id": "g1icU429yt15"
      },
      "execution_count": null,
      "outputs": []
    },
    {
      "cell_type": "code",
      "source": [
        "from yellowbrick.cluster import KElbowVisualizer\n",
        "\n",
        "visualizer =\n",
        "\n",
        "visualizer.\n",
        "visualizer.show()"
      ],
      "metadata": {
        "id": "as59FrCwz5yQ"
      },
      "execution_count": null,
      "outputs": []
    },
    {
      "cell_type": "markdown",
      "source": [
        "###Let's visualize the silouette figure for 3 clusters"
      ],
      "metadata": {
        "id": "EDaDG4gtyi7J"
      }
    },
    {
      "cell_type": "code",
      "source": [
        "from yellowbrick.cluster import SilhouetteVisualizer\n",
        "\n",
        "kmeans_model =\n",
        "visualizer =\n",
        "\n",
        "visualizer.\n",
        "visualizer.show()        # Finalize and render the figure"
      ],
      "metadata": {
        "id": "VK_g62PRyrQH"
      },
      "execution_count": null,
      "outputs": []
    },
    {
      "cell_type": "markdown",
      "source": [
        "##Things we could try:\n",
        "\n",
        "\n",
        "1.   What if we make the data non-Gaussian? Try [generating swiss rolls or curves](https://scikit-learn.org/1.5/datasets/sample_generators.html#generators-for-manifold-learning).\n",
        "2.   Trying different densities, sizes, number of clusters, initialization, etc.\n"
      ],
      "metadata": {
        "id": "ylRiSy8Hjpbk"
      }
    }
  ]
}