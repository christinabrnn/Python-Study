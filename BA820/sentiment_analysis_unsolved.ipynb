{
  "nbformat": 4,
  "nbformat_minor": 0,
  "metadata": {
    "colab": {
      "provenance": [],
      "collapsed_sections": [
        "KdRFU5SNwDxd",
        "sK5q9BVK4Ay1"
      ],
      "machine_shape": "hm",
      "gpuType": "T4",
      "include_colab_link": true
    },
    "kernelspec": {
      "name": "python3",
      "display_name": "Python 3"
    },
    "language_info": {
      "name": "python"
    },
    "accelerator": "GPU",
    "widgets": {
      "application/vnd.jupyter.widget-state+json": {
        "69c9a2fb510c43048bc239204ea3d06e": {
          "model_module": "@jupyter-widgets/controls",
          "model_name": "HBoxModel",
          "model_module_version": "1.5.0",
          "state": {
            "_dom_classes": [],
            "_model_module": "@jupyter-widgets/controls",
            "_model_module_version": "1.5.0",
            "_model_name": "HBoxModel",
            "_view_count": null,
            "_view_module": "@jupyter-widgets/controls",
            "_view_module_version": "1.5.0",
            "_view_name": "HBoxView",
            "box_style": "",
            "children": [
              "IPY_MODEL_82725972233143b288da5c9ad832be82",
              "IPY_MODEL_ba07b4382719469ca1947a5efb9addfb",
              "IPY_MODEL_72c7e66fe4af487e9fb87d5098879a5f"
            ],
            "layout": "IPY_MODEL_902017d53ab644eca409b2e09c6b63bd"
          }
        },
        "82725972233143b288da5c9ad832be82": {
          "model_module": "@jupyter-widgets/controls",
          "model_name": "HTMLModel",
          "model_module_version": "1.5.0",
          "state": {
            "_dom_classes": [],
            "_model_module": "@jupyter-widgets/controls",
            "_model_module_version": "1.5.0",
            "_model_name": "HTMLModel",
            "_view_count": null,
            "_view_module": "@jupyter-widgets/controls",
            "_view_module_version": "1.5.0",
            "_view_name": "HTMLView",
            "description": "",
            "description_tooltip": null,
            "layout": "IPY_MODEL_0a233ff646834dfe9899cb07d470e3d4",
            "placeholder": "​",
            "style": "IPY_MODEL_0fb3c5a6a7a64ce9ba82ade0c21ca51c",
            "value": "goodreads_train.csv: 100%"
          }
        },
        "ba07b4382719469ca1947a5efb9addfb": {
          "model_module": "@jupyter-widgets/controls",
          "model_name": "FloatProgressModel",
          "model_module_version": "1.5.0",
          "state": {
            "_dom_classes": [],
            "_model_module": "@jupyter-widgets/controls",
            "_model_module_version": "1.5.0",
            "_model_name": "FloatProgressModel",
            "_view_count": null,
            "_view_module": "@jupyter-widgets/controls",
            "_view_module_version": "1.5.0",
            "_view_name": "ProgressView",
            "bar_style": "success",
            "description": "",
            "description_tooltip": null,
            "layout": "IPY_MODEL_194ad55bb6104d0d917461145543fe7f",
            "max": 1134325146,
            "min": 0,
            "orientation": "horizontal",
            "style": "IPY_MODEL_1d8cf80dc7814496851803a0eb91265b",
            "value": 1134325146
          }
        },
        "72c7e66fe4af487e9fb87d5098879a5f": {
          "model_module": "@jupyter-widgets/controls",
          "model_name": "HTMLModel",
          "model_module_version": "1.5.0",
          "state": {
            "_dom_classes": [],
            "_model_module": "@jupyter-widgets/controls",
            "_model_module_version": "1.5.0",
            "_model_name": "HTMLModel",
            "_view_count": null,
            "_view_module": "@jupyter-widgets/controls",
            "_view_module_version": "1.5.0",
            "_view_name": "HTMLView",
            "description": "",
            "description_tooltip": null,
            "layout": "IPY_MODEL_7333bba480c74e6486a8533ccc4c23b8",
            "placeholder": "​",
            "style": "IPY_MODEL_0447546585af45fea3366db0d61ccc25",
            "value": " 1.13G/1.13G [00:14&lt;00:00, 82.1MB/s]"
          }
        },
        "902017d53ab644eca409b2e09c6b63bd": {
          "model_module": "@jupyter-widgets/base",
          "model_name": "LayoutModel",
          "model_module_version": "1.2.0",
          "state": {
            "_model_module": "@jupyter-widgets/base",
            "_model_module_version": "1.2.0",
            "_model_name": "LayoutModel",
            "_view_count": null,
            "_view_module": "@jupyter-widgets/base",
            "_view_module_version": "1.2.0",
            "_view_name": "LayoutView",
            "align_content": null,
            "align_items": null,
            "align_self": null,
            "border": null,
            "bottom": null,
            "display": null,
            "flex": null,
            "flex_flow": null,
            "grid_area": null,
            "grid_auto_columns": null,
            "grid_auto_flow": null,
            "grid_auto_rows": null,
            "grid_column": null,
            "grid_gap": null,
            "grid_row": null,
            "grid_template_areas": null,
            "grid_template_columns": null,
            "grid_template_rows": null,
            "height": null,
            "justify_content": null,
            "justify_items": null,
            "left": null,
            "margin": null,
            "max_height": null,
            "max_width": null,
            "min_height": null,
            "min_width": null,
            "object_fit": null,
            "object_position": null,
            "order": null,
            "overflow": null,
            "overflow_x": null,
            "overflow_y": null,
            "padding": null,
            "right": null,
            "top": null,
            "visibility": null,
            "width": null
          }
        },
        "0a233ff646834dfe9899cb07d470e3d4": {
          "model_module": "@jupyter-widgets/base",
          "model_name": "LayoutModel",
          "model_module_version": "1.2.0",
          "state": {
            "_model_module": "@jupyter-widgets/base",
            "_model_module_version": "1.2.0",
            "_model_name": "LayoutModel",
            "_view_count": null,
            "_view_module": "@jupyter-widgets/base",
            "_view_module_version": "1.2.0",
            "_view_name": "LayoutView",
            "align_content": null,
            "align_items": null,
            "align_self": null,
            "border": null,
            "bottom": null,
            "display": null,
            "flex": null,
            "flex_flow": null,
            "grid_area": null,
            "grid_auto_columns": null,
            "grid_auto_flow": null,
            "grid_auto_rows": null,
            "grid_column": null,
            "grid_gap": null,
            "grid_row": null,
            "grid_template_areas": null,
            "grid_template_columns": null,
            "grid_template_rows": null,
            "height": null,
            "justify_content": null,
            "justify_items": null,
            "left": null,
            "margin": null,
            "max_height": null,
            "max_width": null,
            "min_height": null,
            "min_width": null,
            "object_fit": null,
            "object_position": null,
            "order": null,
            "overflow": null,
            "overflow_x": null,
            "overflow_y": null,
            "padding": null,
            "right": null,
            "top": null,
            "visibility": null,
            "width": null
          }
        },
        "0fb3c5a6a7a64ce9ba82ade0c21ca51c": {
          "model_module": "@jupyter-widgets/controls",
          "model_name": "DescriptionStyleModel",
          "model_module_version": "1.5.0",
          "state": {
            "_model_module": "@jupyter-widgets/controls",
            "_model_module_version": "1.5.0",
            "_model_name": "DescriptionStyleModel",
            "_view_count": null,
            "_view_module": "@jupyter-widgets/base",
            "_view_module_version": "1.2.0",
            "_view_name": "StyleView",
            "description_width": ""
          }
        },
        "194ad55bb6104d0d917461145543fe7f": {
          "model_module": "@jupyter-widgets/base",
          "model_name": "LayoutModel",
          "model_module_version": "1.2.0",
          "state": {
            "_model_module": "@jupyter-widgets/base",
            "_model_module_version": "1.2.0",
            "_model_name": "LayoutModel",
            "_view_count": null,
            "_view_module": "@jupyter-widgets/base",
            "_view_module_version": "1.2.0",
            "_view_name": "LayoutView",
            "align_content": null,
            "align_items": null,
            "align_self": null,
            "border": null,
            "bottom": null,
            "display": null,
            "flex": null,
            "flex_flow": null,
            "grid_area": null,
            "grid_auto_columns": null,
            "grid_auto_flow": null,
            "grid_auto_rows": null,
            "grid_column": null,
            "grid_gap": null,
            "grid_row": null,
            "grid_template_areas": null,
            "grid_template_columns": null,
            "grid_template_rows": null,
            "height": null,
            "justify_content": null,
            "justify_items": null,
            "left": null,
            "margin": null,
            "max_height": null,
            "max_width": null,
            "min_height": null,
            "min_width": null,
            "object_fit": null,
            "object_position": null,
            "order": null,
            "overflow": null,
            "overflow_x": null,
            "overflow_y": null,
            "padding": null,
            "right": null,
            "top": null,
            "visibility": null,
            "width": null
          }
        },
        "1d8cf80dc7814496851803a0eb91265b": {
          "model_module": "@jupyter-widgets/controls",
          "model_name": "ProgressStyleModel",
          "model_module_version": "1.5.0",
          "state": {
            "_model_module": "@jupyter-widgets/controls",
            "_model_module_version": "1.5.0",
            "_model_name": "ProgressStyleModel",
            "_view_count": null,
            "_view_module": "@jupyter-widgets/base",
            "_view_module_version": "1.2.0",
            "_view_name": "StyleView",
            "bar_color": null,
            "description_width": ""
          }
        },
        "7333bba480c74e6486a8533ccc4c23b8": {
          "model_module": "@jupyter-widgets/base",
          "model_name": "LayoutModel",
          "model_module_version": "1.2.0",
          "state": {
            "_model_module": "@jupyter-widgets/base",
            "_model_module_version": "1.2.0",
            "_model_name": "LayoutModel",
            "_view_count": null,
            "_view_module": "@jupyter-widgets/base",
            "_view_module_version": "1.2.0",
            "_view_name": "LayoutView",
            "align_content": null,
            "align_items": null,
            "align_self": null,
            "border": null,
            "bottom": null,
            "display": null,
            "flex": null,
            "flex_flow": null,
            "grid_area": null,
            "grid_auto_columns": null,
            "grid_auto_flow": null,
            "grid_auto_rows": null,
            "grid_column": null,
            "grid_gap": null,
            "grid_row": null,
            "grid_template_areas": null,
            "grid_template_columns": null,
            "grid_template_rows": null,
            "height": null,
            "justify_content": null,
            "justify_items": null,
            "left": null,
            "margin": null,
            "max_height": null,
            "max_width": null,
            "min_height": null,
            "min_width": null,
            "object_fit": null,
            "object_position": null,
            "order": null,
            "overflow": null,
            "overflow_x": null,
            "overflow_y": null,
            "padding": null,
            "right": null,
            "top": null,
            "visibility": null,
            "width": null
          }
        },
        "0447546585af45fea3366db0d61ccc25": {
          "model_module": "@jupyter-widgets/controls",
          "model_name": "DescriptionStyleModel",
          "model_module_version": "1.5.0",
          "state": {
            "_model_module": "@jupyter-widgets/controls",
            "_model_module_version": "1.5.0",
            "_model_name": "DescriptionStyleModel",
            "_view_count": null,
            "_view_module": "@jupyter-widgets/base",
            "_view_module_version": "1.2.0",
            "_view_name": "StyleView",
            "description_width": ""
          }
        },
        "0b2b9d5fb2f14c26b2bfe0be847e6b84": {
          "model_module": "@jupyter-widgets/controls",
          "model_name": "HBoxModel",
          "model_module_version": "1.5.0",
          "state": {
            "_dom_classes": [],
            "_model_module": "@jupyter-widgets/controls",
            "_model_module_version": "1.5.0",
            "_model_name": "HBoxModel",
            "_view_count": null,
            "_view_module": "@jupyter-widgets/controls",
            "_view_module_version": "1.5.0",
            "_view_name": "HBoxView",
            "box_style": "",
            "children": [
              "IPY_MODEL_e2b35113fc79460694b9b371289f482c",
              "IPY_MODEL_b7edad7366b1481d95bd343f4f552c73",
              "IPY_MODEL_cc26fe24f3b84670b107d0e8801a17f1"
            ],
            "layout": "IPY_MODEL_16d246b63e6e41f3a953c290bda5c483"
          }
        },
        "e2b35113fc79460694b9b371289f482c": {
          "model_module": "@jupyter-widgets/controls",
          "model_name": "HTMLModel",
          "model_module_version": "1.5.0",
          "state": {
            "_dom_classes": [],
            "_model_module": "@jupyter-widgets/controls",
            "_model_module_version": "1.5.0",
            "_model_name": "HTMLModel",
            "_view_count": null,
            "_view_module": "@jupyter-widgets/controls",
            "_view_module_version": "1.5.0",
            "_view_name": "HTMLView",
            "description": "",
            "description_tooltip": null,
            "layout": "IPY_MODEL_bb49849afa16401488c388dcb713d46f",
            "placeholder": "​",
            "style": "IPY_MODEL_f21f9672b0a545bfac4a307c3d7e4002",
            "value": "Generating train split: 100%"
          }
        },
        "b7edad7366b1481d95bd343f4f552c73": {
          "model_module": "@jupyter-widgets/controls",
          "model_name": "FloatProgressModel",
          "model_module_version": "1.5.0",
          "state": {
            "_dom_classes": [],
            "_model_module": "@jupyter-widgets/controls",
            "_model_module_version": "1.5.0",
            "_model_name": "FloatProgressModel",
            "_view_count": null,
            "_view_module": "@jupyter-widgets/controls",
            "_view_module_version": "1.5.0",
            "_view_name": "ProgressView",
            "bar_style": "success",
            "description": "",
            "description_tooltip": null,
            "layout": "IPY_MODEL_f13c95d489ab42619de1023cef442007",
            "max": 900000,
            "min": 0,
            "orientation": "horizontal",
            "style": "IPY_MODEL_96733e94a79b40a9b07af073c907510f",
            "value": 900000
          }
        },
        "cc26fe24f3b84670b107d0e8801a17f1": {
          "model_module": "@jupyter-widgets/controls",
          "model_name": "HTMLModel",
          "model_module_version": "1.5.0",
          "state": {
            "_dom_classes": [],
            "_model_module": "@jupyter-widgets/controls",
            "_model_module_version": "1.5.0",
            "_model_name": "HTMLModel",
            "_view_count": null,
            "_view_module": "@jupyter-widgets/controls",
            "_view_module_version": "1.5.0",
            "_view_name": "HTMLView",
            "description": "",
            "description_tooltip": null,
            "layout": "IPY_MODEL_b53c75995bd14831a30048b1b438204d",
            "placeholder": "​",
            "style": "IPY_MODEL_28778a4c2e664016b97c3eff6ad632ba",
            "value": " 900000/900000 [00:28&lt;00:00, 51434.81 examples/s]"
          }
        },
        "16d246b63e6e41f3a953c290bda5c483": {
          "model_module": "@jupyter-widgets/base",
          "model_name": "LayoutModel",
          "model_module_version": "1.2.0",
          "state": {
            "_model_module": "@jupyter-widgets/base",
            "_model_module_version": "1.2.0",
            "_model_name": "LayoutModel",
            "_view_count": null,
            "_view_module": "@jupyter-widgets/base",
            "_view_module_version": "1.2.0",
            "_view_name": "LayoutView",
            "align_content": null,
            "align_items": null,
            "align_self": null,
            "border": null,
            "bottom": null,
            "display": null,
            "flex": null,
            "flex_flow": null,
            "grid_area": null,
            "grid_auto_columns": null,
            "grid_auto_flow": null,
            "grid_auto_rows": null,
            "grid_column": null,
            "grid_gap": null,
            "grid_row": null,
            "grid_template_areas": null,
            "grid_template_columns": null,
            "grid_template_rows": null,
            "height": null,
            "justify_content": null,
            "justify_items": null,
            "left": null,
            "margin": null,
            "max_height": null,
            "max_width": null,
            "min_height": null,
            "min_width": null,
            "object_fit": null,
            "object_position": null,
            "order": null,
            "overflow": null,
            "overflow_x": null,
            "overflow_y": null,
            "padding": null,
            "right": null,
            "top": null,
            "visibility": null,
            "width": null
          }
        },
        "bb49849afa16401488c388dcb713d46f": {
          "model_module": "@jupyter-widgets/base",
          "model_name": "LayoutModel",
          "model_module_version": "1.2.0",
          "state": {
            "_model_module": "@jupyter-widgets/base",
            "_model_module_version": "1.2.0",
            "_model_name": "LayoutModel",
            "_view_count": null,
            "_view_module": "@jupyter-widgets/base",
            "_view_module_version": "1.2.0",
            "_view_name": "LayoutView",
            "align_content": null,
            "align_items": null,
            "align_self": null,
            "border": null,
            "bottom": null,
            "display": null,
            "flex": null,
            "flex_flow": null,
            "grid_area": null,
            "grid_auto_columns": null,
            "grid_auto_flow": null,
            "grid_auto_rows": null,
            "grid_column": null,
            "grid_gap": null,
            "grid_row": null,
            "grid_template_areas": null,
            "grid_template_columns": null,
            "grid_template_rows": null,
            "height": null,
            "justify_content": null,
            "justify_items": null,
            "left": null,
            "margin": null,
            "max_height": null,
            "max_width": null,
            "min_height": null,
            "min_width": null,
            "object_fit": null,
            "object_position": null,
            "order": null,
            "overflow": null,
            "overflow_x": null,
            "overflow_y": null,
            "padding": null,
            "right": null,
            "top": null,
            "visibility": null,
            "width": null
          }
        },
        "f21f9672b0a545bfac4a307c3d7e4002": {
          "model_module": "@jupyter-widgets/controls",
          "model_name": "DescriptionStyleModel",
          "model_module_version": "1.5.0",
          "state": {
            "_model_module": "@jupyter-widgets/controls",
            "_model_module_version": "1.5.0",
            "_model_name": "DescriptionStyleModel",
            "_view_count": null,
            "_view_module": "@jupyter-widgets/base",
            "_view_module_version": "1.2.0",
            "_view_name": "StyleView",
            "description_width": ""
          }
        },
        "f13c95d489ab42619de1023cef442007": {
          "model_module": "@jupyter-widgets/base",
          "model_name": "LayoutModel",
          "model_module_version": "1.2.0",
          "state": {
            "_model_module": "@jupyter-widgets/base",
            "_model_module_version": "1.2.0",
            "_model_name": "LayoutModel",
            "_view_count": null,
            "_view_module": "@jupyter-widgets/base",
            "_view_module_version": "1.2.0",
            "_view_name": "LayoutView",
            "align_content": null,
            "align_items": null,
            "align_self": null,
            "border": null,
            "bottom": null,
            "display": null,
            "flex": null,
            "flex_flow": null,
            "grid_area": null,
            "grid_auto_columns": null,
            "grid_auto_flow": null,
            "grid_auto_rows": null,
            "grid_column": null,
            "grid_gap": null,
            "grid_row": null,
            "grid_template_areas": null,
            "grid_template_columns": null,
            "grid_template_rows": null,
            "height": null,
            "justify_content": null,
            "justify_items": null,
            "left": null,
            "margin": null,
            "max_height": null,
            "max_width": null,
            "min_height": null,
            "min_width": null,
            "object_fit": null,
            "object_position": null,
            "order": null,
            "overflow": null,
            "overflow_x": null,
            "overflow_y": null,
            "padding": null,
            "right": null,
            "top": null,
            "visibility": null,
            "width": null
          }
        },
        "96733e94a79b40a9b07af073c907510f": {
          "model_module": "@jupyter-widgets/controls",
          "model_name": "ProgressStyleModel",
          "model_module_version": "1.5.0",
          "state": {
            "_model_module": "@jupyter-widgets/controls",
            "_model_module_version": "1.5.0",
            "_model_name": "ProgressStyleModel",
            "_view_count": null,
            "_view_module": "@jupyter-widgets/base",
            "_view_module_version": "1.2.0",
            "_view_name": "StyleView",
            "bar_color": null,
            "description_width": ""
          }
        },
        "b53c75995bd14831a30048b1b438204d": {
          "model_module": "@jupyter-widgets/base",
          "model_name": "LayoutModel",
          "model_module_version": "1.2.0",
          "state": {
            "_model_module": "@jupyter-widgets/base",
            "_model_module_version": "1.2.0",
            "_model_name": "LayoutModel",
            "_view_count": null,
            "_view_module": "@jupyter-widgets/base",
            "_view_module_version": "1.2.0",
            "_view_name": "LayoutView",
            "align_content": null,
            "align_items": null,
            "align_self": null,
            "border": null,
            "bottom": null,
            "display": null,
            "flex": null,
            "flex_flow": null,
            "grid_area": null,
            "grid_auto_columns": null,
            "grid_auto_flow": null,
            "grid_auto_rows": null,
            "grid_column": null,
            "grid_gap": null,
            "grid_row": null,
            "grid_template_areas": null,
            "grid_template_columns": null,
            "grid_template_rows": null,
            "height": null,
            "justify_content": null,
            "justify_items": null,
            "left": null,
            "margin": null,
            "max_height": null,
            "max_width": null,
            "min_height": null,
            "min_width": null,
            "object_fit": null,
            "object_position": null,
            "order": null,
            "overflow": null,
            "overflow_x": null,
            "overflow_y": null,
            "padding": null,
            "right": null,
            "top": null,
            "visibility": null,
            "width": null
          }
        },
        "28778a4c2e664016b97c3eff6ad632ba": {
          "model_module": "@jupyter-widgets/controls",
          "model_name": "DescriptionStyleModel",
          "model_module_version": "1.5.0",
          "state": {
            "_model_module": "@jupyter-widgets/controls",
            "_model_module_version": "1.5.0",
            "_model_name": "DescriptionStyleModel",
            "_view_count": null,
            "_view_module": "@jupyter-widgets/base",
            "_view_module_version": "1.2.0",
            "_view_name": "StyleView",
            "description_width": ""
          }
        }
      }
    }
  },
  "cells": [
    {
      "cell_type": "markdown",
      "metadata": {
        "id": "view-in-github",
        "colab_type": "text"
      },
      "source": [
        "<a href=\"https://colab.research.google.com/github/christinabrnn/Python-Study/blob/main/BA820/sentiment_analysis_unsolved.ipynb\" target=\"_parent\"><img src=\"https://colab.research.google.com/assets/colab-badge.svg\" alt=\"Open In Colab\"/></a>"
      ]
    },
    {
      "cell_type": "markdown",
      "source": [
        "\n",
        "**Course: BA820 - Unsupervised and Unstructured ML**\n",
        "\n",
        "**Notebook created by: Mohannad Elhamod**"
      ],
      "metadata": {
        "id": "ETX9MEmJqpPD"
      }
    },
    {
      "cell_type": "markdown",
      "source": [
        "# Book Review Dataset"
      ],
      "metadata": {
        "id": "gkgDw2VaqqVq"
      }
    },
    {
      "cell_type": "markdown",
      "source": [
        "\n",
        "In this notebook, we are working with a dataset of book reviews to develop a model that provides deeper insights beyond just numerical ratings.  \n",
        "\n",
        "- We aim to compare ratings with a detailed analysis of the review text.  \n",
        "- We want to extract sentiment scores for different aspects of the review, such as the story, writing style, and character development.  \n",
        "- We may need to discard reviews where the text and the numerical rating show a clear disagreement.  \n"
      ],
      "metadata": {
        "id": "rFZfQsCuvE34"
      }
    },
    {
      "cell_type": "markdown",
      "source": [
        "## Loading The Data"
      ],
      "metadata": {
        "id": "KdRFU5SNwDxd"
      }
    },
    {
      "cell_type": "code",
      "source": [
        "!pip install datasets"
      ],
      "metadata": {
        "colab": {
          "base_uri": "https://localhost:8080/"
        },
        "id": "7W_9FngCtiEU",
        "outputId": "15107787-b575-471a-8cc7-3008c8793dc9"
      },
      "execution_count": null,
      "outputs": [
        {
          "output_type": "stream",
          "name": "stdout",
          "text": [
            "Collecting datasets\n",
            "  Downloading datasets-3.3.2-py3-none-any.whl.metadata (19 kB)\n",
            "Requirement already satisfied: filelock in /usr/local/lib/python3.11/dist-packages (from datasets) (3.17.0)\n",
            "Requirement already satisfied: numpy>=1.17 in /usr/local/lib/python3.11/dist-packages (from datasets) (1.26.4)\n",
            "Requirement already satisfied: pyarrow>=15.0.0 in /usr/local/lib/python3.11/dist-packages (from datasets) (17.0.0)\n",
            "Collecting dill<0.3.9,>=0.3.0 (from datasets)\n",
            "  Downloading dill-0.3.8-py3-none-any.whl.metadata (10 kB)\n",
            "Requirement already satisfied: pandas in /usr/local/lib/python3.11/dist-packages (from datasets) (2.2.2)\n",
            "Requirement already satisfied: requests>=2.32.2 in /usr/local/lib/python3.11/dist-packages (from datasets) (2.32.3)\n",
            "Requirement already satisfied: tqdm>=4.66.3 in /usr/local/lib/python3.11/dist-packages (from datasets) (4.67.1)\n",
            "Collecting xxhash (from datasets)\n",
            "  Downloading xxhash-3.5.0-cp311-cp311-manylinux_2_17_x86_64.manylinux2014_x86_64.whl.metadata (12 kB)\n",
            "Collecting multiprocess<0.70.17 (from datasets)\n",
            "  Downloading multiprocess-0.70.16-py311-none-any.whl.metadata (7.2 kB)\n",
            "Requirement already satisfied: fsspec<=2024.12.0,>=2023.1.0 in /usr/local/lib/python3.11/dist-packages (from fsspec[http]<=2024.12.0,>=2023.1.0->datasets) (2024.10.0)\n",
            "Requirement already satisfied: aiohttp in /usr/local/lib/python3.11/dist-packages (from datasets) (3.11.12)\n",
            "Requirement already satisfied: huggingface-hub>=0.24.0 in /usr/local/lib/python3.11/dist-packages (from datasets) (0.28.1)\n",
            "Requirement already satisfied: packaging in /usr/local/lib/python3.11/dist-packages (from datasets) (24.2)\n",
            "Requirement already satisfied: pyyaml>=5.1 in /usr/local/lib/python3.11/dist-packages (from datasets) (6.0.2)\n",
            "Requirement already satisfied: aiohappyeyeballs>=2.3.0 in /usr/local/lib/python3.11/dist-packages (from aiohttp->datasets) (2.4.6)\n",
            "Requirement already satisfied: aiosignal>=1.1.2 in /usr/local/lib/python3.11/dist-packages (from aiohttp->datasets) (1.3.2)\n",
            "Requirement already satisfied: attrs>=17.3.0 in /usr/local/lib/python3.11/dist-packages (from aiohttp->datasets) (25.1.0)\n",
            "Requirement already satisfied: frozenlist>=1.1.1 in /usr/local/lib/python3.11/dist-packages (from aiohttp->datasets) (1.5.0)\n",
            "Requirement already satisfied: multidict<7.0,>=4.5 in /usr/local/lib/python3.11/dist-packages (from aiohttp->datasets) (6.1.0)\n",
            "Requirement already satisfied: propcache>=0.2.0 in /usr/local/lib/python3.11/dist-packages (from aiohttp->datasets) (0.2.1)\n",
            "Requirement already satisfied: yarl<2.0,>=1.17.0 in /usr/local/lib/python3.11/dist-packages (from aiohttp->datasets) (1.18.3)\n",
            "Requirement already satisfied: typing-extensions>=3.7.4.3 in /usr/local/lib/python3.11/dist-packages (from huggingface-hub>=0.24.0->datasets) (4.12.2)\n",
            "Requirement already satisfied: charset-normalizer<4,>=2 in /usr/local/lib/python3.11/dist-packages (from requests>=2.32.2->datasets) (3.4.1)\n",
            "Requirement already satisfied: idna<4,>=2.5 in /usr/local/lib/python3.11/dist-packages (from requests>=2.32.2->datasets) (3.10)\n",
            "Requirement already satisfied: urllib3<3,>=1.21.1 in /usr/local/lib/python3.11/dist-packages (from requests>=2.32.2->datasets) (2.3.0)\n",
            "Requirement already satisfied: certifi>=2017.4.17 in /usr/local/lib/python3.11/dist-packages (from requests>=2.32.2->datasets) (2025.1.31)\n",
            "Requirement already satisfied: python-dateutil>=2.8.2 in /usr/local/lib/python3.11/dist-packages (from pandas->datasets) (2.8.2)\n",
            "Requirement already satisfied: pytz>=2020.1 in /usr/local/lib/python3.11/dist-packages (from pandas->datasets) (2025.1)\n",
            "Requirement already satisfied: tzdata>=2022.7 in /usr/local/lib/python3.11/dist-packages (from pandas->datasets) (2025.1)\n",
            "Requirement already satisfied: six>=1.5 in /usr/local/lib/python3.11/dist-packages (from python-dateutil>=2.8.2->pandas->datasets) (1.17.0)\n",
            "Downloading datasets-3.3.2-py3-none-any.whl (485 kB)\n",
            "\u001b[2K   \u001b[90m━━━━━━━━━━━━━━━━━━━━━━━━━━━━━━━━━━━━━━━━\u001b[0m \u001b[32m485.4/485.4 kB\u001b[0m \u001b[31m11.5 MB/s\u001b[0m eta \u001b[36m0:00:00\u001b[0m\n",
            "\u001b[?25hDownloading dill-0.3.8-py3-none-any.whl (116 kB)\n",
            "\u001b[2K   \u001b[90m━━━━━━━━━━━━━━━━━━━━━━━━━━━━━━━━━━━━━━━━\u001b[0m \u001b[32m116.3/116.3 kB\u001b[0m \u001b[31m8.6 MB/s\u001b[0m eta \u001b[36m0:00:00\u001b[0m\n",
            "\u001b[?25hDownloading multiprocess-0.70.16-py311-none-any.whl (143 kB)\n",
            "\u001b[2K   \u001b[90m━━━━━━━━━━━━━━━━━━━━━━━━━━━━━━━━━━━━━━━━\u001b[0m \u001b[32m143.5/143.5 kB\u001b[0m \u001b[31m11.1 MB/s\u001b[0m eta \u001b[36m0:00:00\u001b[0m\n",
            "\u001b[?25hDownloading xxhash-3.5.0-cp311-cp311-manylinux_2_17_x86_64.manylinux2014_x86_64.whl (194 kB)\n",
            "\u001b[2K   \u001b[90m━━━━━━━━━━━━━━━━━━━━━━━━━━━━━━━━━━━━━━━━\u001b[0m \u001b[32m194.8/194.8 kB\u001b[0m \u001b[31m16.2 MB/s\u001b[0m eta \u001b[36m0:00:00\u001b[0m\n",
            "\u001b[?25hInstalling collected packages: xxhash, dill, multiprocess, datasets\n",
            "Successfully installed datasets-3.3.2 dill-0.3.8 multiprocess-0.70.16 xxhash-3.5.0\n"
          ]
        }
      ]
    },
    {
      "cell_type": "code",
      "execution_count": null,
      "metadata": {
        "id": "FHqbMa4ppfcg",
        "colab": {
          "base_uri": "https://localhost:8080/",
          "referenced_widgets": [
            "69c9a2fb510c43048bc239204ea3d06e",
            "82725972233143b288da5c9ad832be82",
            "ba07b4382719469ca1947a5efb9addfb",
            "72c7e66fe4af487e9fb87d5098879a5f",
            "902017d53ab644eca409b2e09c6b63bd",
            "0a233ff646834dfe9899cb07d470e3d4",
            "0fb3c5a6a7a64ce9ba82ade0c21ca51c",
            "194ad55bb6104d0d917461145543fe7f",
            "1d8cf80dc7814496851803a0eb91265b",
            "7333bba480c74e6486a8533ccc4c23b8",
            "0447546585af45fea3366db0d61ccc25",
            "0b2b9d5fb2f14c26b2bfe0be847e6b84",
            "e2b35113fc79460694b9b371289f482c",
            "b7edad7366b1481d95bd343f4f552c73",
            "cc26fe24f3b84670b107d0e8801a17f1",
            "16d246b63e6e41f3a953c290bda5c483",
            "bb49849afa16401488c388dcb713d46f",
            "f21f9672b0a545bfac4a307c3d7e4002",
            "f13c95d489ab42619de1023cef442007",
            "96733e94a79b40a9b07af073c907510f",
            "b53c75995bd14831a30048b1b438204d",
            "28778a4c2e664016b97c3eff6ad632ba"
          ]
        },
        "outputId": "b62f4f22-d4fb-48a2-90b6-0d119dca6797"
      },
      "outputs": [
        {
          "output_type": "stream",
          "name": "stderr",
          "text": [
            "/usr/local/lib/python3.11/dist-packages/huggingface_hub/utils/_auth.py:94: UserWarning: \n",
            "The secret `HF_TOKEN` does not exist in your Colab secrets.\n",
            "To authenticate with the Hugging Face Hub, create a token in your settings tab (https://huggingface.co/settings/tokens), set it as secret in your Google Colab and restart your session.\n",
            "You will be able to reuse this secret in all of your notebooks.\n",
            "Please note that authentication is recommended but still optional to access public models or datasets.\n",
            "  warnings.warn(\n"
          ]
        },
        {
          "output_type": "display_data",
          "data": {
            "text/plain": [
              "goodreads_train.csv:   0%|          | 0.00/1.13G [00:00<?, ?B/s]"
            ],
            "application/vnd.jupyter.widget-view+json": {
              "version_major": 2,
              "version_minor": 0,
              "model_id": "69c9a2fb510c43048bc239204ea3d06e"
            }
          },
          "metadata": {}
        },
        {
          "output_type": "display_data",
          "data": {
            "text/plain": [
              "Generating train split:   0%|          | 0/900000 [00:00<?, ? examples/s]"
            ],
            "application/vnd.jupyter.widget-view+json": {
              "version_major": 2,
              "version_minor": 0,
              "model_id": "0b2b9d5fb2f14c26b2bfe0be847e6b84"
            }
          },
          "metadata": {}
        }
      ],
      "source": [
        "from datasets import load_dataset\n",
        "\n",
        "ds = load_dataset(\"qmaruf/goodreads-rating\")"
      ]
    },
    {
      "cell_type": "code",
      "source": [
        "dataset_df = ds[\"train\"].to_pandas()\n",
        "dataset_df.drop(columns=[\"book_id\", \"user_id\", \"review_id\", \"date_added\", \"date_updated\", \"read_at\", \"started_at\", \"n_votes\",\"n_comments\"], inplace=True)\n",
        "dataset_df = dataset_df.sample(frac=0.02, random_state=42)"
      ],
      "metadata": {
        "id": "vjUbtJnXttd7"
      },
      "execution_count": null,
      "outputs": []
    },
    {
      "cell_type": "code",
      "source": [
        "dataset_df"
      ],
      "metadata": {
        "colab": {
          "base_uri": "https://localhost:8080/"
        },
        "id": "6dU1i6bK9yVB",
        "outputId": "0e041bb7-a87c-4282-8e2f-acfcffcafd7f"
      },
      "execution_count": null,
      "outputs": [
        {
          "output_type": "execute_result",
          "data": {
            "text/plain": [
              "        rating                                        review_text\n",
              "527984       4  I'm proudly telling you that I'm a big fan of ...\n",
              "618093       4  4.25 stars \\n This was so, so much better than...\n",
              "484217       3  For some reason finding a good male lead urban...\n",
              "161123       4  It's about the son of a pepper merchant who fi...\n",
              "718642       4  the most beautiful display of emotions in this...\n",
              "...        ...                                                ...\n",
              "333527       4  AH SO GOOD WHY DOES NO LIBRARY HAVE THE 4TH ON...\n",
              "213710       4  I will say I was struggling a bit with this bo...\n",
              "676714       4  I liked this book. It was a little creepy, but...\n",
              "70240        2  I selected this book because it was the last b...\n",
              "583045       5  This is the second time I've read this story b...\n",
              "\n",
              "[18000 rows x 2 columns]"
            ],
            "text/html": [
              "\n",
              "  <div id=\"df-33a28c15-da43-4676-a498-e0dce9c4d739\" class=\"colab-df-container\">\n",
              "    <div>\n",
              "<style scoped>\n",
              "    .dataframe tbody tr th:only-of-type {\n",
              "        vertical-align: middle;\n",
              "    }\n",
              "\n",
              "    .dataframe tbody tr th {\n",
              "        vertical-align: top;\n",
              "    }\n",
              "\n",
              "    .dataframe thead th {\n",
              "        text-align: right;\n",
              "    }\n",
              "</style>\n",
              "<table border=\"1\" class=\"dataframe\">\n",
              "  <thead>\n",
              "    <tr style=\"text-align: right;\">\n",
              "      <th></th>\n",
              "      <th>rating</th>\n",
              "      <th>review_text</th>\n",
              "    </tr>\n",
              "  </thead>\n",
              "  <tbody>\n",
              "    <tr>\n",
              "      <th>527984</th>\n",
              "      <td>4</td>\n",
              "      <td>I'm proudly telling you that I'm a big fan of ...</td>\n",
              "    </tr>\n",
              "    <tr>\n",
              "      <th>618093</th>\n",
              "      <td>4</td>\n",
              "      <td>4.25 stars \\n This was so, so much better than...</td>\n",
              "    </tr>\n",
              "    <tr>\n",
              "      <th>484217</th>\n",
              "      <td>3</td>\n",
              "      <td>For some reason finding a good male lead urban...</td>\n",
              "    </tr>\n",
              "    <tr>\n",
              "      <th>161123</th>\n",
              "      <td>4</td>\n",
              "      <td>It's about the son of a pepper merchant who fi...</td>\n",
              "    </tr>\n",
              "    <tr>\n",
              "      <th>718642</th>\n",
              "      <td>4</td>\n",
              "      <td>the most beautiful display of emotions in this...</td>\n",
              "    </tr>\n",
              "    <tr>\n",
              "      <th>...</th>\n",
              "      <td>...</td>\n",
              "      <td>...</td>\n",
              "    </tr>\n",
              "    <tr>\n",
              "      <th>333527</th>\n",
              "      <td>4</td>\n",
              "      <td>AH SO GOOD WHY DOES NO LIBRARY HAVE THE 4TH ON...</td>\n",
              "    </tr>\n",
              "    <tr>\n",
              "      <th>213710</th>\n",
              "      <td>4</td>\n",
              "      <td>I will say I was struggling a bit with this bo...</td>\n",
              "    </tr>\n",
              "    <tr>\n",
              "      <th>676714</th>\n",
              "      <td>4</td>\n",
              "      <td>I liked this book. It was a little creepy, but...</td>\n",
              "    </tr>\n",
              "    <tr>\n",
              "      <th>70240</th>\n",
              "      <td>2</td>\n",
              "      <td>I selected this book because it was the last b...</td>\n",
              "    </tr>\n",
              "    <tr>\n",
              "      <th>583045</th>\n",
              "      <td>5</td>\n",
              "      <td>This is the second time I've read this story b...</td>\n",
              "    </tr>\n",
              "  </tbody>\n",
              "</table>\n",
              "<p>18000 rows × 2 columns</p>\n",
              "</div>\n",
              "    <div class=\"colab-df-buttons\">\n",
              "\n",
              "  <div class=\"colab-df-container\">\n",
              "    <button class=\"colab-df-convert\" onclick=\"convertToInteractive('df-33a28c15-da43-4676-a498-e0dce9c4d739')\"\n",
              "            title=\"Convert this dataframe to an interactive table.\"\n",
              "            style=\"display:none;\">\n",
              "\n",
              "  <svg xmlns=\"http://www.w3.org/2000/svg\" height=\"24px\" viewBox=\"0 -960 960 960\">\n",
              "    <path d=\"M120-120v-720h720v720H120Zm60-500h600v-160H180v160Zm220 220h160v-160H400v160Zm0 220h160v-160H400v160ZM180-400h160v-160H180v160Zm440 0h160v-160H620v160ZM180-180h160v-160H180v160Zm440 0h160v-160H620v160Z\"/>\n",
              "  </svg>\n",
              "    </button>\n",
              "\n",
              "  <style>\n",
              "    .colab-df-container {\n",
              "      display:flex;\n",
              "      gap: 12px;\n",
              "    }\n",
              "\n",
              "    .colab-df-convert {\n",
              "      background-color: #E8F0FE;\n",
              "      border: none;\n",
              "      border-radius: 50%;\n",
              "      cursor: pointer;\n",
              "      display: none;\n",
              "      fill: #1967D2;\n",
              "      height: 32px;\n",
              "      padding: 0 0 0 0;\n",
              "      width: 32px;\n",
              "    }\n",
              "\n",
              "    .colab-df-convert:hover {\n",
              "      background-color: #E2EBFA;\n",
              "      box-shadow: 0px 1px 2px rgba(60, 64, 67, 0.3), 0px 1px 3px 1px rgba(60, 64, 67, 0.15);\n",
              "      fill: #174EA6;\n",
              "    }\n",
              "\n",
              "    .colab-df-buttons div {\n",
              "      margin-bottom: 4px;\n",
              "    }\n",
              "\n",
              "    [theme=dark] .colab-df-convert {\n",
              "      background-color: #3B4455;\n",
              "      fill: #D2E3FC;\n",
              "    }\n",
              "\n",
              "    [theme=dark] .colab-df-convert:hover {\n",
              "      background-color: #434B5C;\n",
              "      box-shadow: 0px 1px 3px 1px rgba(0, 0, 0, 0.15);\n",
              "      filter: drop-shadow(0px 1px 2px rgba(0, 0, 0, 0.3));\n",
              "      fill: #FFFFFF;\n",
              "    }\n",
              "  </style>\n",
              "\n",
              "    <script>\n",
              "      const buttonEl =\n",
              "        document.querySelector('#df-33a28c15-da43-4676-a498-e0dce9c4d739 button.colab-df-convert');\n",
              "      buttonEl.style.display =\n",
              "        google.colab.kernel.accessAllowed ? 'block' : 'none';\n",
              "\n",
              "      async function convertToInteractive(key) {\n",
              "        const element = document.querySelector('#df-33a28c15-da43-4676-a498-e0dce9c4d739');\n",
              "        const dataTable =\n",
              "          await google.colab.kernel.invokeFunction('convertToInteractive',\n",
              "                                                    [key], {});\n",
              "        if (!dataTable) return;\n",
              "\n",
              "        const docLinkHtml = 'Like what you see? Visit the ' +\n",
              "          '<a target=\"_blank\" href=https://colab.research.google.com/notebooks/data_table.ipynb>data table notebook</a>'\n",
              "          + ' to learn more about interactive tables.';\n",
              "        element.innerHTML = '';\n",
              "        dataTable['output_type'] = 'display_data';\n",
              "        await google.colab.output.renderOutput(dataTable, element);\n",
              "        const docLink = document.createElement('div');\n",
              "        docLink.innerHTML = docLinkHtml;\n",
              "        element.appendChild(docLink);\n",
              "      }\n",
              "    </script>\n",
              "  </div>\n",
              "\n",
              "\n",
              "<div id=\"df-1ed98ca3-6c11-4926-a59b-4d4a422b9514\">\n",
              "  <button class=\"colab-df-quickchart\" onclick=\"quickchart('df-1ed98ca3-6c11-4926-a59b-4d4a422b9514')\"\n",
              "            title=\"Suggest charts\"\n",
              "            style=\"display:none;\">\n",
              "\n",
              "<svg xmlns=\"http://www.w3.org/2000/svg\" height=\"24px\"viewBox=\"0 0 24 24\"\n",
              "     width=\"24px\">\n",
              "    <g>\n",
              "        <path d=\"M19 3H5c-1.1 0-2 .9-2 2v14c0 1.1.9 2 2 2h14c1.1 0 2-.9 2-2V5c0-1.1-.9-2-2-2zM9 17H7v-7h2v7zm4 0h-2V7h2v10zm4 0h-2v-4h2v4z\"/>\n",
              "    </g>\n",
              "</svg>\n",
              "  </button>\n",
              "\n",
              "<style>\n",
              "  .colab-df-quickchart {\n",
              "      --bg-color: #E8F0FE;\n",
              "      --fill-color: #1967D2;\n",
              "      --hover-bg-color: #E2EBFA;\n",
              "      --hover-fill-color: #174EA6;\n",
              "      --disabled-fill-color: #AAA;\n",
              "      --disabled-bg-color: #DDD;\n",
              "  }\n",
              "\n",
              "  [theme=dark] .colab-df-quickchart {\n",
              "      --bg-color: #3B4455;\n",
              "      --fill-color: #D2E3FC;\n",
              "      --hover-bg-color: #434B5C;\n",
              "      --hover-fill-color: #FFFFFF;\n",
              "      --disabled-bg-color: #3B4455;\n",
              "      --disabled-fill-color: #666;\n",
              "  }\n",
              "\n",
              "  .colab-df-quickchart {\n",
              "    background-color: var(--bg-color);\n",
              "    border: none;\n",
              "    border-radius: 50%;\n",
              "    cursor: pointer;\n",
              "    display: none;\n",
              "    fill: var(--fill-color);\n",
              "    height: 32px;\n",
              "    padding: 0;\n",
              "    width: 32px;\n",
              "  }\n",
              "\n",
              "  .colab-df-quickchart:hover {\n",
              "    background-color: var(--hover-bg-color);\n",
              "    box-shadow: 0 1px 2px rgba(60, 64, 67, 0.3), 0 1px 3px 1px rgba(60, 64, 67, 0.15);\n",
              "    fill: var(--button-hover-fill-color);\n",
              "  }\n",
              "\n",
              "  .colab-df-quickchart-complete:disabled,\n",
              "  .colab-df-quickchart-complete:disabled:hover {\n",
              "    background-color: var(--disabled-bg-color);\n",
              "    fill: var(--disabled-fill-color);\n",
              "    box-shadow: none;\n",
              "  }\n",
              "\n",
              "  .colab-df-spinner {\n",
              "    border: 2px solid var(--fill-color);\n",
              "    border-color: transparent;\n",
              "    border-bottom-color: var(--fill-color);\n",
              "    animation:\n",
              "      spin 1s steps(1) infinite;\n",
              "  }\n",
              "\n",
              "  @keyframes spin {\n",
              "    0% {\n",
              "      border-color: transparent;\n",
              "      border-bottom-color: var(--fill-color);\n",
              "      border-left-color: var(--fill-color);\n",
              "    }\n",
              "    20% {\n",
              "      border-color: transparent;\n",
              "      border-left-color: var(--fill-color);\n",
              "      border-top-color: var(--fill-color);\n",
              "    }\n",
              "    30% {\n",
              "      border-color: transparent;\n",
              "      border-left-color: var(--fill-color);\n",
              "      border-top-color: var(--fill-color);\n",
              "      border-right-color: var(--fill-color);\n",
              "    }\n",
              "    40% {\n",
              "      border-color: transparent;\n",
              "      border-right-color: var(--fill-color);\n",
              "      border-top-color: var(--fill-color);\n",
              "    }\n",
              "    60% {\n",
              "      border-color: transparent;\n",
              "      border-right-color: var(--fill-color);\n",
              "    }\n",
              "    80% {\n",
              "      border-color: transparent;\n",
              "      border-right-color: var(--fill-color);\n",
              "      border-bottom-color: var(--fill-color);\n",
              "    }\n",
              "    90% {\n",
              "      border-color: transparent;\n",
              "      border-bottom-color: var(--fill-color);\n",
              "    }\n",
              "  }\n",
              "</style>\n",
              "\n",
              "  <script>\n",
              "    async function quickchart(key) {\n",
              "      const quickchartButtonEl =\n",
              "        document.querySelector('#' + key + ' button');\n",
              "      quickchartButtonEl.disabled = true;  // To prevent multiple clicks.\n",
              "      quickchartButtonEl.classList.add('colab-df-spinner');\n",
              "      try {\n",
              "        const charts = await google.colab.kernel.invokeFunction(\n",
              "            'suggestCharts', [key], {});\n",
              "      } catch (error) {\n",
              "        console.error('Error during call to suggestCharts:', error);\n",
              "      }\n",
              "      quickchartButtonEl.classList.remove('colab-df-spinner');\n",
              "      quickchartButtonEl.classList.add('colab-df-quickchart-complete');\n",
              "    }\n",
              "    (() => {\n",
              "      let quickchartButtonEl =\n",
              "        document.querySelector('#df-1ed98ca3-6c11-4926-a59b-4d4a422b9514 button');\n",
              "      quickchartButtonEl.style.display =\n",
              "        google.colab.kernel.accessAllowed ? 'block' : 'none';\n",
              "    })();\n",
              "  </script>\n",
              "</div>\n",
              "\n",
              "  <div id=\"id_18c3b1e5-aecb-41b5-9de4-d2edd529c7be\">\n",
              "    <style>\n",
              "      .colab-df-generate {\n",
              "        background-color: #E8F0FE;\n",
              "        border: none;\n",
              "        border-radius: 50%;\n",
              "        cursor: pointer;\n",
              "        display: none;\n",
              "        fill: #1967D2;\n",
              "        height: 32px;\n",
              "        padding: 0 0 0 0;\n",
              "        width: 32px;\n",
              "      }\n",
              "\n",
              "      .colab-df-generate:hover {\n",
              "        background-color: #E2EBFA;\n",
              "        box-shadow: 0px 1px 2px rgba(60, 64, 67, 0.3), 0px 1px 3px 1px rgba(60, 64, 67, 0.15);\n",
              "        fill: #174EA6;\n",
              "      }\n",
              "\n",
              "      [theme=dark] .colab-df-generate {\n",
              "        background-color: #3B4455;\n",
              "        fill: #D2E3FC;\n",
              "      }\n",
              "\n",
              "      [theme=dark] .colab-df-generate:hover {\n",
              "        background-color: #434B5C;\n",
              "        box-shadow: 0px 1px 3px 1px rgba(0, 0, 0, 0.15);\n",
              "        filter: drop-shadow(0px 1px 2px rgba(0, 0, 0, 0.3));\n",
              "        fill: #FFFFFF;\n",
              "      }\n",
              "    </style>\n",
              "    <button class=\"colab-df-generate\" onclick=\"generateWithVariable('dataset_df')\"\n",
              "            title=\"Generate code using this dataframe.\"\n",
              "            style=\"display:none;\">\n",
              "\n",
              "  <svg xmlns=\"http://www.w3.org/2000/svg\" height=\"24px\"viewBox=\"0 0 24 24\"\n",
              "       width=\"24px\">\n",
              "    <path d=\"M7,19H8.4L18.45,9,17,7.55,7,17.6ZM5,21V16.75L18.45,3.32a2,2,0,0,1,2.83,0l1.4,1.43a1.91,1.91,0,0,1,.58,1.4,1.91,1.91,0,0,1-.58,1.4L9.25,21ZM18.45,9,17,7.55Zm-12,3A5.31,5.31,0,0,0,4.9,8.1,5.31,5.31,0,0,0,1,6.5,5.31,5.31,0,0,0,4.9,4.9,5.31,5.31,0,0,0,6.5,1,5.31,5.31,0,0,0,8.1,4.9,5.31,5.31,0,0,0,12,6.5,5.46,5.46,0,0,0,6.5,12Z\"/>\n",
              "  </svg>\n",
              "    </button>\n",
              "    <script>\n",
              "      (() => {\n",
              "      const buttonEl =\n",
              "        document.querySelector('#id_18c3b1e5-aecb-41b5-9de4-d2edd529c7be button.colab-df-generate');\n",
              "      buttonEl.style.display =\n",
              "        google.colab.kernel.accessAllowed ? 'block' : 'none';\n",
              "\n",
              "      buttonEl.onclick = () => {\n",
              "        google.colab.notebook.generateWithVariable('dataset_df');\n",
              "      }\n",
              "      })();\n",
              "    </script>\n",
              "  </div>\n",
              "\n",
              "    </div>\n",
              "  </div>\n"
            ],
            "application/vnd.google.colaboratory.intrinsic+json": {
              "type": "dataframe",
              "variable_name": "dataset_df",
              "summary": "{\n  \"name\": \"dataset_df\",\n  \"rows\": 18000,\n  \"fields\": [\n    {\n      \"column\": \"rating\",\n      \"properties\": {\n        \"dtype\": \"number\",\n        \"std\": 1,\n        \"min\": 0,\n        \"max\": 5,\n        \"num_unique_values\": 6,\n        \"samples\": [\n          4,\n          3,\n          0\n        ],\n        \"semantic_type\": \"\",\n        \"description\": \"\"\n      }\n    },\n    {\n      \"column\": \"review_text\",\n      \"properties\": {\n        \"dtype\": \"string\",\n        \"num_unique_values\": 17936,\n        \"samples\": [\n          \"Full review soon to come.\",\n          \"This is a great example of how YA Fantasy should be. I adored every second of this book from the characters right down to the plot. It's brought me out of my two month long book slump (which was incredibly hard to get out of). Ugh, I am so so sad that the next will not be out for what I assume will be a year. \\n Wonderfully diverse, witty characters, brilliant magic, strong world building with heaps of action. I couldn't ask for anything more.\",\n          \"A copy of this review is also on my blog: www.bookblogbird.weebly.com \\n Yes, this is by John Green. That John Green. The-Fault-in-our-Stars John Green. \\n When I first saw this novella, I looked at the picture of the unicorn on the front and thought, 'Hey, look at that. A Zombie-Unicorn mash-up.' Now, just to manage your expectations, it's not about zombie unicorns. \\n It's about zombies who are obsessed with corn. Like, sweetcorn. Corn-on-the-cob. \\n I know! I thought the exact same thing! But d'you know what? If anyone can pull off a story about zombies who love corn, it's John Green. Zombiecorns is on a creative commons licence (i.e. free download) and John Green has put this blurb in the front basically saying 'Oh, I just rattled this off one weekend. It's full of mistakes and doesn't scan very well, but here you are anyway.' (Or words to that effect). And it's still a really competent piece of writing. \\n Damn you, John Green, for your excellent writing skills. \\n Anyway, Zombiecorns is set in a post-Apocalyptic USA, where almost the entire population has been zombified by an errant strain of GM sweetcorn. Our heroine, Mia, is one of the only still-humans around. The narrative switches between present day, where Mia is holed up in a basement, alone, terrified and with only dwindling supplies of food, to some point a little while in the past, where she was tooling around town blasting the shit out of zombies with her friend Caroline. \\n Zombiecorns is a fun read. It rockets along and okay, it's not as polished as the rest of the John Green canon, but it's still a decent read for a couple of evenings and worth a solid (and fangirly) 4/5.\"\n        ],\n        \"semantic_type\": \"\",\n        \"description\": \"\"\n      }\n    }\n  ]\n}"
            }
          },
          "metadata": {},
          "execution_count": 4
        }
      ]
    },
    {
      "cell_type": "code",
      "source": [
        "dataset_df.iloc[0][\"review_text\"]"
      ],
      "metadata": {
        "colab": {
          "base_uri": "https://localhost:8080/"
        },
        "id": "aBn-0K1i97b3",
        "outputId": "63b51aa5-1735-48a0-b5d4-820504231228"
      },
      "execution_count": null,
      "outputs": [
        {
          "output_type": "execute_result",
          "data": {
            "text/plain": [
              "\"I'm proudly telling you that I'm a big fan of Quinn now! \\n Such a perfect gentleman. Almost seems too good to be true LOL. \\n I practically loathe Jason since the first book. He doesn't get any better. And Sookie's always been the one to clean up the mess. \\n Sookie is such a sweet and responsible woman. I like her tenderness, and in this book we learn a shocking fact about Bill. I don't get why Bill keep saying that he loves Sookie, but he's still going out with another woman. Wouldn't it be better if he just break up with that woman and trying to regain Sookie's trust? \\n Afterall, I'm Team Sookie. :)\""
            ],
            "application/vnd.google.colaboratory.intrinsic+json": {
              "type": "string"
            }
          },
          "metadata": {},
          "execution_count": 5
        }
      ]
    },
    {
      "cell_type": "markdown",
      "source": [
        "A train/test split might be useful."
      ],
      "metadata": {
        "id": "Mew9KVP40kyC"
      }
    },
    {
      "cell_type": "code",
      "source": [
        "from sklearn.model_selection import train_test_split\n",
        "X_train, X_test, y_train, y_test = train_test_split(dataset_df[\"review_text\"], dataset_df[\"rating\"], test_size=0.2, random_state=42)"
      ],
      "metadata": {
        "id": "CTA2C5D6ufsY"
      },
      "execution_count": null,
      "outputs": []
    },
    {
      "cell_type": "markdown",
      "source": [
        "## Text Cleaner"
      ],
      "metadata": {
        "id": "sK5q9BVK4Ay1"
      }
    },
    {
      "cell_type": "markdown",
      "source": [
        "It might come in handy"
      ],
      "metadata": {
        "id": "grAz0cAg0s0n"
      }
    },
    {
      "cell_type": "code",
      "source": [
        "import nltk\n",
        "nltk.download('punkt')\n",
        "nltk.download('punkt_tab')\n",
        "nltk.download('stopwords')\n",
        "from nltk.tokenize import word_tokenize\n",
        "from nltk.corpus import stopwords\n",
        "stop_words = set(stopwords.words('english')) # Get the set of stop words"
      ],
      "metadata": {
        "colab": {
          "base_uri": "https://localhost:8080/"
        },
        "id": "npAWDugX4JH0",
        "outputId": "a2e1f4da-c31d-420b-8b8f-1a3da1ef2055"
      },
      "execution_count": null,
      "outputs": [
        {
          "output_type": "stream",
          "name": "stderr",
          "text": [
            "[nltk_data] Downloading package punkt to /root/nltk_data...\n",
            "[nltk_data]   Unzipping tokenizers/punkt.zip.\n",
            "[nltk_data] Downloading package punkt_tab to /root/nltk_data...\n",
            "[nltk_data]   Unzipping tokenizers/punkt_tab.zip.\n",
            "[nltk_data] Downloading package stopwords to /root/nltk_data...\n",
            "[nltk_data]   Unzipping corpora/stopwords.zip.\n"
          ]
        }
      ]
    },
    {
      "cell_type": "code",
      "source": [
        "import string\n",
        "from nltk.stem import PorterStemmer\n",
        "\n",
        "ps = PorterStemmer()\n",
        "\n",
        "def cleanup_text(sentence):\n",
        "  # First, word tokenize.\n",
        "  tokenized_sms_messages = word_tokenize(sentence)\n",
        "\n",
        "  # Lower case\n",
        "  # tokenized_sms_messages = [word.lower() for word in tokenized_sms_messages]\n",
        "\n",
        "  # Remove punctuation\n",
        "  # tokenized_sms_messages = [word for word in tokenized_sms_messages if word not in string.punctuation]\n",
        "\n",
        "  # Remove stop words\n",
        "  stop_words = set(stopwords.words('english'))\n",
        "  tokenized_sms_messages = [word for word in tokenized_sms_messages if word not in stop_words]\n",
        "\n",
        "  # Stem\n",
        "  # tokenized_sms_messages = [ps.stem(word) for word in tokenized_sms_messages]\n",
        "\n",
        "  return tokenized_sms_messages"
      ],
      "metadata": {
        "id": "IjYzI5nh4E3X"
      },
      "execution_count": null,
      "outputs": []
    },
    {
      "cell_type": "markdown",
      "source": [
        "## Task 1: Training Our Own Sentiment Analysis Model"
      ],
      "metadata": {
        "id": "edfWjjsYyi_D"
      }
    },
    {
      "cell_type": "markdown",
      "source": [
        "Let's say we want to train a model that reflects a review's sentiment based on its text.\n",
        "\n",
        "We will treat the rating as a proxy for the sentiment in this case."
      ],
      "metadata": {
        "id": "PEavIw8cy0Yx"
      }
    },
    {
      "cell_type": "markdown",
      "source": [
        "First we need to convert from rating to sentiment."
      ],
      "metadata": {
        "id": "XNzbASZ8zHO6"
      }
    },
    {
      "cell_type": "code",
      "source": [
        "dataset_df[\"sentiment\"] = dataset_df[\"rating\"].apply(lambda x: ) # different criteria may apply here"
      ],
      "metadata": {
        "id": "fh2xQh5Ayzgz",
        "outputId": "204c18a6-64b9-4354-f48e-c27ec05b7d82",
        "colab": {
          "base_uri": "https://localhost:8080/",
          "height": 109
        }
      },
      "execution_count": null,
      "outputs": [
        {
          "output_type": "error",
          "ename": "SyntaxError",
          "evalue": "invalid syntax (<ipython-input-9-bd5881d25538>, line 1)",
          "traceback": [
            "\u001b[0;36m  File \u001b[0;32m\"<ipython-input-9-bd5881d25538>\"\u001b[0;36m, line \u001b[0;32m1\u001b[0m\n\u001b[0;31m    dataset_df[\"sentiment\"] = dataset_df[\"rating\"].apply(lambda x: ) # different criteria may apply here\u001b[0m\n\u001b[0m                                                                   ^\u001b[0m\n\u001b[0;31mSyntaxError\u001b[0m\u001b[0;31m:\u001b[0m invalid syntax\n"
          ]
        }
      ]
    },
    {
      "cell_type": "markdown",
      "source": [
        "Let's use Mean GloVe-50 for embeddings"
      ],
      "metadata": {
        "id": "WEviRohf1sAC"
      }
    },
    {
      "cell_type": "code",
      "source": [
        "import gensim.downloader as api\n",
        "\n",
        "# Load the pretrained model\n",
        "pretrained_model = api.load('glove-wiki-gigaword-50')\n",
        "\n",
        "import numpy as np\n",
        "\n",
        "vector_size = pretrained_model.vector_size  # Get the embedding size\n",
        "\n",
        "tokenized_reviews = dataset_df[\"review_text\"].apply(cleanup_text)\n",
        "\n",
        "embeddings = list(map(lambda tokenized_review: pretrained_model.get_mean_vector(tokenized_review) if len(tokenized_review) > 0 else np.zeros(vector_size), tokenized_reviews))"
      ],
      "metadata": {
        "id": "dOEVwkOG1sI5"
      },
      "execution_count": null,
      "outputs": []
    },
    {
      "cell_type": "markdown",
      "source": [
        "Let's apply KNN (K-Nearest Neighbors) as a classifier."
      ],
      "metadata": {
        "id": "Sexm75dh0FBc"
      }
    },
    {
      "cell_type": "code",
      "source": [
        "from sklearn.neighbors import KNeighborsClassifier\n",
        "from sklearn.model_selection import train_test_split\n",
        "import sklearn\n",
        "from sklearn.metrics import accuracy_score\n",
        "from sklearn.metrics import confusion_matrix\n",
        "import pandas as pd\n",
        "\n",
        "def assess_model(df, X, y_column):\n",
        "  # train/test split\n",
        "  X_train, X_test, y_train, y_test = train_test_split(X, df[y_column], test_size=0.2, random_state=42)\n",
        "\n",
        "  # train the model\n",
        "  classifier = KNeighborsClassifier()\n",
        "  classifier.fit(X_train, y_train)\n",
        "\n",
        "  # Predict on the test data\n",
        "  y_pred = classifier.predict(X_test)\n",
        "\n",
        "  # Evaluate the model\n",
        "  accuracy = accuracy_score(y_test, y_pred)\n",
        "  f1_score = sklearn.metrics.f1_score(y_test, y_pred, pos_label=\"positive\")\n",
        "  print(f\"Accuracy: {accuracy}\")\n",
        "  print(f\"f1_score: {f1_score}\")\n",
        "  print(sklearn.metrics.classification_report(y_test,y_pred))\n",
        "  display(pd.DataFrame(confusion_matrix(y_test, y_pred, normalize='true'), columns=classifier.classes_, index=classifier.classes_ ))\n",
        "\n"
      ],
      "metadata": {
        "id": "euLfF5S-0q6m"
      },
      "execution_count": null,
      "outputs": []
    },
    {
      "cell_type": "code",
      "source": [
        "assess_model(dataset_df, embeddings, \"sentiment\")"
      ],
      "metadata": {
        "id": "R1HqIqlh0Hr8"
      },
      "execution_count": null,
      "outputs": []
    },
    {
      "cell_type": "markdown",
      "source": [
        "It seems the model is biases towards positive reviews. Some things we could try:\n",
        "\n",
        "- Different text clean-up/preprocessing steps.\n",
        "- Different embedding techniques.\n",
        "- Different classifiers\n",
        "- Dataset balancing techniques (e.e., over sampling, undersampling, class-weighting).\n",
        "- Changing the conversion threshold."
      ],
      "metadata": {
        "id": "_00xDCma8ZJ9"
      }
    },
    {
      "cell_type": "markdown",
      "source": [
        "## Task 2: Using a `huggingface` model."
      ],
      "metadata": {
        "id": "tveY256D82N_"
      }
    },
    {
      "cell_type": "markdown",
      "source": [
        "Let's try to find a suitable `huggingface` model.\n",
        "\n",
        "Watch out for suitability (e.g., Was the the model trained on data in the appropriate language, text type, ...?)"
      ],
      "metadata": {
        "id": "-BAuJhAV-dA2"
      }
    },
    {
      "cell_type": "markdown",
      "source": [
        "Let's say we decide to pick this model: [`siebert/sentiment-roberta-large-english`](https://huggingface.co/siebert/sentiment-roberta-large-english)"
      ],
      "metadata": {
        "id": "ULRy1t59_CyQ"
      }
    },
    {
      "cell_type": "markdown",
      "source": [
        "### Trying An API Approach"
      ],
      "metadata": {
        "id": "WFaseM0dCLY9"
      }
    },
    {
      "cell_type": "markdown",
      "source": [
        "Instead of downloading the mode, let's try to use the API!"
      ],
      "metadata": {
        "id": "83b-svCA_UM3"
      }
    },
    {
      "cell_type": "code",
      "source": [
        "!pip install huggingface_hub"
      ],
      "metadata": {
        "id": "x9Om0tIm_aRR"
      },
      "execution_count": null,
      "outputs": []
    },
    {
      "cell_type": "code",
      "source": [
        "!pip install transformers"
      ],
      "metadata": {
        "id": "FadODlwv6pYN"
      },
      "execution_count": null,
      "outputs": []
    },
    {
      "cell_type": "code",
      "source": [
        "### Using some ChatGPT, we could get this code to work. ###\n",
        "\n",
        "from huggingface_hub import InferenceClient\n",
        "from transformers import AutoTokenizer\n",
        "\n",
        "# Read API key from a file\n",
        "with open(\"api_key.txt\", \"r\") as f:\n",
        "    api_key = f.read().strip()  # Remove any leading/trailing spaces or newlines\n",
        "\n",
        "# Create an API called with the API key\n",
        "client = InferenceClient(\n",
        "\tprovider=\"hf-inference\",\n",
        "\tapi_key=api_key\n",
        ")\n",
        "\n",
        "# Load the tokenizer for the specific model\n",
        "tokenizer =\n",
        "\n",
        "# The model does not accept text longer than 512 tokens\n",
        "def truncate_text(text, max_length=512):\n",
        "    # Tokenize and truncate the text\n",
        "    tokens = tokenizer(text, truncation=True, max_length=max_length)\n",
        "    # Decode tokens back to text\n",
        "    return tokenizer.decode(tokens['input_ids'], skip_special_tokens=True)\n",
        "\n",
        "# Call the API for an example review\n",
        "result = client.text_classification(\n",
        "\tmodel=\"siebert/sentiment-roberta-large-english\",\n",
        "\ttext=,\n",
        ")\n",
        "\n",
        "# Parse the response to get positive or negative\n"
      ],
      "metadata": {
        "id": "5Ib_C9Ma606G"
      },
      "execution_count": null,
      "outputs": []
    },
    {
      "cell_type": "markdown",
      "source": [
        "Let's apply the API approach to all our reviews"
      ],
      "metadata": {
        "id": "PKHJQRFF77v8"
      }
    },
    {
      "cell_type": "code",
      "source": [
        "truncated_reviews = dataset_df[\"review_text\"].apply(truncate_text).to_list()\n",
        "truncated_reviews"
      ],
      "metadata": {
        "id": "JgQnpwug8rx9"
      },
      "execution_count": null,
      "outputs": []
    },
    {
      "cell_type": "code",
      "source": [
        "%%timeit -r 1 -n 1\n",
        "\n",
        "embeddings = list(\n",
        "    map(lambda review: client.  (\n",
        "\n",
        "    ) ### get the answer lower case here\n",
        "    , truncated_reviews)\n",
        ")\n",
        "\n",
        "print(embeddings)\n"
      ],
      "metadata": {
        "id": "91M4HuriAXOk"
      },
      "execution_count": null,
      "outputs": []
    },
    {
      "cell_type": "markdown",
      "source": [
        "This approach might be more resource-concious, but it is somewhat slow. You may also have a limited number of calls a day.\n",
        "\n",
        "Let's download the model and use our GPU resouces so we could speed things up."
      ],
      "metadata": {
        "id": "WUACBE1xCRZI"
      }
    },
    {
      "cell_type": "markdown",
      "source": [
        "### Downloading The Model"
      ],
      "metadata": {
        "id": "yUvbrIJpCbbQ"
      }
    },
    {
      "cell_type": "code",
      "source": [
        "# Use a pipeline as a high-level helper\n"
      ],
      "metadata": {
        "id": "U1CyOFXtCfBQ"
      },
      "execution_count": null,
      "outputs": []
    },
    {
      "cell_type": "markdown",
      "source": [
        "Remember, these models are HUGE and computationally DEMANDING. **We need to use a GPU**, which is a more expensive resource.\n",
        "\n",
        "**Remember to DISCONNECT** when done."
      ],
      "metadata": {
        "id": "ZoYutZ8XDIpq"
      }
    },
    {
      "cell_type": "code",
      "source": [
        "def assess_model_huggingface(df, X_column, y_column):\n",
        "  # train/test split\n",
        "  X_train, X_test, y_train, y_test = train_test_split(df[X_column], df[y_column], test_size=0.2, random_state=42)\n",
        "\n",
        "  # Predict on the test data\n",
        "  y_pred = ## apply pipe to whe whole test set and then extract labels and lower case. Don't forget to truncate!\n",
        "\n",
        "  # Getting class labels for pretty printing\n",
        "  class_labels = np.unique(np.concatenate((y_test, y_pred)))\n",
        "\n",
        "  # Evaluate the model\n",
        "  accuracy = accuracy_score(y_test, y_pred)\n",
        "  f1_score = sklearn.metrics.f1_score(y_test, y_pred, pos_label=\"positive\")\n",
        "  print(f\"Accuracy: {accuracy}\")\n",
        "  print(f\"f1_score: {f1_score}\")\n",
        "  print(sklearn.metrics.classification_report(y_test,y_pred))\n",
        "  display(pd.DataFrame(confusion_matrix(y_test, y_pred, normalize='true'), columns=class_labels, index=class_labels ))\n"
      ],
      "metadata": {
        "id": "YJbEnucNWu_z"
      },
      "execution_count": null,
      "outputs": []
    },
    {
      "cell_type": "code",
      "source": [
        "assess_model_huggingface(dataset_df, \"review_text\", \"sentiment\")\n"
      ],
      "metadata": {
        "id": "3j2wL6p3Dnv2"
      },
      "execution_count": null,
      "outputs": []
    },
    {
      "cell_type": "markdown",
      "source": [
        "## Task 3: Extracting Different Aspects of Sentimentality"
      ],
      "metadata": {
        "id": "0KD6HTDBYvd4"
      }
    },
    {
      "cell_type": "markdown",
      "source": [
        "Let's say we are interested in a specific sentiment: \"Whether the movie was exciting\". But, we neither have a pre-trained model for this nor the data to train such a model ourselves."
      ],
      "metadata": {
        "id": "YqRamQjjY9eH"
      }
    },
    {
      "cell_type": "markdown",
      "source": [
        "In this case, let's try an **unsupervised approach**.\n",
        "\n",
        "We will use an embedding model to extract embeddings from the reviews, and then we will measure their similarity to a reference word/sentence/phrase."
      ],
      "metadata": {
        "id": "O5oZyidbZir6"
      }
    },
    {
      "cell_type": "markdown",
      "source": [
        "We will use a [`SentenceTransformer`](https://huggingface.co/sentence-transformers/all-MiniLM-L6-v2)"
      ],
      "metadata": {
        "id": "q8ICsmgbefK9"
      }
    },
    {
      "cell_type": "code",
      "source": [
        "from sentence_transformers import SentenceTransformer\n",
        "\n",
        "sentences = [\"What an exciting movie!\"]\n",
        "\n",
        "model = SentenceTransformer('sentence-transformers/all-MiniLM-L6-v2')\n",
        "embeddings = model.\n",
        "embeddings.shape"
      ],
      "metadata": {
        "id": "10wh2n_WY2LE"
      },
      "execution_count": null,
      "outputs": []
    },
    {
      "cell_type": "markdown",
      "source": [
        "To get a score for whether a movie review indicates excitement, we compare it to exactly that!"
      ],
      "metadata": {
        "id": "Vh9r3qQwf7hM"
      }
    },
    {
      "cell_type": "code",
      "source": [
        "X_train, X_test, y_train, y_test = train_test_split(dataset_df[\"review_text\"], dataset_df[\"rating\"], test_size=0.2, random_state=42)"
      ],
      "metadata": {
        "id": "gMPwfeSLkJJl"
      },
      "execution_count": null,
      "outputs": []
    },
    {
      "cell_type": "code",
      "source": [
        "# Get the embedding for all reviews\n",
        "embeddings_train = model\n",
        "embeddings_test = model."
      ],
      "metadata": {
        "id": "DxYp46-YbvQp"
      },
      "execution_count": null,
      "outputs": []
    },
    {
      "cell_type": "code",
      "source": [
        "embeddings_train.shape"
      ],
      "metadata": {
        "id": "bG7J51b5hH07"
      },
      "execution_count": null,
      "outputs": []
    },
    {
      "cell_type": "markdown",
      "source": [
        "Let's create two reference points for the exciting vs. boring movies and compare to them."
      ],
      "metadata": {
        "id": "KnTAnMVV5cqp"
      }
    },
    {
      "cell_type": "code",
      "source": [
        "from sklearn.metrics.pairwise import cosine_similarity\n",
        "\n",
        "positive_reference_embedding = model.encode(    ).reshape(1, -1)\n",
        "negative_reference_embedding = model.encode(     ).reshape(1, -1)\n",
        "\n",
        "def get_excitement_score(embeddings):\n",
        "  return\n",
        "\n",
        "training_cosine_scores = get_excitement_score(embeddings_train)"
      ],
      "metadata": {
        "id": "A305275KhIe6"
      },
      "execution_count": null,
      "outputs": []
    },
    {
      "cell_type": "code",
      "source": [
        "import matplotlib.pyplot as plt\n",
        "import seaborn as sns\n",
        "\n",
        "# Plot histogram of similarity scores\n",
        "plt.figure(figsize=(8, 5))\n",
        "sns.histplot(training_cosine_scores.reshape(-1), bins=30, kde=True)\n",
        "\n",
        "threshold_train = np.mean(training_cosine_scores)\n",
        "print(\"threshold = \", threshold_train)"
      ],
      "metadata": {
        "id": "ptjdHOjbiNN7"
      },
      "execution_count": null,
      "outputs": []
    },
    {
      "cell_type": "markdown",
      "source": [
        "Let's make sure this threshold works for the test set"
      ],
      "metadata": {
        "id": "pHmnYWb6lovV"
      }
    },
    {
      "cell_type": "code",
      "source": [
        "test_cosine_scores = get_excitement_score(embeddings_test)\n",
        "threshold_test = np.mean(test_cosine_scores)\n",
        "print(\"threshold = \", threshold_test)"
      ],
      "metadata": {
        "id": "hr3oh3j-jCoY"
      },
      "execution_count": null,
      "outputs": []
    },
    {
      "cell_type": "code",
      "source": [
        "training_cosine_scores.shape"
      ],
      "metadata": {
        "id": "ikX6f6NBpTJp"
      },
      "execution_count": null,
      "outputs": []
    },
    {
      "cell_type": "markdown",
      "source": [
        "We could standardize to place the mean at zero."
      ],
      "metadata": {
        "id": "r0oPM35YmNy_"
      }
    },
    {
      "cell_type": "code",
      "source": [
        "from sklearn.preprocessing import StandardScaler\n",
        "\n",
        "# Create Scalar\n",
        "scaler = StandardScaler()\n",
        "scaler.fit(training_cosine_scores.reshape(-1, 1))\n",
        "\n",
        "# Get the embeddings\n",
        "embeddings = model.encode(dataset_df[\"review_text\"].tolist())\n",
        "\n",
        "# Get the scores\n",
        "excitement_score = get_excitement_score(embeddings)\n",
        "\n",
        "# Scale the scores\n",
        "dataset_df[\"excitement_score\"] =  scaler.transform(excitement_score.reshape(-1, 1)).reshape(-1).tolist() # Get the sentiment score.\n",
        "\n",
        "# Threshold the scores\n",
        "dataset_df[\"exciting?\"] = dataset_df[\"excitement_score\"].apply(lambda x:   ) # Threshold it."
      ],
      "metadata": {
        "id": "OHG-2CqzmXBq"
      },
      "execution_count": null,
      "outputs": []
    },
    {
      "cell_type": "code",
      "source": [
        "dataset_df"
      ],
      "metadata": {
        "id": "0FjOTDfYAKnC"
      },
      "execution_count": null,
      "outputs": []
    },
    {
      "cell_type": "markdown",
      "source": [
        "Let's sort the reviews by score and see if our approach is working well."
      ],
      "metadata": {
        "id": "57GiLj5n56GU"
      }
    },
    {
      "cell_type": "code",
      "source": [
        "index = int(dataset_df[\"review_text\"].shape[0]/2)\n",
        "\n",
        "dataset_df.sort_values(by=\"excitement_score\", ascending=False)[\"review_text\"].iloc[index]"
      ],
      "metadata": {
        "id": "kgZ9LKP-qCrv"
      },
      "execution_count": null,
      "outputs": []
    },
    {
      "cell_type": "markdown",
      "source": [
        "## **Questions:**\n",
        "\n",
        "- How would you use the concepts you learned here to discard ratings that do not match with the review's sentiment?\n",
        "- Would TF-IDF yield good unsupervised sentiment analysis results? Why or why not?\n",
        "- Would a mean pre-trained `word2vec` model yield good unsupervised sentiment analysis results? Why or why not?\n",
        "- You are asked to devise an unsupervised approach for detecting how political a review. How would you go about implementing that?"
      ],
      "metadata": {
        "id": "m1R78qcNt0zA"
      }
    }
  ]
}