{
  "cells": [
    {
      "cell_type": "markdown",
      "metadata": {
        "id": "view-in-github",
        "colab_type": "text"
      },
      "source": [
        "<a href=\"https://colab.research.google.com/github/christinabrnn/Python-Study/blob/main/assignment2.ipynb\" target=\"_parent\"><img src=\"https://colab.research.google.com/assets/colab-badge.svg\" alt=\"Open In Colab\"/></a>"
      ]
    },
    {
      "cell_type": "markdown",
      "id": "fddf81eb",
      "metadata": {
        "id": "fddf81eb"
      },
      "source": [
        "# Business Experimentation and Causal Methods\n",
        "\n",
        "## Assignment 2: Rocket Fuel\n",
        "\n",
        "### Due Date: 8am, February 6th, 2025\n",
        "\n",
        "Jeonghee (Christina) Son\n"
      ]
    },
    {
      "cell_type": "markdown",
      "id": "6dcacf10",
      "metadata": {
        "id": "6dcacf10"
      },
      "source": [
        "__Instructions:__\n",
        "\n",
        "Please read the case about RocketFuel from the HBS Case Pack.\n",
        "For the assignment you need to read the Rocketfuel case, but answer the questions in the assignment. You can ignore the questions on the HBS website\n",
        "\n",
        "\n",
        "__Important:__\n",
        "\n",
        "- Remember to write your name in the above markdown cell.\n",
        "\n",
        "- Remember to write out your answers in words, don't just output Python statistics.\n",
        "  - EX: Rather then outputting just `10000.0`, say \"TaskaBella made $10,000.00 profit from the campaign.\"\n",
        "\n",
        "- Before you submit the notebook, please make sure that the text is readable and does not spill over the right side of the screen. To prevent this from happening, make sure to write your verbal answer in the markdown blocks.\n",
        "  \n",
        "- The definitions for the columns in the data are in case! Please read them carefully.\n"
      ]
    },
    {
      "cell_type": "code",
      "execution_count": 2,
      "id": "CYyWpOIfs3Ua",
      "metadata": {
        "id": "CYyWpOIfs3Ua"
      },
      "outputs": [],
      "source": [
        "%%capture\n",
        "!pip install pingouin # install the package used for statistical analyses"
      ]
    },
    {
      "cell_type": "code",
      "execution_count": 3,
      "id": "D_EyllV7g8BJ",
      "metadata": {
        "id": "D_EyllV7g8BJ",
        "colab": {
          "base_uri": "https://localhost:8080/"
        },
        "outputId": "0abf7f8d-26a0-4f99-f706-9bf85057bbce"
      },
      "outputs": [
        {
          "output_type": "stream",
          "name": "stdout",
          "text": [
            "Mounted at /content/drive\n"
          ]
        }
      ],
      "source": [
        "# import modules and functions\n",
        "import numpy as np\n",
        "import pandas as pd\n",
        "import seaborn as sns\n",
        "import pingouin as pg\n",
        "pg.options['round.column.CI95%'] = 6\n",
        "\n",
        "from google.colab import drive\n",
        "drive.mount('/content/drive')"
      ]
    },
    {
      "cell_type": "code",
      "execution_count": 4,
      "id": "01c2a3ba",
      "metadata": {
        "colab": {
          "base_uri": "https://localhost:8080/",
          "height": 424
        },
        "id": "01c2a3ba",
        "outputId": "3942bc4a-1f04-4bcb-b952-d6e6f6e40a88"
      },
      "outputs": [
        {
          "output_type": "execute_result",
          "data": {
            "text/plain": [
              "        user_id  test  converted  tot_impr  mode_impr_day  mode_impr_hour\n",
              "0       1069124     1          0       130              1              20\n",
              "1       1119715     1          0        93              2              22\n",
              "2       1144181     1          0        21              2              18\n",
              "3       1435133     1          0       355              2              10\n",
              "4       1015700     1          0       276              5              14\n",
              "...         ...   ...        ...       ...            ...             ...\n",
              "588106  1496403     1          0        24              2              19\n",
              "588107  1496404     1          0       199              6              19\n",
              "588108  1496405     1          0       211              6              15\n",
              "588109  1496406     1          0        98              5              19\n",
              "588110  1496407     1          0        19              2              19\n",
              "\n",
              "[588111 rows x 6 columns]"
            ],
            "text/html": [
              "\n",
              "  <div id=\"df-1af0dc9e-8f7f-4729-97a2-a197bb169084\" class=\"colab-df-container\">\n",
              "    <div>\n",
              "<style scoped>\n",
              "    .dataframe tbody tr th:only-of-type {\n",
              "        vertical-align: middle;\n",
              "    }\n",
              "\n",
              "    .dataframe tbody tr th {\n",
              "        vertical-align: top;\n",
              "    }\n",
              "\n",
              "    .dataframe thead th {\n",
              "        text-align: right;\n",
              "    }\n",
              "</style>\n",
              "<table border=\"1\" class=\"dataframe\">\n",
              "  <thead>\n",
              "    <tr style=\"text-align: right;\">\n",
              "      <th></th>\n",
              "      <th>user_id</th>\n",
              "      <th>test</th>\n",
              "      <th>converted</th>\n",
              "      <th>tot_impr</th>\n",
              "      <th>mode_impr_day</th>\n",
              "      <th>mode_impr_hour</th>\n",
              "    </tr>\n",
              "  </thead>\n",
              "  <tbody>\n",
              "    <tr>\n",
              "      <th>0</th>\n",
              "      <td>1069124</td>\n",
              "      <td>1</td>\n",
              "      <td>0</td>\n",
              "      <td>130</td>\n",
              "      <td>1</td>\n",
              "      <td>20</td>\n",
              "    </tr>\n",
              "    <tr>\n",
              "      <th>1</th>\n",
              "      <td>1119715</td>\n",
              "      <td>1</td>\n",
              "      <td>0</td>\n",
              "      <td>93</td>\n",
              "      <td>2</td>\n",
              "      <td>22</td>\n",
              "    </tr>\n",
              "    <tr>\n",
              "      <th>2</th>\n",
              "      <td>1144181</td>\n",
              "      <td>1</td>\n",
              "      <td>0</td>\n",
              "      <td>21</td>\n",
              "      <td>2</td>\n",
              "      <td>18</td>\n",
              "    </tr>\n",
              "    <tr>\n",
              "      <th>3</th>\n",
              "      <td>1435133</td>\n",
              "      <td>1</td>\n",
              "      <td>0</td>\n",
              "      <td>355</td>\n",
              "      <td>2</td>\n",
              "      <td>10</td>\n",
              "    </tr>\n",
              "    <tr>\n",
              "      <th>4</th>\n",
              "      <td>1015700</td>\n",
              "      <td>1</td>\n",
              "      <td>0</td>\n",
              "      <td>276</td>\n",
              "      <td>5</td>\n",
              "      <td>14</td>\n",
              "    </tr>\n",
              "    <tr>\n",
              "      <th>...</th>\n",
              "      <td>...</td>\n",
              "      <td>...</td>\n",
              "      <td>...</td>\n",
              "      <td>...</td>\n",
              "      <td>...</td>\n",
              "      <td>...</td>\n",
              "    </tr>\n",
              "    <tr>\n",
              "      <th>588106</th>\n",
              "      <td>1496403</td>\n",
              "      <td>1</td>\n",
              "      <td>0</td>\n",
              "      <td>24</td>\n",
              "      <td>2</td>\n",
              "      <td>19</td>\n",
              "    </tr>\n",
              "    <tr>\n",
              "      <th>588107</th>\n",
              "      <td>1496404</td>\n",
              "      <td>1</td>\n",
              "      <td>0</td>\n",
              "      <td>199</td>\n",
              "      <td>6</td>\n",
              "      <td>19</td>\n",
              "    </tr>\n",
              "    <tr>\n",
              "      <th>588108</th>\n",
              "      <td>1496405</td>\n",
              "      <td>1</td>\n",
              "      <td>0</td>\n",
              "      <td>211</td>\n",
              "      <td>6</td>\n",
              "      <td>15</td>\n",
              "    </tr>\n",
              "    <tr>\n",
              "      <th>588109</th>\n",
              "      <td>1496406</td>\n",
              "      <td>1</td>\n",
              "      <td>0</td>\n",
              "      <td>98</td>\n",
              "      <td>5</td>\n",
              "      <td>19</td>\n",
              "    </tr>\n",
              "    <tr>\n",
              "      <th>588110</th>\n",
              "      <td>1496407</td>\n",
              "      <td>1</td>\n",
              "      <td>0</td>\n",
              "      <td>19</td>\n",
              "      <td>2</td>\n",
              "      <td>19</td>\n",
              "    </tr>\n",
              "  </tbody>\n",
              "</table>\n",
              "<p>588111 rows × 6 columns</p>\n",
              "</div>\n",
              "    <div class=\"colab-df-buttons\">\n",
              "\n",
              "  <div class=\"colab-df-container\">\n",
              "    <button class=\"colab-df-convert\" onclick=\"convertToInteractive('df-1af0dc9e-8f7f-4729-97a2-a197bb169084')\"\n",
              "            title=\"Convert this dataframe to an interactive table.\"\n",
              "            style=\"display:none;\">\n",
              "\n",
              "  <svg xmlns=\"http://www.w3.org/2000/svg\" height=\"24px\" viewBox=\"0 -960 960 960\">\n",
              "    <path d=\"M120-120v-720h720v720H120Zm60-500h600v-160H180v160Zm220 220h160v-160H400v160Zm0 220h160v-160H400v160ZM180-400h160v-160H180v160Zm440 0h160v-160H620v160ZM180-180h160v-160H180v160Zm440 0h160v-160H620v160Z\"/>\n",
              "  </svg>\n",
              "    </button>\n",
              "\n",
              "  <style>\n",
              "    .colab-df-container {\n",
              "      display:flex;\n",
              "      gap: 12px;\n",
              "    }\n",
              "\n",
              "    .colab-df-convert {\n",
              "      background-color: #E8F0FE;\n",
              "      border: none;\n",
              "      border-radius: 50%;\n",
              "      cursor: pointer;\n",
              "      display: none;\n",
              "      fill: #1967D2;\n",
              "      height: 32px;\n",
              "      padding: 0 0 0 0;\n",
              "      width: 32px;\n",
              "    }\n",
              "\n",
              "    .colab-df-convert:hover {\n",
              "      background-color: #E2EBFA;\n",
              "      box-shadow: 0px 1px 2px rgba(60, 64, 67, 0.3), 0px 1px 3px 1px rgba(60, 64, 67, 0.15);\n",
              "      fill: #174EA6;\n",
              "    }\n",
              "\n",
              "    .colab-df-buttons div {\n",
              "      margin-bottom: 4px;\n",
              "    }\n",
              "\n",
              "    [theme=dark] .colab-df-convert {\n",
              "      background-color: #3B4455;\n",
              "      fill: #D2E3FC;\n",
              "    }\n",
              "\n",
              "    [theme=dark] .colab-df-convert:hover {\n",
              "      background-color: #434B5C;\n",
              "      box-shadow: 0px 1px 3px 1px rgba(0, 0, 0, 0.15);\n",
              "      filter: drop-shadow(0px 1px 2px rgba(0, 0, 0, 0.3));\n",
              "      fill: #FFFFFF;\n",
              "    }\n",
              "  </style>\n",
              "\n",
              "    <script>\n",
              "      const buttonEl =\n",
              "        document.querySelector('#df-1af0dc9e-8f7f-4729-97a2-a197bb169084 button.colab-df-convert');\n",
              "      buttonEl.style.display =\n",
              "        google.colab.kernel.accessAllowed ? 'block' : 'none';\n",
              "\n",
              "      async function convertToInteractive(key) {\n",
              "        const element = document.querySelector('#df-1af0dc9e-8f7f-4729-97a2-a197bb169084');\n",
              "        const dataTable =\n",
              "          await google.colab.kernel.invokeFunction('convertToInteractive',\n",
              "                                                    [key], {});\n",
              "        if (!dataTable) return;\n",
              "\n",
              "        const docLinkHtml = 'Like what you see? Visit the ' +\n",
              "          '<a target=\"_blank\" href=https://colab.research.google.com/notebooks/data_table.ipynb>data table notebook</a>'\n",
              "          + ' to learn more about interactive tables.';\n",
              "        element.innerHTML = '';\n",
              "        dataTable['output_type'] = 'display_data';\n",
              "        await google.colab.output.renderOutput(dataTable, element);\n",
              "        const docLink = document.createElement('div');\n",
              "        docLink.innerHTML = docLinkHtml;\n",
              "        element.appendChild(docLink);\n",
              "      }\n",
              "    </script>\n",
              "  </div>\n",
              "\n",
              "\n",
              "<div id=\"df-5c05ea22-9276-43d0-8917-3d8747d9fa52\">\n",
              "  <button class=\"colab-df-quickchart\" onclick=\"quickchart('df-5c05ea22-9276-43d0-8917-3d8747d9fa52')\"\n",
              "            title=\"Suggest charts\"\n",
              "            style=\"display:none;\">\n",
              "\n",
              "<svg xmlns=\"http://www.w3.org/2000/svg\" height=\"24px\"viewBox=\"0 0 24 24\"\n",
              "     width=\"24px\">\n",
              "    <g>\n",
              "        <path d=\"M19 3H5c-1.1 0-2 .9-2 2v14c0 1.1.9 2 2 2h14c1.1 0 2-.9 2-2V5c0-1.1-.9-2-2-2zM9 17H7v-7h2v7zm4 0h-2V7h2v10zm4 0h-2v-4h2v4z\"/>\n",
              "    </g>\n",
              "</svg>\n",
              "  </button>\n",
              "\n",
              "<style>\n",
              "  .colab-df-quickchart {\n",
              "      --bg-color: #E8F0FE;\n",
              "      --fill-color: #1967D2;\n",
              "      --hover-bg-color: #E2EBFA;\n",
              "      --hover-fill-color: #174EA6;\n",
              "      --disabled-fill-color: #AAA;\n",
              "      --disabled-bg-color: #DDD;\n",
              "  }\n",
              "\n",
              "  [theme=dark] .colab-df-quickchart {\n",
              "      --bg-color: #3B4455;\n",
              "      --fill-color: #D2E3FC;\n",
              "      --hover-bg-color: #434B5C;\n",
              "      --hover-fill-color: #FFFFFF;\n",
              "      --disabled-bg-color: #3B4455;\n",
              "      --disabled-fill-color: #666;\n",
              "  }\n",
              "\n",
              "  .colab-df-quickchart {\n",
              "    background-color: var(--bg-color);\n",
              "    border: none;\n",
              "    border-radius: 50%;\n",
              "    cursor: pointer;\n",
              "    display: none;\n",
              "    fill: var(--fill-color);\n",
              "    height: 32px;\n",
              "    padding: 0;\n",
              "    width: 32px;\n",
              "  }\n",
              "\n",
              "  .colab-df-quickchart:hover {\n",
              "    background-color: var(--hover-bg-color);\n",
              "    box-shadow: 0 1px 2px rgba(60, 64, 67, 0.3), 0 1px 3px 1px rgba(60, 64, 67, 0.15);\n",
              "    fill: var(--button-hover-fill-color);\n",
              "  }\n",
              "\n",
              "  .colab-df-quickchart-complete:disabled,\n",
              "  .colab-df-quickchart-complete:disabled:hover {\n",
              "    background-color: var(--disabled-bg-color);\n",
              "    fill: var(--disabled-fill-color);\n",
              "    box-shadow: none;\n",
              "  }\n",
              "\n",
              "  .colab-df-spinner {\n",
              "    border: 2px solid var(--fill-color);\n",
              "    border-color: transparent;\n",
              "    border-bottom-color: var(--fill-color);\n",
              "    animation:\n",
              "      spin 1s steps(1) infinite;\n",
              "  }\n",
              "\n",
              "  @keyframes spin {\n",
              "    0% {\n",
              "      border-color: transparent;\n",
              "      border-bottom-color: var(--fill-color);\n",
              "      border-left-color: var(--fill-color);\n",
              "    }\n",
              "    20% {\n",
              "      border-color: transparent;\n",
              "      border-left-color: var(--fill-color);\n",
              "      border-top-color: var(--fill-color);\n",
              "    }\n",
              "    30% {\n",
              "      border-color: transparent;\n",
              "      border-left-color: var(--fill-color);\n",
              "      border-top-color: var(--fill-color);\n",
              "      border-right-color: var(--fill-color);\n",
              "    }\n",
              "    40% {\n",
              "      border-color: transparent;\n",
              "      border-right-color: var(--fill-color);\n",
              "      border-top-color: var(--fill-color);\n",
              "    }\n",
              "    60% {\n",
              "      border-color: transparent;\n",
              "      border-right-color: var(--fill-color);\n",
              "    }\n",
              "    80% {\n",
              "      border-color: transparent;\n",
              "      border-right-color: var(--fill-color);\n",
              "      border-bottom-color: var(--fill-color);\n",
              "    }\n",
              "    90% {\n",
              "      border-color: transparent;\n",
              "      border-bottom-color: var(--fill-color);\n",
              "    }\n",
              "  }\n",
              "</style>\n",
              "\n",
              "  <script>\n",
              "    async function quickchart(key) {\n",
              "      const quickchartButtonEl =\n",
              "        document.querySelector('#' + key + ' button');\n",
              "      quickchartButtonEl.disabled = true;  // To prevent multiple clicks.\n",
              "      quickchartButtonEl.classList.add('colab-df-spinner');\n",
              "      try {\n",
              "        const charts = await google.colab.kernel.invokeFunction(\n",
              "            'suggestCharts', [key], {});\n",
              "      } catch (error) {\n",
              "        console.error('Error during call to suggestCharts:', error);\n",
              "      }\n",
              "      quickchartButtonEl.classList.remove('colab-df-spinner');\n",
              "      quickchartButtonEl.classList.add('colab-df-quickchart-complete');\n",
              "    }\n",
              "    (() => {\n",
              "      let quickchartButtonEl =\n",
              "        document.querySelector('#df-5c05ea22-9276-43d0-8917-3d8747d9fa52 button');\n",
              "      quickchartButtonEl.style.display =\n",
              "        google.colab.kernel.accessAllowed ? 'block' : 'none';\n",
              "    })();\n",
              "  </script>\n",
              "</div>\n",
              "\n",
              "  <div id=\"id_14b70f97-facd-4a48-92ed-12cce53f4cc4\">\n",
              "    <style>\n",
              "      .colab-df-generate {\n",
              "        background-color: #E8F0FE;\n",
              "        border: none;\n",
              "        border-radius: 50%;\n",
              "        cursor: pointer;\n",
              "        display: none;\n",
              "        fill: #1967D2;\n",
              "        height: 32px;\n",
              "        padding: 0 0 0 0;\n",
              "        width: 32px;\n",
              "      }\n",
              "\n",
              "      .colab-df-generate:hover {\n",
              "        background-color: #E2EBFA;\n",
              "        box-shadow: 0px 1px 2px rgba(60, 64, 67, 0.3), 0px 1px 3px 1px rgba(60, 64, 67, 0.15);\n",
              "        fill: #174EA6;\n",
              "      }\n",
              "\n",
              "      [theme=dark] .colab-df-generate {\n",
              "        background-color: #3B4455;\n",
              "        fill: #D2E3FC;\n",
              "      }\n",
              "\n",
              "      [theme=dark] .colab-df-generate:hover {\n",
              "        background-color: #434B5C;\n",
              "        box-shadow: 0px 1px 3px 1px rgba(0, 0, 0, 0.15);\n",
              "        filter: drop-shadow(0px 1px 2px rgba(0, 0, 0, 0.3));\n",
              "        fill: #FFFFFF;\n",
              "      }\n",
              "    </style>\n",
              "    <button class=\"colab-df-generate\" onclick=\"generateWithVariable('ads_data')\"\n",
              "            title=\"Generate code using this dataframe.\"\n",
              "            style=\"display:none;\">\n",
              "\n",
              "  <svg xmlns=\"http://www.w3.org/2000/svg\" height=\"24px\"viewBox=\"0 0 24 24\"\n",
              "       width=\"24px\">\n",
              "    <path d=\"M7,19H8.4L18.45,9,17,7.55,7,17.6ZM5,21V16.75L18.45,3.32a2,2,0,0,1,2.83,0l1.4,1.43a1.91,1.91,0,0,1,.58,1.4,1.91,1.91,0,0,1-.58,1.4L9.25,21ZM18.45,9,17,7.55Zm-12,3A5.31,5.31,0,0,0,4.9,8.1,5.31,5.31,0,0,0,1,6.5,5.31,5.31,0,0,0,4.9,4.9,5.31,5.31,0,0,0,6.5,1,5.31,5.31,0,0,0,8.1,4.9,5.31,5.31,0,0,0,12,6.5,5.46,5.46,0,0,0,6.5,12Z\"/>\n",
              "  </svg>\n",
              "    </button>\n",
              "    <script>\n",
              "      (() => {\n",
              "      const buttonEl =\n",
              "        document.querySelector('#id_14b70f97-facd-4a48-92ed-12cce53f4cc4 button.colab-df-generate');\n",
              "      buttonEl.style.display =\n",
              "        google.colab.kernel.accessAllowed ? 'block' : 'none';\n",
              "\n",
              "      buttonEl.onclick = () => {\n",
              "        google.colab.notebook.generateWithVariable('ads_data');\n",
              "      }\n",
              "      })();\n",
              "    </script>\n",
              "  </div>\n",
              "\n",
              "    </div>\n",
              "  </div>\n"
            ],
            "application/vnd.google.colaboratory.intrinsic+json": {
              "type": "dataframe",
              "variable_name": "ads_data"
            }
          },
          "metadata": {},
          "execution_count": 4
        }
      ],
      "source": [
        "# read data (change the path)\n",
        "# ads_data = pd.read_csv('/content/drive/MyDrive/rocketfuel_data.csv')\n",
        "\n",
        "ads_data = pd.read_csv('/content/drive/My Drive/rocketfuel_data.csv')\n",
        "ads_data"
      ]
    },
    {
      "cell_type": "markdown",
      "id": "c76529a2",
      "metadata": {
        "id": "c76529a2"
      },
      "source": [
        "### 1. ATE and statistical significance.\n",
        "#### 1.a What is the $\\widehat{ATE}$ of the ads on purchases (conversions)? What does the number mean in words?\n"
      ]
    },
    {
      "cell_type": "code",
      "execution_count": 5,
      "id": "4013dd2f",
      "metadata": {
        "id": "4013dd2f",
        "colab": {
          "base_uri": "https://localhost:8080/"
        },
        "outputId": "72884dac-0f63-444e-fe35-78495cbc8ae1"
      },
      "outputs": [
        {
          "output_type": "execute_result",
          "data": {
            "text/plain": [
              "0.007692804899280245"
            ]
          },
          "metadata": {},
          "execution_count": 5
        }
      ],
      "source": [
        "ate = ads_data.loc[ads_data['test'] == 1, 'converted'].mean() - ads_data.loc[ads_data['test'] == 0, 'converted'].mean()\n",
        "ate\n",
        "\n",
        "#so we reject"
      ]
    },
    {
      "cell_type": "markdown",
      "id": "o0EAJWhr9SdB",
      "metadata": {
        "id": "o0EAJWhr9SdB"
      },
      "source": [
        "The advertising campaign increases the conversion rate by about 0.77 percentage points."
      ]
    },
    {
      "cell_type": "markdown",
      "id": "56167f1a",
      "metadata": {
        "id": "56167f1a"
      },
      "source": [
        "#### 1.b Did the campaign cause more purchases? Is this difference statistically significant?\n",
        "Hint: Use the pg.ttest function."
      ]
    },
    {
      "cell_type": "code",
      "execution_count": 6,
      "id": "dd2e05b5",
      "metadata": {
        "id": "dd2e05b5",
        "colab": {
          "base_uri": "https://localhost:8080/",
          "height": 89
        },
        "outputId": "73a5025e-0617-461c-ae63-e7163168474c"
      },
      "outputs": [
        {
          "output_type": "execute_result",
          "data": {
            "text/plain": [
              "              T           dof alternative         p-val                 CI95%  \\\n",
              "T-test  8.65791  26385.467637   two-sided  5.074303e-18  [0.005951, 0.009434]   \n",
              "\n",
              "         cohen-d       BF10  power  \n",
              "T-test  0.049048  1.409e+14    1.0  "
            ],
            "text/html": [
              "\n",
              "  <div id=\"df-c9cd2443-7e63-459a-b49f-657d12e265d3\" class=\"colab-df-container\">\n",
              "    <div>\n",
              "<style scoped>\n",
              "    .dataframe tbody tr th:only-of-type {\n",
              "        vertical-align: middle;\n",
              "    }\n",
              "\n",
              "    .dataframe tbody tr th {\n",
              "        vertical-align: top;\n",
              "    }\n",
              "\n",
              "    .dataframe thead th {\n",
              "        text-align: right;\n",
              "    }\n",
              "</style>\n",
              "<table border=\"1\" class=\"dataframe\">\n",
              "  <thead>\n",
              "    <tr style=\"text-align: right;\">\n",
              "      <th></th>\n",
              "      <th>T</th>\n",
              "      <th>dof</th>\n",
              "      <th>alternative</th>\n",
              "      <th>p-val</th>\n",
              "      <th>CI95%</th>\n",
              "      <th>cohen-d</th>\n",
              "      <th>BF10</th>\n",
              "      <th>power</th>\n",
              "    </tr>\n",
              "  </thead>\n",
              "  <tbody>\n",
              "    <tr>\n",
              "      <th>T-test</th>\n",
              "      <td>8.65791</td>\n",
              "      <td>26385.467637</td>\n",
              "      <td>two-sided</td>\n",
              "      <td>5.074303e-18</td>\n",
              "      <td>[0.005951, 0.009434]</td>\n",
              "      <td>0.049048</td>\n",
              "      <td>1.409e+14</td>\n",
              "      <td>1.0</td>\n",
              "    </tr>\n",
              "  </tbody>\n",
              "</table>\n",
              "</div>\n",
              "    <div class=\"colab-df-buttons\">\n",
              "\n",
              "  <div class=\"colab-df-container\">\n",
              "    <button class=\"colab-df-convert\" onclick=\"convertToInteractive('df-c9cd2443-7e63-459a-b49f-657d12e265d3')\"\n",
              "            title=\"Convert this dataframe to an interactive table.\"\n",
              "            style=\"display:none;\">\n",
              "\n",
              "  <svg xmlns=\"http://www.w3.org/2000/svg\" height=\"24px\" viewBox=\"0 -960 960 960\">\n",
              "    <path d=\"M120-120v-720h720v720H120Zm60-500h600v-160H180v160Zm220 220h160v-160H400v160Zm0 220h160v-160H400v160ZM180-400h160v-160H180v160Zm440 0h160v-160H620v160ZM180-180h160v-160H180v160Zm440 0h160v-160H620v160Z\"/>\n",
              "  </svg>\n",
              "    </button>\n",
              "\n",
              "  <style>\n",
              "    .colab-df-container {\n",
              "      display:flex;\n",
              "      gap: 12px;\n",
              "    }\n",
              "\n",
              "    .colab-df-convert {\n",
              "      background-color: #E8F0FE;\n",
              "      border: none;\n",
              "      border-radius: 50%;\n",
              "      cursor: pointer;\n",
              "      display: none;\n",
              "      fill: #1967D2;\n",
              "      height: 32px;\n",
              "      padding: 0 0 0 0;\n",
              "      width: 32px;\n",
              "    }\n",
              "\n",
              "    .colab-df-convert:hover {\n",
              "      background-color: #E2EBFA;\n",
              "      box-shadow: 0px 1px 2px rgba(60, 64, 67, 0.3), 0px 1px 3px 1px rgba(60, 64, 67, 0.15);\n",
              "      fill: #174EA6;\n",
              "    }\n",
              "\n",
              "    .colab-df-buttons div {\n",
              "      margin-bottom: 4px;\n",
              "    }\n",
              "\n",
              "    [theme=dark] .colab-df-convert {\n",
              "      background-color: #3B4455;\n",
              "      fill: #D2E3FC;\n",
              "    }\n",
              "\n",
              "    [theme=dark] .colab-df-convert:hover {\n",
              "      background-color: #434B5C;\n",
              "      box-shadow: 0px 1px 3px 1px rgba(0, 0, 0, 0.15);\n",
              "      filter: drop-shadow(0px 1px 2px rgba(0, 0, 0, 0.3));\n",
              "      fill: #FFFFFF;\n",
              "    }\n",
              "  </style>\n",
              "\n",
              "    <script>\n",
              "      const buttonEl =\n",
              "        document.querySelector('#df-c9cd2443-7e63-459a-b49f-657d12e265d3 button.colab-df-convert');\n",
              "      buttonEl.style.display =\n",
              "        google.colab.kernel.accessAllowed ? 'block' : 'none';\n",
              "\n",
              "      async function convertToInteractive(key) {\n",
              "        const element = document.querySelector('#df-c9cd2443-7e63-459a-b49f-657d12e265d3');\n",
              "        const dataTable =\n",
              "          await google.colab.kernel.invokeFunction('convertToInteractive',\n",
              "                                                    [key], {});\n",
              "        if (!dataTable) return;\n",
              "\n",
              "        const docLinkHtml = 'Like what you see? Visit the ' +\n",
              "          '<a target=\"_blank\" href=https://colab.research.google.com/notebooks/data_table.ipynb>data table notebook</a>'\n",
              "          + ' to learn more about interactive tables.';\n",
              "        element.innerHTML = '';\n",
              "        dataTable['output_type'] = 'display_data';\n",
              "        await google.colab.output.renderOutput(dataTable, element);\n",
              "        const docLink = document.createElement('div');\n",
              "        docLink.innerHTML = docLinkHtml;\n",
              "        element.appendChild(docLink);\n",
              "      }\n",
              "    </script>\n",
              "  </div>\n",
              "\n",
              "\n",
              "  <div id=\"id_5b6193bb-d400-4b10-8e12-ca0da73f9ef5\">\n",
              "    <style>\n",
              "      .colab-df-generate {\n",
              "        background-color: #E8F0FE;\n",
              "        border: none;\n",
              "        border-radius: 50%;\n",
              "        cursor: pointer;\n",
              "        display: none;\n",
              "        fill: #1967D2;\n",
              "        height: 32px;\n",
              "        padding: 0 0 0 0;\n",
              "        width: 32px;\n",
              "      }\n",
              "\n",
              "      .colab-df-generate:hover {\n",
              "        background-color: #E2EBFA;\n",
              "        box-shadow: 0px 1px 2px rgba(60, 64, 67, 0.3), 0px 1px 3px 1px rgba(60, 64, 67, 0.15);\n",
              "        fill: #174EA6;\n",
              "      }\n",
              "\n",
              "      [theme=dark] .colab-df-generate {\n",
              "        background-color: #3B4455;\n",
              "        fill: #D2E3FC;\n",
              "      }\n",
              "\n",
              "      [theme=dark] .colab-df-generate:hover {\n",
              "        background-color: #434B5C;\n",
              "        box-shadow: 0px 1px 3px 1px rgba(0, 0, 0, 0.15);\n",
              "        filter: drop-shadow(0px 1px 2px rgba(0, 0, 0, 0.3));\n",
              "        fill: #FFFFFF;\n",
              "      }\n",
              "    </style>\n",
              "    <button class=\"colab-df-generate\" onclick=\"generateWithVariable('t_test')\"\n",
              "            title=\"Generate code using this dataframe.\"\n",
              "            style=\"display:none;\">\n",
              "\n",
              "  <svg xmlns=\"http://www.w3.org/2000/svg\" height=\"24px\"viewBox=\"0 0 24 24\"\n",
              "       width=\"24px\">\n",
              "    <path d=\"M7,19H8.4L18.45,9,17,7.55,7,17.6ZM5,21V16.75L18.45,3.32a2,2,0,0,1,2.83,0l1.4,1.43a1.91,1.91,0,0,1,.58,1.4,1.91,1.91,0,0,1-.58,1.4L9.25,21ZM18.45,9,17,7.55Zm-12,3A5.31,5.31,0,0,0,4.9,8.1,5.31,5.31,0,0,0,1,6.5,5.31,5.31,0,0,0,4.9,4.9,5.31,5.31,0,0,0,6.5,1,5.31,5.31,0,0,0,8.1,4.9,5.31,5.31,0,0,0,12,6.5,5.46,5.46,0,0,0,6.5,12Z\"/>\n",
              "  </svg>\n",
              "    </button>\n",
              "    <script>\n",
              "      (() => {\n",
              "      const buttonEl =\n",
              "        document.querySelector('#id_5b6193bb-d400-4b10-8e12-ca0da73f9ef5 button.colab-df-generate');\n",
              "      buttonEl.style.display =\n",
              "        google.colab.kernel.accessAllowed ? 'block' : 'none';\n",
              "\n",
              "      buttonEl.onclick = () => {\n",
              "        google.colab.notebook.generateWithVariable('t_test');\n",
              "      }\n",
              "      })();\n",
              "    </script>\n",
              "  </div>\n",
              "\n",
              "    </div>\n",
              "  </div>\n"
            ],
            "application/vnd.google.colaboratory.intrinsic+json": {
              "type": "dataframe",
              "variable_name": "t_test",
              "summary": "{\n  \"name\": \"t_test\",\n  \"rows\": 1,\n  \"fields\": [\n    {\n      \"column\": \"T\",\n      \"properties\": {\n        \"dtype\": \"number\",\n        \"std\": null,\n        \"min\": 8.657910061879496,\n        \"max\": 8.657910061879496,\n        \"num_unique_values\": 1,\n        \"samples\": [\n          8.657910061879496\n        ],\n        \"semantic_type\": \"\",\n        \"description\": \"\"\n      }\n    },\n    {\n      \"column\": \"dof\",\n      \"properties\": {\n        \"dtype\": \"number\",\n        \"std\": null,\n        \"min\": 26385.46763719828,\n        \"max\": 26385.46763719828,\n        \"num_unique_values\": 1,\n        \"samples\": [\n          26385.46763719828\n        ],\n        \"semantic_type\": \"\",\n        \"description\": \"\"\n      }\n    },\n    {\n      \"column\": \"alternative\",\n      \"properties\": {\n        \"dtype\": \"string\",\n        \"num_unique_values\": 1,\n        \"samples\": [\n          \"two-sided\"\n        ],\n        \"semantic_type\": \"\",\n        \"description\": \"\"\n      }\n    },\n    {\n      \"column\": \"p-val\",\n      \"properties\": {\n        \"dtype\": \"number\",\n        \"std\": null,\n        \"min\": 5.0743031646645544e-18,\n        \"max\": 5.0743031646645544e-18,\n        \"num_unique_values\": 1,\n        \"samples\": [\n          5.0743031646645544e-18\n        ],\n        \"semantic_type\": \"\",\n        \"description\": \"\"\n      }\n    },\n    {\n      \"column\": \"CI95%\",\n      \"properties\": {\n        \"dtype\": \"object\",\n        \"semantic_type\": \"\",\n        \"description\": \"\"\n      }\n    },\n    {\n      \"column\": \"cohen-d\",\n      \"properties\": {\n        \"dtype\": \"number\",\n        \"std\": null,\n        \"min\": 0.049048264852631064,\n        \"max\": 0.049048264852631064,\n        \"num_unique_values\": 1,\n        \"samples\": [\n          0.049048264852631064\n        ],\n        \"semantic_type\": \"\",\n        \"description\": \"\"\n      }\n    },\n    {\n      \"column\": \"BF10\",\n      \"properties\": {\n        \"dtype\": \"string\",\n        \"num_unique_values\": 1,\n        \"samples\": [\n          \"1.409e+14\"\n        ],\n        \"semantic_type\": \"\",\n        \"description\": \"\"\n      }\n    },\n    {\n      \"column\": \"power\",\n      \"properties\": {\n        \"dtype\": \"number\",\n        \"std\": null,\n        \"min\": 0.9999999686597485,\n        \"max\": 0.9999999686597485,\n        \"num_unique_values\": 1,\n        \"samples\": [\n          0.9999999686597485\n        ],\n        \"semantic_type\": \"\",\n        \"description\": \"\"\n      }\n    }\n  ]\n}"
            }
          },
          "metadata": {},
          "execution_count": 6
        }
      ],
      "source": [
        "import pingouin as pg\n",
        "import numpy as np\n",
        "alpha = .05\n",
        "\n",
        "treated_sample = ads_data.loc[ads_data['test'] == 1, 'converted']\n",
        "control_sample = ads_data.loc[ads_data['test'] == 0, 'converted']\n",
        "\n",
        "t_test = pg.ttest(treated_sample, control_sample,\n",
        "                  paired=False,\n",
        "                  alternative='two-sided')\n",
        "t_test"
      ]
    },
    {
      "cell_type": "markdown",
      "id": "b124a7de",
      "metadata": {
        "id": "b124a7de"
      },
      "source": [
        "### 2. Was the campaign profitable?\n",
        "#### 2.a How much more profit did TaskaBella make **per person** by showing ads (excluding advertising costs)?\n",
        "Hint: the profit per conversion is given on page 2 of the case."
      ]
    },
    {
      "cell_type": "code",
      "source": [
        "profit_per_conversion = 40\n",
        "\n",
        "total_profit = profit_per_conversion * ate\n",
        "total_profit"
      ],
      "metadata": {
        "colab": {
          "base_uri": "https://localhost:8080/"
        },
        "id": "W68AI8cicB2b",
        "outputId": "e436fb92-b7cf-47fa-f1c9-2c4cecf481b8"
      },
      "id": "W68AI8cicB2b",
      "execution_count": 7,
      "outputs": [
        {
          "output_type": "execute_result",
          "data": {
            "text/plain": [
              "0.3077121959712098"
            ]
          },
          "metadata": {},
          "execution_count": 7
        }
      ]
    },
    {
      "cell_type": "markdown",
      "id": "9656e21a",
      "metadata": {
        "id": "9656e21a"
      },
      "source": [
        "#### 2.b What was the cost of the campaign per person (including the control group)?  \n",
        "Hint: The cost per thousand impressions is $9"
      ]
    },
    {
      "cell_type": "code",
      "execution_count": 11,
      "id": "9b1fd122",
      "metadata": {
        "id": "9b1fd122"
      },
      "outputs": [],
      "source": [
        "cpm = 9\n",
        "\n",
        "total_impr = ads_data['tot_impr'].sum()\n",
        "total_cost = total_impr / 1000 * cpm\n",
        "final_cost = total_cost / len(ads_data)"
      ]
    },
    {
      "cell_type": "markdown",
      "id": "8799b9c9",
      "metadata": {
        "id": "8799b9c9"
      },
      "source": [
        "#### 2.c Calculate the ROI of the campaign (including the control group). Was the campaign profitable?  \n",
        "The ROI is calculated by\n",
        "$$\\text{ROI} = \\frac{\\text{Effect on Profits per Person in Campaign} - \\text{Cost of Ads per Person in Campaign}}{\\text{Cost of Ads per Person in Campaign}}$$"
      ]
    },
    {
      "cell_type": "code",
      "execution_count": 15,
      "id": "f12ed7f7",
      "metadata": {
        "id": "f12ed7f7",
        "colab": {
          "base_uri": "https://localhost:8080/"
        },
        "outputId": "45b35304-2277-432c-e785-1201d1f6b004"
      },
      "outputs": [
        {
          "output_type": "execute_result",
          "data": {
            "text/plain": [
              "0.37736179549451504"
            ]
          },
          "metadata": {},
          "execution_count": 15
        }
      ],
      "source": [
        "roi = (total_profit - final_cost) / final_cost\n",
        "roi"
      ]
    },
    {
      "cell_type": "markdown",
      "id": "cd07022b",
      "metadata": {
        "id": "cd07022b"
      },
      "source": [
        "#### 2.d What was the opportunity cost of including a control group --- how much more could TaskaBella have made by not having a control group at all?\n",
        "Hint: The opportunity cost is the profits that TaskaBella missed out by having a control group."
      ]
    },
    {
      "cell_type": "code",
      "execution_count": 18,
      "id": "ed746eca",
      "metadata": {
        "id": "ed746eca",
        "colab": {
          "base_uri": "https://localhost:8080/"
        },
        "outputId": "028cca88-9b3e-4724-d4a4-8bf2e275eddb"
      },
      "outputs": [
        {
          "output_type": "execute_result",
          "data": {
            "text/plain": [
              "7238.92941022271"
            ]
          },
          "metadata": {},
          "execution_count": 18
        }
      ],
      "source": [
        "total_profit\n",
        "\n",
        "control_group_size = len(ads_data[ads_data['test'] == 0])\n",
        "\n",
        "opportunity_cost = ate * profit_per_conversion * control_group_size\n",
        "opportunity_cost"
      ]
    },
    {
      "cell_type": "markdown",
      "id": "f9060332",
      "metadata": {
        "id": "f9060332"
      },
      "source": [
        "### 3. Did the number of impressions seen by each user influence the effectiveness of advertising?\n",
        "\n",
        "#### 3a. Plot the conversion rate by treatment group and by the number of impressions (groups into ranges, e.g. [0, 100), [100, 500), etc) seen by users."
      ]
    },
    {
      "cell_type": "code",
      "execution_count": 19,
      "id": "deb8fe51",
      "metadata": {
        "id": "deb8fe51"
      },
      "outputs": [],
      "source": [
        "# Useful code for creating bins (modify as you like)\n",
        "bins = pd.IntervalIndex.from_tuples([(0,50), (50,100), (100, 200), (200, 300), (300, 400), (400, 500), (500, 10000)])\n",
        "\n",
        "ads_data['group_tot_impr'] = pd.cut(ads_data['tot_impr'], bins)"
      ]
    },
    {
      "cell_type": "code",
      "source": [
        "import plotly as plt\n",
        "\n",
        "sns.barplot(x = 'group_tot_impr', y = 'converted', data = ads_data, hue = 'test', ci = None)"
      ],
      "metadata": {
        "id": "ZK2aqPWjUwZj",
        "outputId": "6b75bf55-2625-4b19-b23b-de9c18d121bf",
        "colab": {
          "base_uri": "https://localhost:8080/",
          "height": 557
        }
      },
      "id": "ZK2aqPWjUwZj",
      "execution_count": 28,
      "outputs": [
        {
          "output_type": "stream",
          "name": "stderr",
          "text": [
            "<ipython-input-28-cafcccac2cd5>:3: FutureWarning: \n",
            "\n",
            "The `ci` parameter is deprecated. Use `errorbar=None` for the same effect.\n",
            "\n",
            "  sns.barplot(x = 'group_tot_impr', y = 'converted', data = ads_data, hue = 'test', ci = None)\n"
          ]
        },
        {
          "output_type": "execute_result",
          "data": {
            "text/plain": [
              "<Axes: xlabel='group_tot_impr', ylabel='converted'>"
            ]
          },
          "metadata": {},
          "execution_count": 28
        },
        {
          "output_type": "display_data",
          "data": {
            "text/plain": [
              "<Figure size 640x480 with 1 Axes>"
            ],
            "image/png": "[encoded data removed]"
          },
          "metadata": {}
        }
      ]
    },
    {
      "cell_type": "code",
      "execution_count": 20,
      "id": "3dfbe633",
      "metadata": {
        "id": "3dfbe633",
        "colab": {
          "base_uri": "https://localhost:8080/",
          "height": 108
        },
        "outputId": "d4a3b051-3c2a-49d2-ca31-618c4d64a816"
      },
      "outputs": [
        {
          "output_type": "error",
          "ename": "SyntaxError",
          "evalue": "unterminated string literal (detected at line 12) (<ipython-input-20-8d44874e46fa>, line 12)",
          "traceback": [
            "\u001b[0;36m  File \u001b[0;32m\"<ipython-input-20-8d44874e46fa>\"\u001b[0;36m, line \u001b[0;32m12\u001b[0m\n\u001b[0;31m    plt.legend(title = 'Group\u001b[0m\n\u001b[0m                       ^\u001b[0m\n\u001b[0;31mSyntaxError\u001b[0m\u001b[0;31m:\u001b[0m unterminated string literal (detected at line 12)\n"
          ]
        }
      ],
      "source": [
        "conversion_rate = ads_data.groupby(['group_tot_impr', 'test'])['converted'].mean().reset_index()\n",
        "conversion_rate['group'] = conversion_rate['test'].map({0: 'Control Group', 1: ' Exposed Group'})\n",
        "\n",
        "conversion_rate['impression_bins'] = conversion_rate['group_tot_impr'].astype(str)\n",
        "\n",
        "plt.figure(figsize = (12,6))\n",
        "sns.barplot(data = conversion_rate, x = 'impression_bins', y = 'converted', hue = 'group')\n",
        "\n",
        "plt.title('Conversion Rate by Treatment Group and Number of Impressions')\n",
        "plt.xlabel('Number of Impressions')\n",
        "plt.ylabel('Conversion Rate')\n",
        "plt.legend(title = 'Group)"
      ]
    },
    {
      "cell_type": "markdown",
      "id": "64bd5aef",
      "metadata": {
        "id": "64bd5aef"
      },
      "source": [
        "#### 3.b Based on the above figure, can we say that more impressions cause more conversions? (No more than 2 sentences)"
      ]
    },
    {
      "cell_type": "markdown",
      "source": [
        "No, we cannot say that more impressions cause more conversions. Need to think about a question at home"
      ],
      "metadata": {
        "id": "e62XeGYBWZUA"
      },
      "id": "e62XeGYBWZUA"
    },
    {
      "cell_type": "markdown",
      "id": "806e769a",
      "metadata": {
        "id": "806e769a"
      },
      "source": [
        "### 4 Calculate the power of this experiment.\n",
        "\n",
        "#### 4.a Calculate Cohen's D without using `pg.ttest`. Cohen's D, in this case, is the estimated average treatment effect on conversion divided by the standard deviation of conversion."
      ]
    },
    {
      "cell_type": "code",
      "execution_count": 30,
      "id": "00bf043b",
      "metadata": {
        "id": "00bf043b",
        "colab": {
          "base_uri": "https://localhost:8080/"
        },
        "outputId": "9749ac29-6326-45c6-a04e-68582150524b"
      },
      "outputs": [
        {
          "output_type": "execute_result",
          "data": {
            "text/plain": [
              "0.04904604110542456"
            ]
          },
          "metadata": {},
          "execution_count": 30
        }
      ],
      "source": [
        "sd = ads_data['converted'].std()\n",
        "cohen_d = ate / sd\n",
        "cohen_d"
      ]
    },
    {
      "cell_type": "markdown",
      "id": "2340e4a0",
      "metadata": {
        "id": "2340e4a0"
      },
      "source": [
        "#### 4.b Use the `power_ttest2n` function in `pingouin` to calculate the statistical power of the experiment."
      ]
    },
    {
      "cell_type": "code",
      "execution_count": 36,
      "id": "e5df2042",
      "metadata": {
        "id": "e5df2042",
        "colab": {
          "base_uri": "https://localhost:8080/"
        },
        "outputId": "5c6efdb8-94f1-47db-ec71-91a058f92255"
      },
      "outputs": [
        {
          "output_type": "execute_result",
          "data": {
            "text/plain": [
              "0.9999999686012027"
            ]
          },
          "metadata": {},
          "execution_count": 36
        }
      ],
      "source": [
        "power = pg.power_ttest2n(d=cohen_d,\n",
        "                      nx=len(treated_sample), ny=len(control_sample),\n",
        "                      alpha=0.05, alternative = 'two-sided')\n",
        "\n",
        "power"
      ]
    },
    {
      "cell_type": "markdown",
      "id": "a302fe03",
      "metadata": {
        "id": "a302fe03"
      },
      "source": [
        "#### 4.c What would the power be instead if the true effect had a cohen's D of .01?"
      ]
    },
    {
      "cell_type": "code",
      "execution_count": 37,
      "id": "17ee397c",
      "metadata": {
        "id": "17ee397c",
        "colab": {
          "base_uri": "https://localhost:8080/"
        },
        "outputId": "6f2f56d6-a546-4d00-da4e-728fea0f8d58"
      },
      "outputs": [
        {
          "output_type": "execute_result",
          "data": {
            "text/plain": [
              "0.32404183877279324"
            ]
          },
          "metadata": {},
          "execution_count": 37
        }
      ],
      "source": [
        "cohen_d_new = 0.01\n",
        "\n",
        "power = pg.power_ttest2n(d=cohen_d_new,\n",
        "                      nx=len(treated_sample), ny=len(control_sample),\n",
        "                      alpha=0.05, alternative = 'two-sided')\n",
        "\n",
        "power"
      ]
    },
    {
      "cell_type": "markdown",
      "id": "8d87a53d",
      "metadata": {
        "id": "8d87a53d"
      },
      "source": [
        "#### 4.d What would the power be instead if the true effect had a cohen's of .01 and the sample was equally split between treatment and control?"
      ]
    },
    {
      "cell_type": "code",
      "execution_count": 47,
      "id": "82891f94",
      "metadata": {
        "id": "82891f94",
        "colab": {
          "base_uri": "https://localhost:8080/"
        },
        "outputId": "164f30bd-dfb3-44ed-d070-d58d19db74ed"
      },
      "outputs": [
        {
          "output_type": "execute_result",
          "data": {
            "text/plain": [
              "0.9695657571669772"
            ]
          },
          "metadata": {},
          "execution_count": 47
        }
      ],
      "source": [
        "cohen_d_new = 0.01\n",
        "treat_control_split= len(ads_data) / 2\n",
        "\n",
        "power = pg.power_ttest2n(d=cohen_d_new,\n",
        "                      nx=treat_control_split, ny=treat_control_split,\n",
        "                      alpha=0.05, alternative = 'two-sided')\n",
        "\n",
        "power"
      ]
    },
    {
      "cell_type": "markdown",
      "id": "22951e4d",
      "metadata": {
        "id": "22951e4d"
      },
      "source": [
        "### 5. Case Discussion in Class\n",
        "Please write what you would discuss in your presentation to TaskaBella. Your answer should be one paragraph and the paragraph should be five or fewer sentences. Be prepared to discuss in class. Think about what is the most important thing to say to TaskaBella.\n",
        "No additional analysis is needed to answer this question."
      ]
    },
    {
      "cell_type": "markdown",
      "id": "7b0569e4",
      "metadata": {
        "id": "7b0569e4"
      },
      "source": [
        "### How long did this problem set take you in hours? How did you find the level of difficulty?\n"
      ]
    },
    {
      "cell_type": "markdown",
      "id": "2124b7ee",
      "metadata": {
        "id": "2124b7ee"
      },
      "source": []
    }
  ],
  "metadata": {
    "colab": {
      "provenance": [],
      "include_colab_link": true
    },
    "kernelspec": {
      "display_name": "Python 3",
      "language": "python",
      "name": "python3"
    },
    "language_info": {
      "codemirror_mode": {
        "name": "ipython",
        "version": 3
      },
      "file_extension": ".py",
      "mimetype": "text/x-python",
      "name": "python",
      "nbconvert_exporter": "python",
      "pygments_lexer": "ipython3",
      "version": "3.11.4"
    }
  },
  "nbformat": 4,
  "nbformat_minor": 5
}