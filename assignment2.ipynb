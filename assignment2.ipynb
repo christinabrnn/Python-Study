{
  "cells": [
    {
      "cell_type": "markdown",
      "metadata": {
        "id": "view-in-github",
        "colab_type": "text"
      },
      "source": [
        "<a href=\"https://colab.research.google.com/github/christinabrnn/Python-Study/blob/main/assignment2.ipynb\" target=\"_parent\"><img src=\"https://colab.research.google.com/assets/colab-badge.svg\" alt=\"Open In Colab\"/></a>"
      ]
    },
    {
      "cell_type": "markdown",
      "id": "fddf81eb",
      "metadata": {
        "id": "fddf81eb"
      },
      "source": [
        "# Business Experimentation and Causal Methods\n",
        "\n",
        "## Assignment 2: Rocket Fuel\n",
        "\n",
        "### Due Date: 8am, February 6th, 2025\n",
        "\n",
        "Your Name Here\n"
      ]
    },
    {
      "cell_type": "markdown",
      "id": "6dcacf10",
      "metadata": {
        "id": "6dcacf10"
      },
      "source": [
        "__Instructions:__\n",
        "\n",
        "Please read the case about RocketFuel from the HBS Case Pack.\n",
        "For the assignment you need to read the Rocketfuel case, but answer the questions in the assignment. You can ignore the questions on the HBS website\n",
        "\n",
        "\n",
        "__Important:__\n",
        "\n",
        "- Remember to write your name in the above markdown cell.\n",
        "\n",
        "- Remember to write out your answers in words, don't just output Python statistics.\n",
        "  - EX: Rather then outputting just `10000.0`, say \"TaskaBella made $10,000.00 profit from the campaign.\"\n",
        "\n",
        "- Before you submit the notebook, please make sure that the text is readable and does not spill over the right side of the screen. To prevent this from happening, make sure to write your verbal answer in the markdown blocks.\n",
        "  \n",
        "- The definitions for the columns in the data are in case! Please read them carefully.\n"
      ]
    },
    {
      "cell_type": "code",
      "execution_count": null,
      "id": "CYyWpOIfs3Ua",
      "metadata": {
        "id": "CYyWpOIfs3Ua"
      },
      "outputs": [],
      "source": [
        "%%capture\n",
        "!pip install pingouin # install the package used for statistical analyses"
      ]
    },
    {
      "cell_type": "code",
      "execution_count": null,
      "id": "D_EyllV7g8BJ",
      "metadata": {
        "id": "D_EyllV7g8BJ"
      },
      "outputs": [],
      "source": [
        "# import modules and functions\n",
        "import numpy as np\n",
        "import pandas as pd\n",
        "import seaborn as sns\n",
        "import pingouin as pg\n",
        "pg.options['round.column.CI95%'] = 6\n",
        "#from google.colab import drive\n",
        "#drive.mount('/content/drive')"
      ]
    },
    {
      "cell_type": "code",
      "execution_count": null,
      "id": "01c2a3ba",
      "metadata": {
        "colab": {
          "base_uri": "https://localhost:8080/",
          "height": 458
        },
        "id": "01c2a3ba",
        "outputId": "2b16a6c4-042c-4f3b-8fe7-063497cd738e"
      },
      "outputs": [
        {
          "data": {
            "text/html": [
              "<div>\n",
              "<style scoped>\n",
              "    .dataframe tbody tr th:only-of-type {\n",
              "        vertical-align: middle;\n",
              "    }\n",
              "\n",
              "    .dataframe tbody tr th {\n",
              "        vertical-align: top;\n",
              "    }\n",
              "\n",
              "    .dataframe thead th {\n",
              "        text-align: right;\n",
              "    }\n",
              "</style>\n",
              "<table border=\"1\" class=\"dataframe\">\n",
              "  <thead>\n",
              "    <tr style=\"text-align: right;\">\n",
              "      <th></th>\n",
              "      <th>user_id</th>\n",
              "      <th>test</th>\n",
              "      <th>converted</th>\n",
              "      <th>tot_impr</th>\n",
              "      <th>mode_impr_day</th>\n",
              "      <th>mode_impr_hour</th>\n",
              "    </tr>\n",
              "  </thead>\n",
              "  <tbody>\n",
              "    <tr>\n",
              "      <th>0</th>\n",
              "      <td>1069124</td>\n",
              "      <td>1</td>\n",
              "      <td>0</td>\n",
              "      <td>130</td>\n",
              "      <td>1</td>\n",
              "      <td>20</td>\n",
              "    </tr>\n",
              "    <tr>\n",
              "      <th>1</th>\n",
              "      <td>1119715</td>\n",
              "      <td>1</td>\n",
              "      <td>0</td>\n",
              "      <td>93</td>\n",
              "      <td>2</td>\n",
              "      <td>22</td>\n",
              "    </tr>\n",
              "    <tr>\n",
              "      <th>2</th>\n",
              "      <td>1144181</td>\n",
              "      <td>1</td>\n",
              "      <td>0</td>\n",
              "      <td>21</td>\n",
              "      <td>2</td>\n",
              "      <td>18</td>\n",
              "    </tr>\n",
              "    <tr>\n",
              "      <th>3</th>\n",
              "      <td>1435133</td>\n",
              "      <td>1</td>\n",
              "      <td>0</td>\n",
              "      <td>355</td>\n",
              "      <td>2</td>\n",
              "      <td>10</td>\n",
              "    </tr>\n",
              "    <tr>\n",
              "      <th>4</th>\n",
              "      <td>1015700</td>\n",
              "      <td>1</td>\n",
              "      <td>0</td>\n",
              "      <td>276</td>\n",
              "      <td>5</td>\n",
              "      <td>14</td>\n",
              "    </tr>\n",
              "    <tr>\n",
              "      <th>...</th>\n",
              "      <td>...</td>\n",
              "      <td>...</td>\n",
              "      <td>...</td>\n",
              "      <td>...</td>\n",
              "      <td>...</td>\n",
              "      <td>...</td>\n",
              "    </tr>\n",
              "    <tr>\n",
              "      <th>588106</th>\n",
              "      <td>1496403</td>\n",
              "      <td>1</td>\n",
              "      <td>0</td>\n",
              "      <td>24</td>\n",
              "      <td>2</td>\n",
              "      <td>19</td>\n",
              "    </tr>\n",
              "    <tr>\n",
              "      <th>588107</th>\n",
              "      <td>1496404</td>\n",
              "      <td>1</td>\n",
              "      <td>0</td>\n",
              "      <td>199</td>\n",
              "      <td>6</td>\n",
              "      <td>19</td>\n",
              "    </tr>\n",
              "    <tr>\n",
              "      <th>588108</th>\n",
              "      <td>1496405</td>\n",
              "      <td>1</td>\n",
              "      <td>0</td>\n",
              "      <td>211</td>\n",
              "      <td>6</td>\n",
              "      <td>15</td>\n",
              "    </tr>\n",
              "    <tr>\n",
              "      <th>588109</th>\n",
              "      <td>1496406</td>\n",
              "      <td>1</td>\n",
              "      <td>0</td>\n",
              "      <td>98</td>\n",
              "      <td>5</td>\n",
              "      <td>19</td>\n",
              "    </tr>\n",
              "    <tr>\n",
              "      <th>588110</th>\n",
              "      <td>1496407</td>\n",
              "      <td>1</td>\n",
              "      <td>0</td>\n",
              "      <td>19</td>\n",
              "      <td>2</td>\n",
              "      <td>19</td>\n",
              "    </tr>\n",
              "  </tbody>\n",
              "</table>\n",
              "<p>588111 rows × 6 columns</p>\n",
              "</div>"
            ],
            "text/plain": [
              "        user_id  test  converted  tot_impr  mode_impr_day  mode_impr_hour\n",
              "0       1069124     1          0       130              1              20\n",
              "1       1119715     1          0        93              2              22\n",
              "2       1144181     1          0        21              2              18\n",
              "3       1435133     1          0       355              2              10\n",
              "4       1015700     1          0       276              5              14\n",
              "...         ...   ...        ...       ...            ...             ...\n",
              "588106  1496403     1          0        24              2              19\n",
              "588107  1496404     1          0       199              6              19\n",
              "588108  1496405     1          0       211              6              15\n",
              "588109  1496406     1          0        98              5              19\n",
              "588110  1496407     1          0        19              2              19\n",
              "\n",
              "[588111 rows x 6 columns]"
            ]
          },
          "execution_count": 16,
          "metadata": {},
          "output_type": "execute_result"
        }
      ],
      "source": [
        "# read data (change the path)\n",
        "# ads_data = pd.read_csv('/content/drive/MyDrive/rocketfuel_data.csv')\n",
        "ads_data = pd.read_csv('rocketfuel_data.csv')\n",
        "ads_data\n"
      ]
    },
    {
      "cell_type": "markdown",
      "id": "c76529a2",
      "metadata": {
        "id": "c76529a2"
      },
      "source": [
        "### 1. ATE and statistical significance.\n",
        "#### 1.a What is the $\\widehat{ATE}$ of the ads on purchases (conversions)? What does the number mean in words?\n"
      ]
    },
    {
      "cell_type": "code",
      "execution_count": null,
      "id": "4013dd2f",
      "metadata": {
        "id": "4013dd2f"
      },
      "outputs": [],
      "source": [
        "# your code here\n"
      ]
    },
    {
      "cell_type": "markdown",
      "id": "o0EAJWhr9SdB",
      "metadata": {
        "id": "o0EAJWhr9SdB"
      },
      "source": [
        "The advertising campaign increases the conversion rate by about 0.77 percentage points."
      ]
    },
    {
      "cell_type": "markdown",
      "id": "56167f1a",
      "metadata": {
        "id": "56167f1a"
      },
      "source": [
        "#### 1.b Did the campaign cause more purchases? Is this difference statistically significant?\n",
        "Hint: Use the pg.ttest function."
      ]
    },
    {
      "cell_type": "code",
      "execution_count": null,
      "id": "dd2e05b5",
      "metadata": {
        "id": "dd2e05b5"
      },
      "outputs": [],
      "source": []
    },
    {
      "cell_type": "markdown",
      "id": "b124a7de",
      "metadata": {
        "id": "b124a7de"
      },
      "source": [
        "### 2. Was the campaign profitable?\n",
        "#### 2.a How much more profit did TaskaBella make **per person** by showing ads (excluding advertising costs)?\n",
        "Hint: the profit per conversion is given on page 2 of the case."
      ]
    },
    {
      "cell_type": "markdown",
      "id": "9656e21a",
      "metadata": {
        "id": "9656e21a"
      },
      "source": [
        "#### 2.b What was the cost of the campaign per person (including the control group)?  \n",
        "Hint: The cost per thousand impressions is $9"
      ]
    },
    {
      "cell_type": "code",
      "execution_count": null,
      "id": "9b1fd122",
      "metadata": {
        "id": "9b1fd122"
      },
      "outputs": [],
      "source": []
    },
    {
      "cell_type": "markdown",
      "id": "8799b9c9",
      "metadata": {
        "id": "8799b9c9"
      },
      "source": [
        "#### 2.c Calculate the ROI of the campaign (including the control group). Was the campaign profitable?  \n",
        "The ROI is calculated by\n",
        "$$\\text{ROI} = \\frac{\\text{Effect on Profits per Person in Campaign} - \\text{Cost of Ads per Person in Campaign}}{\\text{Cost of Ads per Person in Campaign}}$$"
      ]
    },
    {
      "cell_type": "code",
      "execution_count": null,
      "id": "f12ed7f7",
      "metadata": {
        "id": "f12ed7f7"
      },
      "outputs": [],
      "source": []
    },
    {
      "cell_type": "markdown",
      "id": "cd07022b",
      "metadata": {
        "id": "cd07022b"
      },
      "source": [
        "#### 2.d What was the opportunity cost of including a control group --- how much more could TaskaBella have made by not having a control group at all?\n",
        "Hint: The opportunity cost is the profits that TaskaBella missed out by having a control group."
      ]
    },
    {
      "cell_type": "code",
      "execution_count": null,
      "id": "ed746eca",
      "metadata": {
        "id": "ed746eca"
      },
      "outputs": [],
      "source": []
    },
    {
      "cell_type": "markdown",
      "id": "f9060332",
      "metadata": {
        "id": "f9060332"
      },
      "source": [
        "### 3. Did the number of impressions seen by each user influence the effectiveness of advertising?\n",
        "\n",
        "#### 3a. Plot the conversion rate by treatment group and by the number of impressions (groups into ranges, e.g. [0, 100), [100, 500), etc) seen by users."
      ]
    },
    {
      "cell_type": "code",
      "execution_count": null,
      "id": "deb8fe51",
      "metadata": {
        "id": "deb8fe51"
      },
      "outputs": [],
      "source": [
        "# Useful code for creating bins (modify as you like)\n",
        "bins = pd.IntervalIndex.from_tuples([(0,50), (50,100), (100, 200), (200, 300), (300, 400), (400, 500), (500, 10000)])\n",
        "\n",
        "ads_data['group_tot_impr'] = pd.cut(ads_data['tot_impr'], bins)"
      ]
    },
    {
      "cell_type": "code",
      "execution_count": null,
      "id": "3dfbe633",
      "metadata": {
        "id": "3dfbe633"
      },
      "outputs": [],
      "source": []
    },
    {
      "cell_type": "markdown",
      "id": "64bd5aef",
      "metadata": {
        "id": "64bd5aef"
      },
      "source": [
        "#### 3.b Based on the above figure, can we say that more impressions cause more conversions? (No more than 2 sentences)"
      ]
    },
    {
      "cell_type": "markdown",
      "id": "806e769a",
      "metadata": {
        "id": "806e769a"
      },
      "source": [
        "### 4 Calculate the power of this experiment.\n",
        "\n",
        "#### 4.a Calculate Cohen's D without using `pg.ttest`. Cohen's D, in this case, is the estimated average treatment effect on conversion divided by the standard deviation of conversion."
      ]
    },
    {
      "cell_type": "code",
      "execution_count": null,
      "id": "00bf043b",
      "metadata": {
        "id": "00bf043b"
      },
      "outputs": [],
      "source": []
    },
    {
      "cell_type": "markdown",
      "id": "2340e4a0",
      "metadata": {
        "id": "2340e4a0"
      },
      "source": [
        "#### 4.b Use the `power_ttest2n` function in `pingouin` to calculate the statistical power of the experiment."
      ]
    },
    {
      "cell_type": "code",
      "execution_count": null,
      "id": "e5df2042",
      "metadata": {
        "id": "e5df2042"
      },
      "outputs": [],
      "source": []
    },
    {
      "cell_type": "markdown",
      "id": "a302fe03",
      "metadata": {
        "id": "a302fe03"
      },
      "source": [
        "#### 4.c What would the power be instead if the true effect had a cohen's D of .01?"
      ]
    },
    {
      "cell_type": "code",
      "execution_count": null,
      "id": "17ee397c",
      "metadata": {
        "id": "17ee397c"
      },
      "outputs": [],
      "source": []
    },
    {
      "cell_type": "markdown",
      "id": "8d87a53d",
      "metadata": {
        "id": "8d87a53d"
      },
      "source": [
        "#### 4.d What would the power be instead if the true effect had a cohen's of .01 and the sample was equally split between treatment and control?"
      ]
    },
    {
      "cell_type": "code",
      "execution_count": null,
      "id": "82891f94",
      "metadata": {
        "id": "82891f94"
      },
      "outputs": [],
      "source": []
    },
    {
      "cell_type": "markdown",
      "id": "22951e4d",
      "metadata": {
        "id": "22951e4d"
      },
      "source": [
        "### 5. Case Discussion in Class\n",
        "Please write what you would discuss in your presentation to TaskaBella. Your answer should be one paragraph and the paragraph should be five or fewer sentences. Be prepared to discuss in class. Think about what is the most important thing to say to TaskaBella.\n",
        "No additional analysis is needed to answer this question."
      ]
    },
    {
      "cell_type": "markdown",
      "id": "7b0569e4",
      "metadata": {
        "id": "7b0569e4"
      },
      "source": [
        "### How long did this problem set take you in hours? How did you find the level of difficulty?\n"
      ]
    },
    {
      "cell_type": "markdown",
      "id": "2124b7ee",
      "metadata": {
        "id": "2124b7ee"
      },
      "source": []
    }
  ],
  "metadata": {
    "colab": {
      "provenance": [],
      "include_colab_link": true
    },
    "kernelspec": {
      "display_name": "Python 3",
      "language": "python",
      "name": "python3"
    },
    "language_info": {
      "codemirror_mode": {
        "name": "ipython",
        "version": 3
      },
      "file_extension": ".py",
      "mimetype": "text/x-python",
      "name": "python",
      "nbconvert_exporter": "python",
      "pygments_lexer": "ipython3",
      "version": "3.11.4"
    }
  },
  "nbformat": 4,
  "nbformat_minor": 5
}