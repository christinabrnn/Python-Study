{
  "nbformat": 4,
  "nbformat_minor": 0,
  "metadata": {
    "colab": {
      "provenance": [],
      "include_colab_link": true
    },
    "kernelspec": {
      "name": "python3",
      "display_name": "Python 3"
    },
    "language_info": {
      "name": "python"
    }
  },
  "cells": [
    {
      "cell_type": "markdown",
      "metadata": {
        "id": "view-in-github",
        "colab_type": "text"
      },
      "source": [
        "<a href=\"https://colab.research.google.com/github/christinabrnn/Python-Study/blob/main/Neural%20Network/2_1_Tensors_and_Operations.ipynb\" target=\"_parent\"><img src=\"https://colab.research.google.com/assets/colab-badge.svg\" alt=\"Open In Colab\"/></a>"
      ]
    },
    {
      "cell_type": "markdown",
      "source": [
        "#**Tensors**\n"
      ],
      "metadata": {
        "id": "O1LXIS528Eu1"
      }
    },
    {
      "cell_type": "markdown",
      "source": [
        "We are now going to step through basic elements that are crucial to neural networks, starting with the concept of tensors."
      ],
      "metadata": {
        "id": "bkGsA5MG8IQO"
      }
    },
    {
      "cell_type": "code",
      "source": [
        "from tensorflow.keras.datasets import mnist\n",
        "#mnist: dataset of handwritten digits (0-9) sample from 3blue 1brown\n",
        "\n",
        "from matplotlib import pyplot as plt\n",
        "import numpy as np\n",
        "\n",
        "(train_images, train_labels), (test_images, test_labels) = mnist.load_data()\n",
        "#splitting images and labels into train and test sets (mnist is pre-split)\n",
        "#usually need to use X_train, X_test, y_train, y_test = train_test_split(X, y, test_size = 0.2, randomstate = 42)"
      ],
      "metadata": {
        "id": "aXYIqMSe8kAI"
      },
      "execution_count": 23,
      "outputs": []
    },
    {
      "cell_type": "markdown",
      "source": [
        "Here are the dimensions, shape, and data type associated with our training dataset. This training data is a rank-3 tensor (a cube-like data structure).\n",
        "\n",
        "*Q: What is another word for a rank-2 tensor?*\n",
        "\n",
        "Matrix\n"
      ],
      "metadata": {
        "id": "aVDYlqjV9gKE"
      }
    },
    {
      "cell_type": "code",
      "source": [
        "print(\"Dimensions:\", train_images.ndim,\"\\nShape:\",train_images.shape,\"\\nData Type:\",train_images.dtype)"
      ],
      "metadata": {
        "colab": {
          "base_uri": "https://localhost:8080/"
        },
        "id": "8UkyoYjX8mGy",
        "outputId": "16ff7c9d-a26d-4af0-d329-b0b1785f30ce"
      },
      "execution_count": 24,
      "outputs": [
        {
          "output_type": "stream",
          "name": "stdout",
          "text": [
            "Dimensions: 3 \n",
            "Shape: (60000, 28, 28) \n",
            "Data Type: uint8\n"
          ]
        }
      ]
    },
    {
      "cell_type": "code",
      "source": [
        "print(\"Dimensions:\", test_images.ndim,\"\\nShape:\",test_images.shape,\"\\nData Type:\",test_images.dtype)"
      ],
      "metadata": {
        "colab": {
          "base_uri": "https://localhost:8080/"
        },
        "id": "Dir1yYM0Hb4f",
        "outputId": "d3c48253-0965-4e6f-abff-0c635b3fc2b3"
      },
      "execution_count": 25,
      "outputs": [
        {
          "output_type": "stream",
          "name": "stdout",
          "text": [
            "Dimensions: 3 \n",
            "Shape: (10000, 28, 28) \n",
            "Data Type: uint8\n"
          ]
        }
      ]
    },
    {
      "cell_type": "markdown",
      "source": [
        "Once again, let's plot what some of these pixel arrays translate to visually. Syntax for plt.subplot() here is: (rows, columns, index position where you want to display the image).\n",
        "\n",
        "*Q: Why do we have 1+i here?*\n",
        "\n",
        "- plt.subplot(nrows,ncols, index)\n",
        "\n",
        "the third argument 1+i indicates the position of the current subplot that starts from 1 not 0"
      ],
      "metadata": {
        "id": "-PDUlvwG_ZXe"
      }
    },
    {
      "cell_type": "code",
      "source": [
        "for i in range(3):\n",
        "\t# define subplot\n",
        "\tplt.subplot(1,3,1+i)\n",
        "\t# plot raw pixel data\n",
        "\tplt.imshow(train_images[i], cmap=plt.get_cmap('binary'))\n",
        "# show the figure\n",
        "plt.show()"
      ],
      "metadata": {
        "colab": {
          "base_uri": "https://localhost:8080/",
          "height": 209
        },
        "id": "AaAx0a_e9_gN",
        "outputId": "92f6ed84-673e-4b4b-be67-685390976939"
      },
      "execution_count": 26,
      "outputs": [
        {
          "output_type": "display_data",
          "data": {
            "text/plain": [
              "<Figure size 640x480 with 3 Axes>"
            ],
            "image/png": "[encoded data removed]"
          },
          "metadata": {}
        }
      ]
    },
    {
      "cell_type": "markdown",
      "source": [
        "And the corresponding labels are what we would expect.\n",
        "\n",
        "*Q: why do we only get 3 values here, despite that we requested indices 0, 1, 2 and 3 from the vector?*\n",
        "\n",
        "the range(3) only takes 0,1,2 from the vector. The input number is not considered"
      ],
      "metadata": {
        "id": "ldD6vAan_nrY"
      }
    },
    {
      "cell_type": "code",
      "source": [
        "print(train_labels[0:3])"
      ],
      "metadata": {
        "colab": {
          "base_uri": "https://localhost:8080/"
        },
        "id": "NkQ_XOSq_pKn",
        "outputId": "59b77bc8-4a58-4a63-b872-bb7bb9d0f8ce"
      },
      "execution_count": 27,
      "outputs": [
        {
          "output_type": "stream",
          "name": "stdout",
          "text": [
            "[5 0 4]\n"
          ]
        }
      ]
    },
    {
      "cell_type": "markdown",
      "source": [
        "We can also retrieve a subset of images from the training data in a similar fashion. For a rank-3 tensor, there are technically 3 index arguments. If you only provide 1, the other two are assumed to be ':', i.e., return everything."
      ],
      "metadata": {
        "id": "K94SllK0ASJH"
      }
    },
    {
      "cell_type": "code",
      "source": [
        "my_slice = train_images[10:100]\n",
        "my_slice.shape"
      ],
      "metadata": {
        "colab": {
          "base_uri": "https://localhost:8080/"
        },
        "id": "V9XwjWWlAVj7",
        "outputId": "ae797adf-1d44-42da-f518-20755ef7598f"
      },
      "execution_count": 28,
      "outputs": [
        {
          "output_type": "execute_result",
          "data": {
            "text/plain": [
              "(90, 28, 28)"
            ]
          },
          "metadata": {},
          "execution_count": 28
        }
      ]
    },
    {
      "cell_type": "markdown",
      "source": [
        "So, to obtain the top-right quadrant of the eight image in the training data, we could do the following. I'm also demonstrating syntax here for subplot2grid: (dimensions of plot grid), (starting index of figure in grid), rowspan = how many rows to cover in grid, colspan = how many cols to cover in grid."
      ],
      "metadata": {
        "id": "j-wvrzDkAsO2"
      }
    },
    {
      "cell_type": "code",
      "source": [
        "# First we show the whole image...\n",
        "plt.subplot2grid((2,4),(0,0),rowspan=2,colspan=2)\n",
        "#creates a grid of 2 rows and 4 columns start at 0,0 (the top left)\n",
        "#rowspan mean it extend 2 rows down covering row 0 and 1, colspan mean it extend 2 cols right covering col 0 and 1\n",
        "#this defines a 2*4 grid and then takes (0,0) -> (2,2) subplot to show and other subplot can still be added in the remaining space\n",
        "#not used yet\n",
        "\n",
        "plt.imshow(train_images[7],cmap=plt.get_cmap('binary'))\n",
        "#this selects the 8th image from the dataset and shows it in binary colormap (black and white)\n",
        "#plt.imshow() displayes an image"
      ],
      "metadata": {
        "colab": {
          "base_uri": "https://localhost:8080/",
          "height": 317
        },
        "id": "SvbsomIaLsEZ",
        "outputId": "d8e45c68-fa74-48bb-c1ba-3439331b401f"
      },
      "execution_count": 33,
      "outputs": [
        {
          "output_type": "execute_result",
          "data": {
            "text/plain": [
              "<matplotlib.image.AxesImage at 0x7caf909f7850>"
            ]
          },
          "metadata": {},
          "execution_count": 33
        },
        {
          "output_type": "display_data",
          "data": {
            "text/plain": [
              "<Figure size 640x480 with 1 Axes>"
            ],
            "image/png": "[encoded data removed]"
          },
          "metadata": {}
        }
      ]
    },
    {
      "cell_type": "code",
      "source": [
        "# First we show the whole image...\n",
        "plt.subplot2grid((2,4),(0,0),rowspan=2,colspan=2)\n",
        "plt.imshow(train_images[7],cmap=plt.get_cmap('binary'))\n",
        "\n",
        "# and then we show the upper-right quadrant\n",
        "practice = train_images[7,0:14,14:28]\n",
        "#eight image and the rows (height) are 0-13 and columns(width) is 14-27 = the top right corner of image 8 (14*14)\n",
        "\n",
        "plt.subplot2grid((2,4),(0,3))\n",
        "#enabled to show two images (the whole and upper right quadrant) side by side\n",
        "#if using different blocks for each visualization, no need to use this\n",
        "\n",
        "plt.imshow(practice, cmap=plt.get_cmap('binary'))\n",
        "plt.show()"
      ],
      "metadata": {
        "colab": {
          "base_uri": "https://localhost:8080/",
          "height": 225
        },
        "id": "OCrkzsx1Azv1",
        "outputId": "f7dd7277-ca91-434b-9f9d-9285b858c0db"
      },
      "execution_count": null,
      "outputs": [
        {
          "output_type": "display_data",
          "data": {
            "text/plain": [
              "<Figure size 432x288 with 2 Axes>"
            ],
            "image/png": "[encoded data removed]"
          },
          "metadata": {
            "needs_background": "light"
          }
        }
      ]
    },
    {
      "cell_type": "markdown",
      "source": [
        "A common use-case for slices is to extract batches from a dataset during training. So, if I wanted to 'group' the images into a rank-4 tensor, designating batches of images, I could do something like the following (note that this isn't necessarily a useful exercise in practice; we can always just iterate and slice the dataset directly to implement batching)."
      ],
      "metadata": {
        "id": "uk7m9c01FH-6"
      }
    },
    {
      "cell_type": "code",
      "source": [
        "batch_size = 50\n",
        "n_batches = int(len(train_images)/batch_size)\n",
        "batches = np.empty(shape=(n_batches,batch_size,28,28))\n",
        "#1,200 batches and 50 images in each batch, each image is 28*28 pixels\n",
        "\n",
        "for i in range(0,1200):\n",
        "  batches[i] = train_images[i*batch_size:batch_size*(i+1)]\n",
        "\n",
        "batches[5].shape"
      ],
      "metadata": {
        "id": "eYKHUqXoFurM",
        "colab": {
          "base_uri": "https://localhost:8080/"
        },
        "outputId": "6596fa79-cf2a-4ca1-850e-6b51429ac43d"
      },
      "execution_count": 35,
      "outputs": [
        {
          "output_type": "execute_result",
          "data": {
            "text/plain": [
              "(50, 28, 28)"
            ]
          },
          "metadata": {},
          "execution_count": 35
        }
      ]
    },
    {
      "cell_type": "code",
      "source": [
        "batches"
      ],
      "metadata": {
        "colab": {
          "base_uri": "https://localhost:8080/"
        },
        "id": "N4aaxUvLSJpP",
        "outputId": "6e444bde-c194-4174-a7f5-be8c7cc473d6"
      },
      "execution_count": 37,
      "outputs": [
        {
          "output_type": "execute_result",
          "data": {
            "text/plain": [
              "array([[[[0., 0., 0., ..., 0., 0., 0.],\n",
              "         [0., 0., 0., ..., 0., 0., 0.],\n",
              "         [0., 0., 0., ..., 0., 0., 0.],\n",
              "         ...,\n",
              "         [0., 0., 0., ..., 0., 0., 0.],\n",
              "         [0., 0., 0., ..., 0., 0., 0.],\n",
              "         [0., 0., 0., ..., 0., 0., 0.]],\n",
              "\n",
              "        [[0., 0., 0., ..., 0., 0., 0.],\n",
              "         [0., 0., 0., ..., 0., 0., 0.],\n",
              "         [0., 0., 0., ..., 0., 0., 0.],\n",
              "         ...,\n",
              "         [0., 0., 0., ..., 0., 0., 0.],\n",
              "         [0., 0., 0., ..., 0., 0., 0.],\n",
              "         [0., 0., 0., ..., 0., 0., 0.]],\n",
              "\n",
              "        [[0., 0., 0., ..., 0., 0., 0.],\n",
              "         [0., 0., 0., ..., 0., 0., 0.],\n",
              "         [0., 0., 0., ..., 0., 0., 0.],\n",
              "         ...,\n",
              "         [0., 0., 0., ..., 0., 0., 0.],\n",
              "         [0., 0., 0., ..., 0., 0., 0.],\n",
              "         [0., 0., 0., ..., 0., 0., 0.]],\n",
              "\n",
              "        ...,\n",
              "\n",
              "        [[0., 0., 0., ..., 0., 0., 0.],\n",
              "         [0., 0., 0., ..., 0., 0., 0.],\n",
              "         [0., 0., 0., ..., 0., 0., 0.],\n",
              "         ...,\n",
              "         [0., 0., 0., ..., 0., 0., 0.],\n",
              "         [0., 0., 0., ..., 0., 0., 0.],\n",
              "         [0., 0., 0., ..., 0., 0., 0.]],\n",
              "\n",
              "        [[0., 0., 0., ..., 0., 0., 0.],\n",
              "         [0., 0., 0., ..., 0., 0., 0.],\n",
              "         [0., 0., 0., ..., 0., 0., 0.],\n",
              "         ...,\n",
              "         [0., 0., 0., ..., 0., 0., 0.],\n",
              "         [0., 0., 0., ..., 0., 0., 0.],\n",
              "         [0., 0., 0., ..., 0., 0., 0.]],\n",
              "\n",
              "        [[0., 0., 0., ..., 0., 0., 0.],\n",
              "         [0., 0., 0., ..., 0., 0., 0.],\n",
              "         [0., 0., 0., ..., 0., 0., 0.],\n",
              "         ...,\n",
              "         [0., 0., 0., ..., 0., 0., 0.],\n",
              "         [0., 0., 0., ..., 0., 0., 0.],\n",
              "         [0., 0., 0., ..., 0., 0., 0.]]],\n",
              "\n",
              "\n",
              "       [[[0., 0., 0., ..., 0., 0., 0.],\n",
              "         [0., 0., 0., ..., 0., 0., 0.],\n",
              "         [0., 0., 0., ..., 0., 0., 0.],\n",
              "         ...,\n",
              "         [0., 0., 0., ..., 0., 0., 0.],\n",
              "         [0., 0., 0., ..., 0., 0., 0.],\n",
              "         [0., 0., 0., ..., 0., 0., 0.]],\n",
              "\n",
              "        [[0., 0., 0., ..., 0., 0., 0.],\n",
              "         [0., 0., 0., ..., 0., 0., 0.],\n",
              "         [0., 0., 0., ..., 0., 0., 0.],\n",
              "         ...,\n",
              "         [0., 0., 0., ..., 0., 0., 0.],\n",
              "         [0., 0., 0., ..., 0., 0., 0.],\n",
              "         [0., 0., 0., ..., 0., 0., 0.]],\n",
              "\n",
              "        [[0., 0., 0., ..., 0., 0., 0.],\n",
              "         [0., 0., 0., ..., 0., 0., 0.],\n",
              "         [0., 0., 0., ..., 0., 0., 0.],\n",
              "         ...,\n",
              "         [0., 0., 0., ..., 0., 0., 0.],\n",
              "         [0., 0., 0., ..., 0., 0., 0.],\n",
              "         [0., 0., 0., ..., 0., 0., 0.]],\n",
              "\n",
              "        ...,\n",
              "\n",
              "        [[0., 0., 0., ..., 0., 0., 0.],\n",
              "         [0., 0., 0., ..., 0., 0., 0.],\n",
              "         [0., 0., 0., ..., 0., 0., 0.],\n",
              "         ...,\n",
              "         [0., 0., 0., ..., 0., 0., 0.],\n",
              "         [0., 0., 0., ..., 0., 0., 0.],\n",
              "         [0., 0., 0., ..., 0., 0., 0.]],\n",
              "\n",
              "        [[0., 0., 0., ..., 0., 0., 0.],\n",
              "         [0., 0., 0., ..., 0., 0., 0.],\n",
              "         [0., 0., 0., ..., 0., 0., 0.],\n",
              "         ...,\n",
              "         [0., 0., 0., ..., 0., 0., 0.],\n",
              "         [0., 0., 0., ..., 0., 0., 0.],\n",
              "         [0., 0., 0., ..., 0., 0., 0.]],\n",
              "\n",
              "        [[0., 0., 0., ..., 0., 0., 0.],\n",
              "         [0., 0., 0., ..., 0., 0., 0.],\n",
              "         [0., 0., 0., ..., 0., 0., 0.],\n",
              "         ...,\n",
              "         [0., 0., 0., ..., 0., 0., 0.],\n",
              "         [0., 0., 0., ..., 0., 0., 0.],\n",
              "         [0., 0., 0., ..., 0., 0., 0.]]],\n",
              "\n",
              "\n",
              "       [[[0., 0., 0., ..., 0., 0., 0.],\n",
              "         [0., 0., 0., ..., 0., 0., 0.],\n",
              "         [0., 0., 0., ..., 0., 0., 0.],\n",
              "         ...,\n",
              "         [0., 0., 0., ..., 0., 0., 0.],\n",
              "         [0., 0., 0., ..., 0., 0., 0.],\n",
              "         [0., 0., 0., ..., 0., 0., 0.]],\n",
              "\n",
              "        [[0., 0., 0., ..., 0., 0., 0.],\n",
              "         [0., 0., 0., ..., 0., 0., 0.],\n",
              "         [0., 0., 0., ..., 0., 0., 0.],\n",
              "         ...,\n",
              "         [0., 0., 0., ..., 0., 0., 0.],\n",
              "         [0., 0., 0., ..., 0., 0., 0.],\n",
              "         [0., 0., 0., ..., 0., 0., 0.]],\n",
              "\n",
              "        [[0., 0., 0., ..., 0., 0., 0.],\n",
              "         [0., 0., 0., ..., 0., 0., 0.],\n",
              "         [0., 0., 0., ..., 0., 0., 0.],\n",
              "         ...,\n",
              "         [0., 0., 0., ..., 0., 0., 0.],\n",
              "         [0., 0., 0., ..., 0., 0., 0.],\n",
              "         [0., 0., 0., ..., 0., 0., 0.]],\n",
              "\n",
              "        ...,\n",
              "\n",
              "        [[0., 0., 0., ..., 0., 0., 0.],\n",
              "         [0., 0., 0., ..., 0., 0., 0.],\n",
              "         [0., 0., 0., ..., 0., 0., 0.],\n",
              "         ...,\n",
              "         [0., 0., 0., ..., 0., 0., 0.],\n",
              "         [0., 0., 0., ..., 0., 0., 0.],\n",
              "         [0., 0., 0., ..., 0., 0., 0.]],\n",
              "\n",
              "        [[0., 0., 0., ..., 0., 0., 0.],\n",
              "         [0., 0., 0., ..., 0., 0., 0.],\n",
              "         [0., 0., 0., ..., 0., 0., 0.],\n",
              "         ...,\n",
              "         [0., 0., 0., ..., 0., 0., 0.],\n",
              "         [0., 0., 0., ..., 0., 0., 0.],\n",
              "         [0., 0., 0., ..., 0., 0., 0.]],\n",
              "\n",
              "        [[0., 0., 0., ..., 0., 0., 0.],\n",
              "         [0., 0., 0., ..., 0., 0., 0.],\n",
              "         [0., 0., 0., ..., 0., 0., 0.],\n",
              "         ...,\n",
              "         [0., 0., 0., ..., 0., 0., 0.],\n",
              "         [0., 0., 0., ..., 0., 0., 0.],\n",
              "         [0., 0., 0., ..., 0., 0., 0.]]],\n",
              "\n",
              "\n",
              "       ...,\n",
              "\n",
              "\n",
              "       [[[0., 0., 0., ..., 0., 0., 0.],\n",
              "         [0., 0., 0., ..., 0., 0., 0.],\n",
              "         [0., 0., 0., ..., 0., 0., 0.],\n",
              "         ...,\n",
              "         [0., 0., 0., ..., 0., 0., 0.],\n",
              "         [0., 0., 0., ..., 0., 0., 0.],\n",
              "         [0., 0., 0., ..., 0., 0., 0.]],\n",
              "\n",
              "        [[0., 0., 0., ..., 0., 0., 0.],\n",
              "         [0., 0., 0., ..., 0., 0., 0.],\n",
              "         [0., 0., 0., ..., 0., 0., 0.],\n",
              "         ...,\n",
              "         [0., 0., 0., ..., 0., 0., 0.],\n",
              "         [0., 0., 0., ..., 0., 0., 0.],\n",
              "         [0., 0., 0., ..., 0., 0., 0.]],\n",
              "\n",
              "        [[0., 0., 0., ..., 0., 0., 0.],\n",
              "         [0., 0., 0., ..., 0., 0., 0.],\n",
              "         [0., 0., 0., ..., 0., 0., 0.],\n",
              "         ...,\n",
              "         [0., 0., 0., ..., 0., 0., 0.],\n",
              "         [0., 0., 0., ..., 0., 0., 0.],\n",
              "         [0., 0., 0., ..., 0., 0., 0.]],\n",
              "\n",
              "        ...,\n",
              "\n",
              "        [[0., 0., 0., ..., 0., 0., 0.],\n",
              "         [0., 0., 0., ..., 0., 0., 0.],\n",
              "         [0., 0., 0., ..., 0., 0., 0.],\n",
              "         ...,\n",
              "         [0., 0., 0., ..., 0., 0., 0.],\n",
              "         [0., 0., 0., ..., 0., 0., 0.],\n",
              "         [0., 0., 0., ..., 0., 0., 0.]],\n",
              "\n",
              "        [[0., 0., 0., ..., 0., 0., 0.],\n",
              "         [0., 0., 0., ..., 0., 0., 0.],\n",
              "         [0., 0., 0., ..., 0., 0., 0.],\n",
              "         ...,\n",
              "         [0., 0., 0., ..., 0., 0., 0.],\n",
              "         [0., 0., 0., ..., 0., 0., 0.],\n",
              "         [0., 0., 0., ..., 0., 0., 0.]],\n",
              "\n",
              "        [[0., 0., 0., ..., 0., 0., 0.],\n",
              "         [0., 0., 0., ..., 0., 0., 0.],\n",
              "         [0., 0., 0., ..., 0., 0., 0.],\n",
              "         ...,\n",
              "         [0., 0., 0., ..., 0., 0., 0.],\n",
              "         [0., 0., 0., ..., 0., 0., 0.],\n",
              "         [0., 0., 0., ..., 0., 0., 0.]]],\n",
              "\n",
              "\n",
              "       [[[0., 0., 0., ..., 0., 0., 0.],\n",
              "         [0., 0., 0., ..., 0., 0., 0.],\n",
              "         [0., 0., 0., ..., 0., 0., 0.],\n",
              "         ...,\n",
              "         [0., 0., 0., ..., 0., 0., 0.],\n",
              "         [0., 0., 0., ..., 0., 0., 0.],\n",
              "         [0., 0., 0., ..., 0., 0., 0.]],\n",
              "\n",
              "        [[0., 0., 0., ..., 0., 0., 0.],\n",
              "         [0., 0., 0., ..., 0., 0., 0.],\n",
              "         [0., 0., 0., ..., 0., 0., 0.],\n",
              "         ...,\n",
              "         [0., 0., 0., ..., 0., 0., 0.],\n",
              "         [0., 0., 0., ..., 0., 0., 0.],\n",
              "         [0., 0., 0., ..., 0., 0., 0.]],\n",
              "\n",
              "        [[0., 0., 0., ..., 0., 0., 0.],\n",
              "         [0., 0., 0., ..., 0., 0., 0.],\n",
              "         [0., 0., 0., ..., 0., 0., 0.],\n",
              "         ...,\n",
              "         [0., 0., 0., ..., 0., 0., 0.],\n",
              "         [0., 0., 0., ..., 0., 0., 0.],\n",
              "         [0., 0., 0., ..., 0., 0., 0.]],\n",
              "\n",
              "        ...,\n",
              "\n",
              "        [[0., 0., 0., ..., 0., 0., 0.],\n",
              "         [0., 0., 0., ..., 0., 0., 0.],\n",
              "         [0., 0., 0., ..., 0., 0., 0.],\n",
              "         ...,\n",
              "         [0., 0., 0., ..., 0., 0., 0.],\n",
              "         [0., 0., 0., ..., 0., 0., 0.],\n",
              "         [0., 0., 0., ..., 0., 0., 0.]],\n",
              "\n",
              "        [[0., 0., 0., ..., 0., 0., 0.],\n",
              "         [0., 0., 0., ..., 0., 0., 0.],\n",
              "         [0., 0., 0., ..., 0., 0., 0.],\n",
              "         ...,\n",
              "         [0., 0., 0., ..., 0., 0., 0.],\n",
              "         [0., 0., 0., ..., 0., 0., 0.],\n",
              "         [0., 0., 0., ..., 0., 0., 0.]],\n",
              "\n",
              "        [[0., 0., 0., ..., 0., 0., 0.],\n",
              "         [0., 0., 0., ..., 0., 0., 0.],\n",
              "         [0., 0., 0., ..., 0., 0., 0.],\n",
              "         ...,\n",
              "         [0., 0., 0., ..., 0., 0., 0.],\n",
              "         [0., 0., 0., ..., 0., 0., 0.],\n",
              "         [0., 0., 0., ..., 0., 0., 0.]]],\n",
              "\n",
              "\n",
              "       [[[0., 0., 0., ..., 0., 0., 0.],\n",
              "         [0., 0., 0., ..., 0., 0., 0.],\n",
              "         [0., 0., 0., ..., 0., 0., 0.],\n",
              "         ...,\n",
              "         [0., 0., 0., ..., 0., 0., 0.],\n",
              "         [0., 0., 0., ..., 0., 0., 0.],\n",
              "         [0., 0., 0., ..., 0., 0., 0.]],\n",
              "\n",
              "        [[0., 0., 0., ..., 0., 0., 0.],\n",
              "         [0., 0., 0., ..., 0., 0., 0.],\n",
              "         [0., 0., 0., ..., 0., 0., 0.],\n",
              "         ...,\n",
              "         [0., 0., 0., ..., 0., 0., 0.],\n",
              "         [0., 0., 0., ..., 0., 0., 0.],\n",
              "         [0., 0., 0., ..., 0., 0., 0.]],\n",
              "\n",
              "        [[0., 0., 0., ..., 0., 0., 0.],\n",
              "         [0., 0., 0., ..., 0., 0., 0.],\n",
              "         [0., 0., 0., ..., 0., 0., 0.],\n",
              "         ...,\n",
              "         [0., 0., 0., ..., 0., 0., 0.],\n",
              "         [0., 0., 0., ..., 0., 0., 0.],\n",
              "         [0., 0., 0., ..., 0., 0., 0.]],\n",
              "\n",
              "        ...,\n",
              "\n",
              "        [[0., 0., 0., ..., 0., 0., 0.],\n",
              "         [0., 0., 0., ..., 0., 0., 0.],\n",
              "         [0., 0., 0., ..., 0., 0., 0.],\n",
              "         ...,\n",
              "         [0., 0., 0., ..., 0., 0., 0.],\n",
              "         [0., 0., 0., ..., 0., 0., 0.],\n",
              "         [0., 0., 0., ..., 0., 0., 0.]],\n",
              "\n",
              "        [[0., 0., 0., ..., 0., 0., 0.],\n",
              "         [0., 0., 0., ..., 0., 0., 0.],\n",
              "         [0., 0., 0., ..., 0., 0., 0.],\n",
              "         ...,\n",
              "         [0., 0., 0., ..., 0., 0., 0.],\n",
              "         [0., 0., 0., ..., 0., 0., 0.],\n",
              "         [0., 0., 0., ..., 0., 0., 0.]],\n",
              "\n",
              "        [[0., 0., 0., ..., 0., 0., 0.],\n",
              "         [0., 0., 0., ..., 0., 0., 0.],\n",
              "         [0., 0., 0., ..., 0., 0., 0.],\n",
              "         ...,\n",
              "         [0., 0., 0., ..., 0., 0., 0.],\n",
              "         [0., 0., 0., ..., 0., 0., 0.],\n",
              "         [0., 0., 0., ..., 0., 0., 0.]]]])"
            ]
          },
          "metadata": {},
          "execution_count": 37
        }
      ]
    },
    {
      "cell_type": "markdown",
      "source": [
        "#*Dot Product*"
      ],
      "metadata": {
        "id": "Bap5A5WWL1hR"
      }
    },
    {
      "cell_type": "markdown",
      "source": [
        "First, let's look at dot products. These are implemented as part of our forward pass on the network, to generate a prediction based on current weight values. For any given node, we need to multiply the inputs by the weights. We do this for a whole layer of neurons at the same time, via matrix multiplication."
      ],
      "metadata": {
        "id": "QdqppLFKMAQB"
      }
    },
    {
      "cell_type": "code",
      "source": [
        "a = np.array([[1,2],[3,4]])\n",
        "b = np.array([[2],[3]])\n",
        "\n",
        "def dot(v1, v2):\n",
        "  return sum(x*y for x,y in zip(v1, v2))\n",
        "\n",
        "#wrong output because zip pairs elements row-wise\n",
        "#doesn't treat b as vectors but as scalars\n",
        "dot(a,b)"
      ],
      "metadata": {
        "colab": {
          "base_uri": "https://localhost:8080/"
        },
        "id": "71SBIxzNUGiO",
        "outputId": "46810dc1-aadb-4a55-db99-9851ec7c5276"
      },
      "execution_count": 39,
      "outputs": [
        {
          "output_type": "execute_result",
          "data": {
            "text/plain": [
              "array([11, 16])"
            ]
          },
          "metadata": {},
          "execution_count": 39
        }
      ]
    },
    {
      "cell_type": "code",
      "source": [
        "a = np.array([[1,2],[3,4]])\n",
        "b = np.array([[2],[3]])\n",
        "# 2x2 and 2x1 so column count of a matches row count of b!\n",
        "#outcome is 2*1\n",
        "\n",
        "# This is sequential execution of a matrix dot product, i.e., using a for loop.\n",
        "def dot(v1, v2):\n",
        "  return sum(x*y for x, y in zip(v1, v2))\n",
        "#use zip(v1,v2) because they're matrixs so need to add np.dot(a,b) or do a[0,:], b[:,0] to make it correctly work\n",
        "\n",
        "print(dot(a[0,:],b[:,0])) #need to indicate rows 0\n",
        "print(dot(a[1,:],b[:,0])) #need to indicate rows 1\n",
        "#zip(a,b) does not perform matrix multiplication correctly\n",
        "\n",
        "# And here is the vectorized equivalent via NumPy\n",
        "print(np.dot(a,b))"
      ],
      "metadata": {
        "colab": {
          "base_uri": "https://localhost:8080/"
        },
        "id": "tdH9QVViuqQt",
        "outputId": "294f9816-d0e0-4b7d-c081-6be462e497c5"
      },
      "execution_count": 40,
      "outputs": [
        {
          "output_type": "stream",
          "name": "stdout",
          "text": [
            "8\n",
            "18\n",
            "[[ 8]\n",
            " [18]]\n"
          ]
        }
      ]
    },
    {
      "cell_type": "markdown",
      "source": [
        "#*Addition & Broadcasting*"
      ],
      "metadata": {
        "id": "Jgt7a9Y9MWV4"
      }
    },
    {
      "cell_type": "markdown",
      "source": [
        "Next, let's look at matrix addition and the concept of broadcasting. We will start with a scalar."
      ],
      "metadata": {
        "id": "wKvG8YRuMapZ"
      }
    },
    {
      "cell_type": "code",
      "source": [
        "# The random.rand() function generates an array of the specified dimensions with random values.\n",
        "a = np.random.rand(3,2)\n",
        "print(\"Here is the original matrix:\\n\",a,\"\\n\")\n",
        "b = 5\n",
        "print(\"And, here is the matrix plus the scalar:\\n\", a+b)"
      ],
      "metadata": {
        "colab": {
          "base_uri": "https://localhost:8080/"
        },
        "id": "wxZ0CXpElbOC",
        "outputId": "4ac25ae0-fc98-4596-a913-8fdbb070b180"
      },
      "execution_count": null,
      "outputs": [
        {
          "output_type": "stream",
          "name": "stdout",
          "text": [
            "Here is the original matrix:\n",
            " [[0.15906373 0.34318764]\n",
            " [0.84300277 0.39253277]\n",
            " [0.77490685 0.2706931 ]] \n",
            "\n",
            "And, here is the matrix plus the scalar:\n",
            " [[5.15906373 5.34318764]\n",
            " [5.84300277 5.39253277]\n",
            " [5.77490685 5.2706931 ]]\n"
          ]
        }
      ]
    },
    {
      "cell_type": "markdown",
      "source": [
        "Okay, let's do it with a vector now:"
      ],
      "metadata": {
        "id": "NUXwlQl-m5xX"
      }
    },
    {
      "cell_type": "code",
      "source": [
        "c = np.random.rand(1,2)\n",
        "print(\"Recall that a is:\\n\",a,\"\\n\")\n",
        "print(\"Now we make vector c:\\n\",c,\"\\n\")\n",
        "print(\"When we add a to c, c will be broadcast (copied) to create a matrix of appropriate size. So, c becomes:\\n\",c,\"\\n\",c,\"\\n\",c,\"\\n\")\n",
        "print(\"And, then a + c yields:\\n\",a+c)"
      ],
      "metadata": {
        "colab": {
          "base_uri": "https://localhost:8080/"
        },
        "id": "ewwRNCzynAkG",
        "outputId": "2d06e29e-f844-4083-b7bb-b3d0360358f8"
      },
      "execution_count": null,
      "outputs": [
        {
          "output_type": "stream",
          "name": "stdout",
          "text": [
            "Recall that a is:\n",
            " [[0.15906373 0.34318764]\n",
            " [0.84300277 0.39253277]\n",
            " [0.77490685 0.2706931 ]] \n",
            "\n",
            "Now we make vector c:\n",
            " [[0.40935172 0.49150955]] \n",
            "\n",
            "When we add a to c, c will be broadcast (copied) to create a matrix of appropriate size. So, c becomes:\n",
            " [[0.40935172 0.49150955]] \n",
            " [[0.40935172 0.49150955]] \n",
            " [[0.40935172 0.49150955]] \n",
            "\n",
            "And, then a + c yields:\n",
            " [[0.56841545 0.83469719]\n",
            " [1.25235449 0.88404233]\n",
            " [1.18425857 0.76220265]]\n"
          ]
        }
      ]
    }
  ]
}