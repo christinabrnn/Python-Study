{
  "nbformat": 4,
  "nbformat_minor": 0,
  "metadata": {
    "colab": {
      "provenance": [],
      "include_colab_link": true
    },
    "kernelspec": {
      "name": "python3",
      "display_name": "Python 3"
    },
    "language_info": {
      "name": "python"
    },
    "accelerator": "GPU"
  },
  "cells": [
    {
      "cell_type": "markdown",
      "metadata": {
        "id": "view-in-github",
        "colab_type": "text"
      },
      "source": [
        "<a href=\"https://colab.research.google.com/github/christinabrnn/Python-Study/blob/main/Neural%20Network/4_5_Grid_Search_with_Keras.ipynb\" target=\"_parent\"><img src=\"https://colab.research.google.com/assets/colab-badge.svg\" alt=\"Open In Colab\"/></a>"
      ]
    },
    {
      "cell_type": "code",
      "execution_count": null,
      "metadata": {
        "id": "kEUXk5xlvg9e",
        "colab": {
          "base_uri": "https://localhost:8080/"
        },
        "outputId": "fd21cdc8-dd10-4558-f08b-d2b76ba062cb"
      },
      "outputs": [
        {
          "output_type": "stream",
          "name": "stdout",
          "text": [
            "Looking in indexes: https://pypi.org/simple, https://us-python.pkg.dev/colab-wheels/public/simple/\n",
            "Collecting scikeras\n",
            "  Downloading scikeras-0.10.0-py3-none-any.whl (27 kB)\n",
            "Requirement already satisfied: packaging>=0.21 in /usr/local/lib/python3.9/dist-packages (from scikeras) (23.0)\n",
            "Requirement already satisfied: scikit-learn>=1.0.0 in /usr/local/lib/python3.9/dist-packages (from scikeras) (1.2.2)\n",
            "Requirement already satisfied: numpy>=1.17.3 in /usr/local/lib/python3.9/dist-packages (from scikit-learn>=1.0.0->scikeras) (1.22.4)\n",
            "Requirement already satisfied: threadpoolctl>=2.0.0 in /usr/local/lib/python3.9/dist-packages (from scikit-learn>=1.0.0->scikeras) (3.1.0)\n",
            "Requirement already satisfied: joblib>=1.1.1 in /usr/local/lib/python3.9/dist-packages (from scikit-learn>=1.0.0->scikeras) (1.1.1)\n",
            "Requirement already satisfied: scipy>=1.3.2 in /usr/local/lib/python3.9/dist-packages (from scikit-learn>=1.0.0->scikeras) (1.10.1)\n",
            "Installing collected packages: scikeras\n",
            "Successfully installed scikeras-0.10.0\n",
            "Downloading data from https://storage.googleapis.com/tensorflow/tf-keras-datasets/boston_housing.npz\n",
            "57026/57026 [==============================] - 0s 0us/step\n"
          ]
        }
      ],
      "source": [
        "try:\n",
        "    from scikeras.wrappers import KerasRegressor\n",
        "except ImportError:\n",
        "    !pip install scikeras\n",
        "    from scikeras.wrappers import KerasRegressor\n",
        "\n",
        "import tensorflow as tf\n",
        "from tensorflow import keras\n",
        "from tensorflow.keras import layers\n",
        "import sklearn\n",
        "from sklearn.pipeline import Pipeline # for setting up a pre-processing / tuning pipeline.\n",
        "from sklearn.preprocessing import RobustScaler # Here, we are going to normalize inputs (the ML Pipeline framework from sklearn can implement this.)\n",
        "\n",
        "# So, we are going back to the Boston Housing data here.\n",
        "from tensorflow.keras.datasets import boston_housing\n",
        "(train_data, train_targets), (test_data, test_targets) = (boston_housing.load_data())"
      ]
    },
    {
      "cell_type": "markdown",
      "source": [
        "#*Grid Search CV With Keras Model*"
      ],
      "metadata": {
        "id": "Xvf2i7v1zv61"
      }
    },
    {
      "cell_type": "code",
      "source": [
        "# Make sure you set your custom parameters for training as arguments in your model creation function.\n",
        "def create_model(loss=\"mean_squared_error\",optimizer=\"sgd\",activation=\"relu\",units=100,numLayers=2, batch_size=10):\n",
        "\n",
        "    # I beleve that you need to explicitly declare an input layer for the scikeras wrapper to work...\n",
        "    model = keras.Sequential([\n",
        "        layers.Input(train_data.shape[1]),\n",
        "        layers.Dense(units, activation=\"relu\")\n",
        "    ])\n",
        "\n",
        "    if numLayers == 2:\n",
        "        model.add(layers.Dense(units, activation=\"relu\"))\n",
        "\n",
        "    model.add(layers.Dense(1, activation=activation))\n",
        "\n",
        "    model.compile(loss=loss,optimizer=optimizer, metrics=['mse'])\n",
        "    return model\n",
        "\n",
        "# You also need to specify the 'custom' parameters here that you want to add, for them to show up as a trainable parameter in GridSearchCV.\n",
        "regf = KerasRegressor(model=create_model, loss=\"mean_squared_error\", optimizer=\"adam\", activation=\"relu\", units=100, numLayers=2, batch_size=10, verbose=0)\n",
        "\n",
        "# Note you can also do a grid search over an sklearn pipeline, so you can search over diferent types of data pre-processing approaches too!\n",
        "#ml_pipeline = Pipeline([(\"Normalize_with_centering\", RobustScaler()), (\"Model\", regf)])\n",
        "\n",
        "# Here are the configurable parameters we can now search over for either object.\n",
        "print(regf.get_params().keys())\n",
        "#print(ml_pipeline.get_params().keys())"
      ],
      "metadata": {
        "id": "dpJeCA_BvdCj",
        "colab": {
          "base_uri": "https://localhost:8080/"
        },
        "outputId": "9b8a0049-1fac-4da0-f6d1-862d921cee6e"
      },
      "execution_count": null,
      "outputs": [
        {
          "output_type": "stream",
          "name": "stdout",
          "text": [
            "dict_keys(['model', 'build_fn', 'warm_start', 'random_state', 'optimizer', 'loss', 'metrics', 'batch_size', 'validation_batch_size', 'verbose', 'callbacks', 'validation_split', 'shuffle', 'run_eagerly', 'epochs', 'activation', 'units', 'numLayers'])\n"
          ]
        }
      ]
    },
    {
      "cell_type": "markdown",
      "source": [
        "And this is how I would invoke my grid search..."
      ],
      "metadata": {
        "id": "twEp-TV23rUM"
      }
    },
    {
      "cell_type": "code",
      "source": [
        "from sklearn.model_selection import GridSearchCV\n",
        "import numpy as np\n",
        "\n",
        "# Because we are creating the models but are not compiling them yet (we will let the grid fit compile the models on the fly),\n",
        "# this will produce a bunch of warnings. I'm just suppressing the warnings.\n",
        "#import logging, os\n",
        "#logging.disable(logging.WARNING)\n",
        "#os.environ[\"TF_CPP_MIN_LOG_LEVEL\"] = \"3\"\n",
        "\n",
        "params = {\n",
        "    \"numLayers\": [1,2],\n",
        "    \"units\": [10,50,100,150],\n",
        "    \"activation\": ['relu','selu',None],\n",
        "    \"batch_size\": [25,50],\n",
        "    \"epochs\": [10,20,30]\n",
        "}\n",
        "\n",
        "params_pipe = {\n",
        "    \"Model__numLayers\": [1,2],\n",
        "    \"Model__units\": [10,100,500],\n",
        "    \"Model__activation\": ['relu','selu',None],\n",
        "    \"Model__batch_size\": [25,50],\n",
        "    \"Model__epochs\":[10,20,30]\n",
        "}\n",
        "\n",
        "grid = GridSearchCV(regf, params, scoring='neg_mean_absolute_error',verbose=0,cv=2)\n",
        "#grid = GridSearchCV(ml_pipeline, params_pipe, scoring='neg_mean_absolute_error',verbose=0,cv=2)\n",
        "\n",
        "grid.fit(train_data, train_targets)"
      ],
      "metadata": {
        "id": "CLhnTa921I0-",
        "colab": {
          "base_uri": "https://localhost:8080/",
          "height": 116
        },
        "outputId": "6be437d5-5b73-4453-c49a-01e6ea4dc1ea"
      },
      "execution_count": null,
      "outputs": [
        {
          "output_type": "execute_result",
          "data": {
            "text/plain": [
              "GridSearchCV(cv=2,\n",
              "             estimator=KerasRegressor(activation='relu', batch_size=10, loss='mean_squared_error', model=<function create_model at 0x7f2a85959c10>, numLayers=2, optimizer='adam', units=100, verbose=0),\n",
              "             param_grid={'numLayers': [1, 2], 'units': [10, 50, 100, 150]},\n",
              "             scoring='neg_mean_absolute_error')"
            ],
            "text/html": [
              "<style>#sk-container-id-1 {color: black;background-color: white;}#sk-container-id-1 pre{padding: 0;}#sk-container-id-1 div.sk-toggleable {background-color: white;}#sk-container-id-1 label.sk-toggleable__label {cursor: pointer;display: block;width: 100%;margin-bottom: 0;padding: 0.3em;box-sizing: border-box;text-align: center;}#sk-container-id-1 label.sk-toggleable__label-arrow:before {content: \"▸\";float: left;margin-right: 0.25em;color: #696969;}#sk-container-id-1 label.sk-toggleable__label-arrow:hover:before {color: black;}#sk-container-id-1 div.sk-estimator:hover label.sk-toggleable__label-arrow:before {color: black;}#sk-container-id-1 div.sk-toggleable__content {max-height: 0;max-width: 0;overflow: hidden;text-align: left;background-color: #f0f8ff;}#sk-container-id-1 div.sk-toggleable__content pre {margin: 0.2em;color: black;border-radius: 0.25em;background-color: #f0f8ff;}#sk-container-id-1 input.sk-toggleable__control:checked~div.sk-toggleable__content {max-height: 200px;max-width: 100%;overflow: auto;}#sk-container-id-1 input.sk-toggleable__control:checked~label.sk-toggleable__label-arrow:before {content: \"▾\";}#sk-container-id-1 div.sk-estimator input.sk-toggleable__control:checked~label.sk-toggleable__label {background-color: #d4ebff;}#sk-container-id-1 div.sk-label input.sk-toggleable__control:checked~label.sk-toggleable__label {background-color: #d4ebff;}#sk-container-id-1 input.sk-hidden--visually {border: 0;clip: rect(1px 1px 1px 1px);clip: rect(1px, 1px, 1px, 1px);height: 1px;margin: -1px;overflow: hidden;padding: 0;position: absolute;width: 1px;}#sk-container-id-1 div.sk-estimator {font-family: monospace;background-color: #f0f8ff;border: 1px dotted black;border-radius: 0.25em;box-sizing: border-box;margin-bottom: 0.5em;}#sk-container-id-1 div.sk-estimator:hover {background-color: #d4ebff;}#sk-container-id-1 div.sk-parallel-item::after {content: \"\";width: 100%;border-bottom: 1px solid gray;flex-grow: 1;}#sk-container-id-1 div.sk-label:hover label.sk-toggleable__label {background-color: #d4ebff;}#sk-container-id-1 div.sk-serial::before {content: \"\";position: absolute;border-left: 1px solid gray;box-sizing: border-box;top: 0;bottom: 0;left: 50%;z-index: 0;}#sk-container-id-1 div.sk-serial {display: flex;flex-direction: column;align-items: center;background-color: white;padding-right: 0.2em;padding-left: 0.2em;position: relative;}#sk-container-id-1 div.sk-item {position: relative;z-index: 1;}#sk-container-id-1 div.sk-parallel {display: flex;align-items: stretch;justify-content: center;background-color: white;position: relative;}#sk-container-id-1 div.sk-item::before, #sk-container-id-1 div.sk-parallel-item::before {content: \"\";position: absolute;border-left: 1px solid gray;box-sizing: border-box;top: 0;bottom: 0;left: 50%;z-index: -1;}#sk-container-id-1 div.sk-parallel-item {display: flex;flex-direction: column;z-index: 1;position: relative;background-color: white;}#sk-container-id-1 div.sk-parallel-item:first-child::after {align-self: flex-end;width: 50%;}#sk-container-id-1 div.sk-parallel-item:last-child::after {align-self: flex-start;width: 50%;}#sk-container-id-1 div.sk-parallel-item:only-child::after {width: 0;}#sk-container-id-1 div.sk-dashed-wrapped {border: 1px dashed gray;margin: 0 0.4em 0.5em 0.4em;box-sizing: border-box;padding-bottom: 0.4em;background-color: white;}#sk-container-id-1 div.sk-label label {font-family: monospace;font-weight: bold;display: inline-block;line-height: 1.2em;}#sk-container-id-1 div.sk-label-container {text-align: center;}#sk-container-id-1 div.sk-container {/* jupyter's `normalize.less` sets `[hidden] { display: none; }` but bootstrap.min.css set `[hidden] { display: none !important; }` so we also need the `!important` here to be able to override the default hidden behavior on the sphinx rendered scikit-learn.org. See: https://github.com/scikit-learn/scikit-learn/issues/21755 */display: inline-block !important;position: relative;}#sk-container-id-1 div.sk-text-repr-fallback {display: none;}</style><div id=\"sk-container-id-1\" class=\"sk-top-container\"><div class=\"sk-text-repr-fallback\"><pre>GridSearchCV(cv=2,\n",
              "             estimator=KerasRegressor(activation=&#x27;relu&#x27;, batch_size=10, loss=&#x27;mean_squared_error&#x27;, model=&lt;function create_model at 0x7f2a85959c10&gt;, numLayers=2, optimizer=&#x27;adam&#x27;, units=100, verbose=0),\n",
              "             param_grid={&#x27;numLayers&#x27;: [1, 2], &#x27;units&#x27;: [10, 50, 100, 150]},\n",
              "             scoring=&#x27;neg_mean_absolute_error&#x27;)</pre><b>In a Jupyter environment, please rerun this cell to show the HTML representation or trust the notebook. <br />On GitHub, the HTML representation is unable to render, please try loading this page with nbviewer.org.</b></div><div class=\"sk-container\" hidden><div class=\"sk-item sk-dashed-wrapped\"><div class=\"sk-label-container\"><div class=\"sk-label sk-toggleable\"><input class=\"sk-toggleable__control sk-hidden--visually\" id=\"sk-estimator-id-1\" type=\"checkbox\" ><label for=\"sk-estimator-id-1\" class=\"sk-toggleable__label sk-toggleable__label-arrow\">GridSearchCV</label><div class=\"sk-toggleable__content\"><pre>GridSearchCV(cv=2,\n",
              "             estimator=KerasRegressor(activation=&#x27;relu&#x27;, batch_size=10, loss=&#x27;mean_squared_error&#x27;, model=&lt;function create_model at 0x7f2a85959c10&gt;, numLayers=2, optimizer=&#x27;adam&#x27;, units=100, verbose=0),\n",
              "             param_grid={&#x27;numLayers&#x27;: [1, 2], &#x27;units&#x27;: [10, 50, 100, 150]},\n",
              "             scoring=&#x27;neg_mean_absolute_error&#x27;)</pre></div></div></div><div class=\"sk-parallel\"><div class=\"sk-parallel-item\"><div class=\"sk-item\"><div class=\"sk-label-container\"><div class=\"sk-label sk-toggleable\"><input class=\"sk-toggleable__control sk-hidden--visually\" id=\"sk-estimator-id-2\" type=\"checkbox\" ><label for=\"sk-estimator-id-2\" class=\"sk-toggleable__label sk-toggleable__label-arrow\">estimator: KerasRegressor</label><div class=\"sk-toggleable__content\"><pre>KerasRegressor(\n",
              "\tmodel=&lt;function create_model at 0x7f2a85959c10&gt;\n",
              "\tbuild_fn=None\n",
              "\twarm_start=False\n",
              "\trandom_state=None\n",
              "\toptimizer=adam\n",
              "\tloss=mean_squared_error\n",
              "\tmetrics=None\n",
              "\tbatch_size=10\n",
              "\tvalidation_batch_size=None\n",
              "\tverbose=0\n",
              "\tcallbacks=None\n",
              "\tvalidation_split=0.0\n",
              "\tshuffle=True\n",
              "\trun_eagerly=False\n",
              "\tepochs=1\n",
              "\tactivation=relu\n",
              "\tunits=100\n",
              "\tnumLayers=2\n",
              ")</pre></div></div></div><div class=\"sk-serial\"><div class=\"sk-item\"><div class=\"sk-estimator sk-toggleable\"><input class=\"sk-toggleable__control sk-hidden--visually\" id=\"sk-estimator-id-3\" type=\"checkbox\" ><label for=\"sk-estimator-id-3\" class=\"sk-toggleable__label sk-toggleable__label-arrow\">KerasRegressor</label><div class=\"sk-toggleable__content\"><pre>KerasRegressor(\n",
              "\tmodel=&lt;function create_model at 0x7f2a85959c10&gt;\n",
              "\tbuild_fn=None\n",
              "\twarm_start=False\n",
              "\trandom_state=None\n",
              "\toptimizer=adam\n",
              "\tloss=mean_squared_error\n",
              "\tmetrics=None\n",
              "\tbatch_size=10\n",
              "\tvalidation_batch_size=None\n",
              "\tverbose=0\n",
              "\tcallbacks=None\n",
              "\tvalidation_split=0.0\n",
              "\tshuffle=True\n",
              "\trun_eagerly=False\n",
              "\tepochs=1\n",
              "\tactivation=relu\n",
              "\tunits=100\n",
              "\tnumLayers=2\n",
              ")</pre></div></div></div></div></div></div></div></div></div></div>"
            ]
          },
          "metadata": {},
          "execution_count": 4
        }
      ]
    },
    {
      "cell_type": "markdown",
      "source": [
        "I can then extract the parameters that yielded the top performance..."
      ],
      "metadata": {
        "id": "L-ZBoMDM3wKF"
      }
    },
    {
      "cell_type": "code",
      "source": [
        "print(f\"Best Score  : {grid.best_score_}\")\n",
        "print(f\"Best Params : {grid.best_params_}\")"
      ],
      "metadata": {
        "id": "UISkU-jewLVB",
        "colab": {
          "base_uri": "https://localhost:8080/"
        },
        "outputId": "47050155-5019-46d0-f55c-274611379bc2"
      },
      "execution_count": null,
      "outputs": [
        {
          "output_type": "stream",
          "name": "stdout",
          "text": [
            "Best Score  : -22.395049504950496\n",
            "Best Params : {'numLayers': 1, 'units': 10}\n"
          ]
        }
      ]
    },
    {
      "cell_type": "markdown",
      "source": [
        "Finally, a little function that looks at pairs of parameter values, and the associated model performance, holding all other parameters to their ideal values."
      ],
      "metadata": {
        "id": "F8X2ajBn32fa"
      }
    }
  ]
}